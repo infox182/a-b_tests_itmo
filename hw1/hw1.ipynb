{
 "cells": [
  {
   "cell_type": "markdown",
   "metadata": {
    "id": "AXmKQEBTyWoH"
   },
   "source": [
    "# ДЗ 1:\n"
   ]
  },
  {
   "cell_type": "markdown",
   "metadata": {
    "id": "v8yTw4KVyaFd"
   },
   "source": [
    "!!!  Все считаем на 1000 итерациях\n",
    "\n",
    "\n",
    "### Дизайн теста бутстреп\n",
    "1. Из interactions взять данные за 2 последние недели (2021-08-09 по 2021-08-22)\n",
    "\n",
    "2. Посчитайте на этих данных корректность на бутстрепе и сравните ее с результатами за 1 неделю (посчитано на семинаре) (2 балла)\n",
    "\n",
    "3. На двух неделях посчитайте мощность. Для этого нужно в одну из групп докинуть эффект. Докиньте эффект в 1%, 3% и 5% и сравните полученную мощность (3 балла за расчет + 2 балла за подроброе объяснение)\n",
    "\n",
    "4. Посчитайте MDE, который можно зафиксировать на 2х неделях. В качестве alpha и beta подставьте ваши вычисленные ошибки 1 и 2 рода. Учитывайте что у нас формула для MDE работает для t-test или z-test (3 балла)\n",
    "\n",
    "\n",
    "### Дизайн продолжение\n",
    "\n",
    "1. Посчитать аналогичный дизайн для:\n",
    "  - бутстреп + логарифмированная метрика длительности просмотров (4 балла)\n",
    "  - манна-уитни + метрика длительности просмотров (4 балла)\n",
    "  - манна-уитни + логарифмированная метрика длительности просмотров (4 балла)\n",
    "  - t-test + метрика длительности просмотров (4 балла)\n",
    "  - t-test + логарифмированная метрика длительности просмотров (4 балла)\n",
    "2. Подробно описать выводы для каждой пары, какие варианты точно не подходят и почему. Объяснить зачем мы логарифмируем метрику и что нам это дает. Аргументированно выбрать 1 пару (метрика + критерий) которым вы будете оценивать АБ тест и какой эффект мы сможем отловить в нашем тесте. (5 баллов)\n",
    "\n",
    "\n",
    "### A/B тест\n",
    "1) Представим что у нас прошел тест, используем те же самые данные за 2 недели\n",
    "\n",
    "2) Занулите для всех пользователей total_dur, у которых total_dur < 500. Их НЕ УБИРАЕМ, а просто обрабатываем эти значения, принимая за нулевые, но пользователей также учитываем в эксперименте (2 балла)\n",
    "\n",
    "3) Разбейте их самостоятельно на две равные группы, используйте функцию groups_splitter и соль = 'kiontestmodel20210805' (1 балла)\n",
    "\n",
    "4) Оказалось, что модель в группе В показала себя лучше, чем в группе А на 2.5%, причем эффект распространился неравномерно и преимущественно на 10% самых смотрящих пользователей, докиньте такой эффект самостоятельно. Нужно метрику total_dur увеличить на 2.5% для 10% пользователей с самым продолжительным смотрением. (2 балла)\n",
    "\n",
    "5) Посчитайте результат такого теста и сделайте выводы (10 баллов)\n",
    "\n",
    "\n",
    "\n"
   ]
  },
  {
   "cell_type": "code",
   "execution_count": 2,
   "metadata": {
    "id": "qboU4Am65Q72",
    "tags": []
   },
   "outputs": [],
   "source": [
    "import numpy as np\n",
    "import scipy\n",
    "import matplotlib.pyplot as plt\n",
    "import seaborn as sns\n",
    "import scipy.stats as stats\n",
    "import statsmodels\n",
    "import statsmodels.sandbox.stats.multicomp\n",
    "import pandas as pd\n",
    "import datetime\n",
    "import hashlib\n",
    "import collections\n",
    "import requests\n",
    "import zipfile\n",
    "import os\n",
    "import pickle\n",
    "import warnings\n",
    "\n",
    "\n",
    "from tqdm import tqdm\n",
    "from sklearn.utils import shuffle\n",
    "from base64 import b64encode\n",
    "from scipy.stats import norm\n",
    "from statsmodels.stats.weightstats import ztest\n",
    "from scipy.stats import mannwhitneyu, ttest_ind\n",
    "from joblib import Memory, Parallel, delayed\n",
    "\n",
    "memory = Memory('./cache', verbose=0)\n",
    "plt.style.use('ggplot')\n",
    "warnings.simplefilter(\"ignore\")\n",
    "%matplotlib inline"
   ]
  },
  {
   "cell_type": "code",
   "execution_count": 3,
   "metadata": {
    "id": "arH9rZ1hudOI",
    "tags": []
   },
   "outputs": [],
   "source": [
    "def salt_generator(salt=None):\n",
    "    salt = os.urandom(8)\n",
    "    return b64encode(salt).decode('ascii')\n",
    "\n",
    "def groups_splitter(df, columns, user_salt=None):\n",
    "\n",
    "    if user_salt == None:\n",
    "        salt = salt_generator()\n",
    "    else:\n",
    "        salt = user_salt\n",
    "\n",
    "    df['hash'] = ((df['user_id'].astype(str)) + '#' + salt).apply(lambda x: hashlib.sha256(x.encode('utf-8')).hexdigest())\n",
    "\n",
    "    df['group'] = ((df['hash'].str.slice(start=-6).apply(int, base=16) % 2).map(lambda x: 'A' if x == 0 else 'B'))\n",
    "\n",
    "    return df[columns].drop_duplicates()"
   ]
  },
  {
   "cell_type": "code",
   "execution_count": 4,
   "metadata": {
    "colab": {
     "base_uri": "https://localhost:8080/"
    },
    "id": "6gHaln8zvzWz",
    "outputId": "081de2a2-195b-4d7c-8e19-95d3e7231df6",
    "tags": []
   },
   "outputs": [
    {
     "name": "stderr",
     "output_type": "stream",
     "text": [
      "kion dataset download:  57%|█████▋    | 45.1M/78.8M [00:00<00:00, 249MiB/s] "
     ]
    }
   ],
   "source": [
    "url = \"https://github.com/sharthZ23/your-second-recsys/raw/master/data_kion.zip\"\n",
    "\n",
    "req = requests.get(url, stream=True)\n",
    "\n",
    "with open('data_kion.zip', \"wb\") as fd:\n",
    "    total_size_in_bytes = int(req.headers.get('Content-Length', 0))\n",
    "    progress_bar = tqdm(desc='kion dataset download', total=total_size_in_bytes, unit='iB', unit_scale=True)\n",
    "    for chunk in req.iter_content(chunk_size=2 ** 20):\n",
    "        progress_bar.update(len(chunk))\n",
    "        fd.write(chunk)"
   ]
  },
  {
   "cell_type": "code",
   "execution_count": 5,
   "metadata": {
    "id": "oKrV9TbGwPHh",
    "tags": []
   },
   "outputs": [],
   "source": [
    "with zipfile.ZipFile('data_kion.zip', 'r') as zip_ref:\n",
    "    zip_ref.extractall()"
   ]
  },
  {
   "cell_type": "code",
   "execution_count": 6,
   "metadata": {
    "id": "hyWqTEXnwS5B",
    "tags": []
   },
   "outputs": [],
   "source": [
    "interactions = pd.read_csv('data_kion/interactions_df.csv')"
   ]
  },
  {
   "cell_type": "code",
   "execution_count": 7,
   "metadata": {
    "colab": {
     "base_uri": "https://localhost:8080/",
     "height": 206
    },
    "id": "FnddspY4wa9s",
    "outputId": "ee14c990-481b-4b07-a2ca-1a527a34a888",
    "tags": []
   },
   "outputs": [
    {
     "data": {
      "application/vnd.google.colaboratory.intrinsic+json": {
       "summary": "{\n  \"name\": \"# watched_pct - \\u043f\\u0440\\u043e\\u0446\\u0435\\u043d\\u0442 \\u043f\\u0440\\u043e\\u0441\\u043c\\u043e\\u0442\\u0440\\u0435\\u043d\\u043d\\u043e\\u0433\\u043e \\u043a\\u043e\\u043d\\u0442\\u0435\\u043d\\u0442\\u0430 \\u043e\\u0442 \\u043e\\u0431\\u0449\\u0435\\u0439 \\u043f\\u0440\\u043e\\u0434\\u043e\\u043b\\u0436\\u0438\\u0442\\u0435\\u043b\\u044c\\u043d\\u043e\\u0441\\u0442\\u0438\",\n  \"rows\": 5,\n  \"fields\": [\n    {\n      \"column\": \"user_id\",\n      \"properties\": {\n        \"dtype\": \"number\",\n        \"std\": 303859,\n        \"min\": 176549,\n        \"max\": 964868,\n        \"num_unique_values\": 5,\n        \"samples\": [\n          699317,\n          964868,\n          656683\n        ],\n        \"semantic_type\": \"\",\n        \"description\": \"\"\n      }\n    },\n    {\n      \"column\": \"item_id\",\n      \"properties\": {\n        \"dtype\": \"number\",\n        \"std\": 3219,\n        \"min\": 1659,\n        \"max\": 9506,\n        \"num_unique_values\": 4,\n        \"samples\": [\n          1659,\n          7638,\n          9506\n        ],\n        \"semantic_type\": \"\",\n        \"description\": \"\"\n      }\n    },\n    {\n      \"column\": \"last_watch_dt\",\n      \"properties\": {\n        \"dtype\": \"object\",\n        \"num_unique_values\": 5,\n        \"samples\": [\n          \"2021-05-29\",\n          \"2021-04-30\",\n          \"2021-05-09\"\n        ],\n        \"semantic_type\": \"\",\n        \"description\": \"\"\n      }\n    },\n    {\n      \"column\": \"total_dur\",\n      \"properties\": {\n        \"dtype\": \"number\",\n        \"std\": 5336,\n        \"min\": 10,\n        \"max\": 14483,\n        \"num_unique_values\": 5,\n        \"samples\": [\n          8317,\n          6725,\n          10\n        ],\n        \"semantic_type\": \"\",\n        \"description\": \"\"\n      }\n    },\n    {\n      \"column\": \"watched_pct\",\n      \"properties\": {\n        \"dtype\": \"number\",\n        \"std\": 43.32204981299938,\n        \"min\": 0.0,\n        \"max\": 100.0,\n        \"num_unique_values\": 3,\n        \"samples\": [\n          72.0,\n          100.0,\n          0.0\n        ],\n        \"semantic_type\": \"\",\n        \"description\": \"\"\n      }\n    }\n  ]\n}",
       "type": "dataframe"
      },
      "text/html": [
       "\n",
       "  <div id=\"df-904aa64c-2372-4c48-904b-752bd11001cf\" class=\"colab-df-container\">\n",
       "    <div>\n",
       "<style scoped>\n",
       "    .dataframe tbody tr th:only-of-type {\n",
       "        vertical-align: middle;\n",
       "    }\n",
       "\n",
       "    .dataframe tbody tr th {\n",
       "        vertical-align: top;\n",
       "    }\n",
       "\n",
       "    .dataframe thead th {\n",
       "        text-align: right;\n",
       "    }\n",
       "</style>\n",
       "<table border=\"1\" class=\"dataframe\">\n",
       "  <thead>\n",
       "    <tr style=\"text-align: right;\">\n",
       "      <th></th>\n",
       "      <th>user_id</th>\n",
       "      <th>item_id</th>\n",
       "      <th>last_watch_dt</th>\n",
       "      <th>total_dur</th>\n",
       "      <th>watched_pct</th>\n",
       "    </tr>\n",
       "  </thead>\n",
       "  <tbody>\n",
       "    <tr>\n",
       "      <th>0</th>\n",
       "      <td>176549</td>\n",
       "      <td>9506</td>\n",
       "      <td>2021-05-11</td>\n",
       "      <td>4250</td>\n",
       "      <td>72.0</td>\n",
       "    </tr>\n",
       "    <tr>\n",
       "      <th>1</th>\n",
       "      <td>699317</td>\n",
       "      <td>1659</td>\n",
       "      <td>2021-05-29</td>\n",
       "      <td>8317</td>\n",
       "      <td>100.0</td>\n",
       "    </tr>\n",
       "    <tr>\n",
       "      <th>2</th>\n",
       "      <td>656683</td>\n",
       "      <td>7107</td>\n",
       "      <td>2021-05-09</td>\n",
       "      <td>10</td>\n",
       "      <td>0.0</td>\n",
       "    </tr>\n",
       "    <tr>\n",
       "      <th>3</th>\n",
       "      <td>864613</td>\n",
       "      <td>7638</td>\n",
       "      <td>2021-07-05</td>\n",
       "      <td>14483</td>\n",
       "      <td>100.0</td>\n",
       "    </tr>\n",
       "    <tr>\n",
       "      <th>4</th>\n",
       "      <td>964868</td>\n",
       "      <td>9506</td>\n",
       "      <td>2021-04-30</td>\n",
       "      <td>6725</td>\n",
       "      <td>100.0</td>\n",
       "    </tr>\n",
       "  </tbody>\n",
       "</table>\n",
       "</div>\n",
       "    <div class=\"colab-df-buttons\">\n",
       "\n",
       "  <div class=\"colab-df-container\">\n",
       "    <button class=\"colab-df-convert\" onclick=\"convertToInteractive('df-904aa64c-2372-4c48-904b-752bd11001cf')\"\n",
       "            title=\"Convert this dataframe to an interactive table.\"\n",
       "            style=\"display:none;\">\n",
       "\n",
       "  <svg xmlns=\"http://www.w3.org/2000/svg\" height=\"24px\" viewBox=\"0 -960 960 960\">\n",
       "    <path d=\"M120-120v-720h720v720H120Zm60-500h600v-160H180v160Zm220 220h160v-160H400v160Zm0 220h160v-160H400v160ZM180-400h160v-160H180v160Zm440 0h160v-160H620v160ZM180-180h160v-160H180v160Zm440 0h160v-160H620v160Z\"/>\n",
       "  </svg>\n",
       "    </button>\n",
       "\n",
       "  <style>\n",
       "    .colab-df-container {\n",
       "      display:flex;\n",
       "      gap: 12px;\n",
       "    }\n",
       "\n",
       "    .colab-df-convert {\n",
       "      background-color: #E8F0FE;\n",
       "      border: none;\n",
       "      border-radius: 50%;\n",
       "      cursor: pointer;\n",
       "      display: none;\n",
       "      fill: #1967D2;\n",
       "      height: 32px;\n",
       "      padding: 0 0 0 0;\n",
       "      width: 32px;\n",
       "    }\n",
       "\n",
       "    .colab-df-convert:hover {\n",
       "      background-color: #E2EBFA;\n",
       "      box-shadow: 0px 1px 2px rgba(60, 64, 67, 0.3), 0px 1px 3px 1px rgba(60, 64, 67, 0.15);\n",
       "      fill: #174EA6;\n",
       "    }\n",
       "\n",
       "    .colab-df-buttons div {\n",
       "      margin-bottom: 4px;\n",
       "    }\n",
       "\n",
       "    [theme=dark] .colab-df-convert {\n",
       "      background-color: #3B4455;\n",
       "      fill: #D2E3FC;\n",
       "    }\n",
       "\n",
       "    [theme=dark] .colab-df-convert:hover {\n",
       "      background-color: #434B5C;\n",
       "      box-shadow: 0px 1px 3px 1px rgba(0, 0, 0, 0.15);\n",
       "      filter: drop-shadow(0px 1px 2px rgba(0, 0, 0, 0.3));\n",
       "      fill: #FFFFFF;\n",
       "    }\n",
       "  </style>\n",
       "\n",
       "    <script>\n",
       "      const buttonEl =\n",
       "        document.querySelector('#df-904aa64c-2372-4c48-904b-752bd11001cf button.colab-df-convert');\n",
       "      buttonEl.style.display =\n",
       "        google.colab.kernel.accessAllowed ? 'block' : 'none';\n",
       "\n",
       "      async function convertToInteractive(key) {\n",
       "        const element = document.querySelector('#df-904aa64c-2372-4c48-904b-752bd11001cf');\n",
       "        const dataTable =\n",
       "          await google.colab.kernel.invokeFunction('convertToInteractive',\n",
       "                                                    [key], {});\n",
       "        if (!dataTable) return;\n",
       "\n",
       "        const docLinkHtml = 'Like what you see? Visit the ' +\n",
       "          '<a target=\"_blank\" href=https://colab.research.google.com/notebooks/data_table.ipynb>data table notebook</a>'\n",
       "          + ' to learn more about interactive tables.';\n",
       "        element.innerHTML = '';\n",
       "        dataTable['output_type'] = 'display_data';\n",
       "        await google.colab.output.renderOutput(dataTable, element);\n",
       "        const docLink = document.createElement('div');\n",
       "        docLink.innerHTML = docLinkHtml;\n",
       "        element.appendChild(docLink);\n",
       "      }\n",
       "    </script>\n",
       "  </div>\n",
       "\n",
       "\n",
       "<div id=\"df-5fe0b365-3bb1-4db9-8cda-437a5b6da956\">\n",
       "  <button class=\"colab-df-quickchart\" onclick=\"quickchart('df-5fe0b365-3bb1-4db9-8cda-437a5b6da956')\"\n",
       "            title=\"Suggest charts\"\n",
       "            style=\"display:none;\">\n",
       "\n",
       "<svg xmlns=\"http://www.w3.org/2000/svg\" height=\"24px\"viewBox=\"0 0 24 24\"\n",
       "     width=\"24px\">\n",
       "    <g>\n",
       "        <path d=\"M19 3H5c-1.1 0-2 .9-2 2v14c0 1.1.9 2 2 2h14c1.1 0 2-.9 2-2V5c0-1.1-.9-2-2-2zM9 17H7v-7h2v7zm4 0h-2V7h2v10zm4 0h-2v-4h2v4z\"/>\n",
       "    </g>\n",
       "</svg>\n",
       "  </button>\n",
       "\n",
       "<style>\n",
       "  .colab-df-quickchart {\n",
       "      --bg-color: #E8F0FE;\n",
       "      --fill-color: #1967D2;\n",
       "      --hover-bg-color: #E2EBFA;\n",
       "      --hover-fill-color: #174EA6;\n",
       "      --disabled-fill-color: #AAA;\n",
       "      --disabled-bg-color: #DDD;\n",
       "  }\n",
       "\n",
       "  [theme=dark] .colab-df-quickchart {\n",
       "      --bg-color: #3B4455;\n",
       "      --fill-color: #D2E3FC;\n",
       "      --hover-bg-color: #434B5C;\n",
       "      --hover-fill-color: #FFFFFF;\n",
       "      --disabled-bg-color: #3B4455;\n",
       "      --disabled-fill-color: #666;\n",
       "  }\n",
       "\n",
       "  .colab-df-quickchart {\n",
       "    background-color: var(--bg-color);\n",
       "    border: none;\n",
       "    border-radius: 50%;\n",
       "    cursor: pointer;\n",
       "    display: none;\n",
       "    fill: var(--fill-color);\n",
       "    height: 32px;\n",
       "    padding: 0;\n",
       "    width: 32px;\n",
       "  }\n",
       "\n",
       "  .colab-df-quickchart:hover {\n",
       "    background-color: var(--hover-bg-color);\n",
       "    box-shadow: 0 1px 2px rgba(60, 64, 67, 0.3), 0 1px 3px 1px rgba(60, 64, 67, 0.15);\n",
       "    fill: var(--button-hover-fill-color);\n",
       "  }\n",
       "\n",
       "  .colab-df-quickchart-complete:disabled,\n",
       "  .colab-df-quickchart-complete:disabled:hover {\n",
       "    background-color: var(--disabled-bg-color);\n",
       "    fill: var(--disabled-fill-color);\n",
       "    box-shadow: none;\n",
       "  }\n",
       "\n",
       "  .colab-df-spinner {\n",
       "    border: 2px solid var(--fill-color);\n",
       "    border-color: transparent;\n",
       "    border-bottom-color: var(--fill-color);\n",
       "    animation:\n",
       "      spin 1s steps(1) infinite;\n",
       "  }\n",
       "\n",
       "  @keyframes spin {\n",
       "    0% {\n",
       "      border-color: transparent;\n",
       "      border-bottom-color: var(--fill-color);\n",
       "      border-left-color: var(--fill-color);\n",
       "    }\n",
       "    20% {\n",
       "      border-color: transparent;\n",
       "      border-left-color: var(--fill-color);\n",
       "      border-top-color: var(--fill-color);\n",
       "    }\n",
       "    30% {\n",
       "      border-color: transparent;\n",
       "      border-left-color: var(--fill-color);\n",
       "      border-top-color: var(--fill-color);\n",
       "      border-right-color: var(--fill-color);\n",
       "    }\n",
       "    40% {\n",
       "      border-color: transparent;\n",
       "      border-right-color: var(--fill-color);\n",
       "      border-top-color: var(--fill-color);\n",
       "    }\n",
       "    60% {\n",
       "      border-color: transparent;\n",
       "      border-right-color: var(--fill-color);\n",
       "    }\n",
       "    80% {\n",
       "      border-color: transparent;\n",
       "      border-right-color: var(--fill-color);\n",
       "      border-bottom-color: var(--fill-color);\n",
       "    }\n",
       "    90% {\n",
       "      border-color: transparent;\n",
       "      border-bottom-color: var(--fill-color);\n",
       "    }\n",
       "  }\n",
       "</style>\n",
       "\n",
       "  <script>\n",
       "    async function quickchart(key) {\n",
       "      const quickchartButtonEl =\n",
       "        document.querySelector('#' + key + ' button');\n",
       "      quickchartButtonEl.disabled = true;  // To prevent multiple clicks.\n",
       "      quickchartButtonEl.classList.add('colab-df-spinner');\n",
       "      try {\n",
       "        const charts = await google.colab.kernel.invokeFunction(\n",
       "            'suggestCharts', [key], {});\n",
       "      } catch (error) {\n",
       "        console.error('Error during call to suggestCharts:', error);\n",
       "      }\n",
       "      quickchartButtonEl.classList.remove('colab-df-spinner');\n",
       "      quickchartButtonEl.classList.add('colab-df-quickchart-complete');\n",
       "    }\n",
       "    (() => {\n",
       "      let quickchartButtonEl =\n",
       "        document.querySelector('#df-5fe0b365-3bb1-4db9-8cda-437a5b6da956 button');\n",
       "      quickchartButtonEl.style.display =\n",
       "        google.colab.kernel.accessAllowed ? 'block' : 'none';\n",
       "    })();\n",
       "  </script>\n",
       "</div>\n",
       "    </div>\n",
       "  </div>\n"
      ],
      "text/plain": [
       "   user_id  item_id last_watch_dt  total_dur  watched_pct\n",
       "0   176549     9506    2021-05-11       4250         72.0\n",
       "1   699317     1659    2021-05-29       8317        100.0\n",
       "2   656683     7107    2021-05-09         10          0.0\n",
       "3   864613     7638    2021-07-05      14483        100.0\n",
       "4   964868     9506    2021-04-30       6725        100.0"
      ]
     },
     "execution_count": 7,
     "metadata": {},
     "output_type": "execute_result"
    }
   ],
   "source": [
    "interactions.head(5)\n",
    "\n",
    "# user_id - уникальный идентификатор пользователя\n",
    "# item_id - уникальный идентификатор контента\n",
    "# last_watch_dt - последняя дата просмотра юзером определенного контента\n",
    "# total_dur - суммарная продолжительность просмотра определенного контента юзером (в секундах)\n",
    "# watched_pct - процент просмотренного контента от общей продолжительности"
   ]
  },
  {
   "cell_type": "markdown",
   "metadata": {
    "id": "KmfEntFivw4r"
   },
   "source": [
    "### Дизайн теста бутстреп\n",
    "1. Из interactions взять данные за 2 последние недели (2021-08-09 по 2021-08-22)\n",
    "\n",
    "2. Посчитайте на этих данных корректность на бутстрепе и сравните ее с результатами за 1 неделю (посчитано на семинаре) (2 балла)\n",
    "\n",
    "3. На двух неделях посчитайте мощность. Для этого нужно в одну из групп докинуть эффект. Докиньте эффект в 1%, 3% и 5% и сравните полученную мощность (3 балла за расчет + 2 балла за подроброе объяснение)\n",
    "\n",
    "4. Посчитайте MDE, который можно зафиксировать на 2х неделях. В качестве alpha и beta подставьте ваши вычисленные ошибки 1 и 2 рода. Учитывайте что у нас формула для MDE работает для t-test или z-test (3 балла)\n"
   ]
  },
  {
   "cell_type": "code",
   "execution_count": 8,
   "metadata": {
    "colab": {
     "base_uri": "https://localhost:8080/"
    },
    "id": "eYbI0yGovxeh",
    "outputId": "8397e14c-d3e4-4064-8d69-dcbefe8d4a16",
    "tags": []
   },
   "outputs": [
    {
     "name": "stderr",
     "output_type": "stream",
     "text": [
      "kion dataset download: 100%|██████████| 78.8M/78.8M [00:20<00:00, 249MiB/s]"
     ]
    },
    {
     "name": "stdout",
     "output_type": "stream",
     "text": [
      "2021-03-13 2021-08-22\n"
     ]
    }
   ],
   "source": [
    "# предобработка данных\n",
    "interactions['last_watch_dt'] = pd.to_datetime(interactions['last_watch_dt']).map(lambda x: x.date())\n",
    "interactions['user_id'] = interactions['user_id'].astype(str)\n",
    "\n",
    "max_date = interactions['last_watch_dt'].max()\n",
    "min_date = interactions['last_watch_dt'].min()\n",
    "print(min_date, max_date)"
   ]
  },
  {
   "cell_type": "code",
   "execution_count": 9,
   "metadata": {
    "id": "Kl08I9r_1jjo",
    "tags": []
   },
   "outputs": [],
   "source": [
    "# выделим данные за последние 2 недели (2021-08-09 по 2021-08-22)\n",
    "data_2_weeks = interactions[interactions['last_watch_dt'] >= max_date - datetime.timedelta(days=13)]\n",
    "data_2_weeks = data_2_weeks.groupby('user_id', as_index=False).agg({'total_dur': sum})"
   ]
  },
  {
   "cell_type": "code",
   "execution_count": 10,
   "metadata": {
    "id": "RWC_u8qS7xju",
    "tags": []
   },
   "outputs": [],
   "source": [
    "# выделим данные за последнюю 1 неделю\n",
    "data_1_week = interactions[interactions['last_watch_dt'] >= max_date - datetime.timedelta(days=7)]\n",
    "data_1_week = data_1_week.groupby('user_id', as_index=False).agg({'total_dur': sum})\n",
    "data_1_week = data_1_week[(data_1_week['total_dur'] < data_1_week['total_dur'].std() * 3)]"
   ]
  },
  {
   "cell_type": "code",
   "execution_count": 11,
   "metadata": {
    "colab": {
     "base_uri": "https://localhost:8080/",
     "height": 424
    },
    "id": "j-9aXFue1kcv",
    "outputId": "fb5b59f5-e364-4b91-eb19-aef05116d971",
    "tags": []
   },
   "outputs": [
    {
     "data": {
      "application/vnd.google.colaboratory.intrinsic+json": {
       "type": "dataframe",
       "variable_name": "data_2_weeks"
      },
      "text/html": [
       "\n",
       "  <div id=\"df-4bbd0b57-54fb-41b8-b20d-84a5b672e0fd\" class=\"colab-df-container\">\n",
       "    <div>\n",
       "<style scoped>\n",
       "    .dataframe tbody tr th:only-of-type {\n",
       "        vertical-align: middle;\n",
       "    }\n",
       "\n",
       "    .dataframe tbody tr th {\n",
       "        vertical-align: top;\n",
       "    }\n",
       "\n",
       "    .dataframe thead th {\n",
       "        text-align: right;\n",
       "    }\n",
       "</style>\n",
       "<table border=\"1\" class=\"dataframe\">\n",
       "  <thead>\n",
       "    <tr style=\"text-align: right;\">\n",
       "      <th></th>\n",
       "      <th>user_id</th>\n",
       "      <th>total_dur</th>\n",
       "    </tr>\n",
       "  </thead>\n",
       "  <tbody>\n",
       "    <tr>\n",
       "      <th>0</th>\n",
       "      <td>1</td>\n",
       "      <td>21172</td>\n",
       "    </tr>\n",
       "    <tr>\n",
       "      <th>1</th>\n",
       "      <td>1000</td>\n",
       "      <td>10744</td>\n",
       "    </tr>\n",
       "    <tr>\n",
       "      <th>2</th>\n",
       "      <td>1000000</td>\n",
       "      <td>32990</td>\n",
       "    </tr>\n",
       "    <tr>\n",
       "      <th>3</th>\n",
       "      <td>1000001</td>\n",
       "      <td>52</td>\n",
       "    </tr>\n",
       "    <tr>\n",
       "      <th>4</th>\n",
       "      <td>1000003</td>\n",
       "      <td>625</td>\n",
       "    </tr>\n",
       "    <tr>\n",
       "      <th>...</th>\n",
       "      <td>...</td>\n",
       "      <td>...</td>\n",
       "    </tr>\n",
       "    <tr>\n",
       "      <th>266076</th>\n",
       "      <td>999978</td>\n",
       "      <td>11172</td>\n",
       "    </tr>\n",
       "    <tr>\n",
       "      <th>266077</th>\n",
       "      <td>999987</td>\n",
       "      <td>27888</td>\n",
       "    </tr>\n",
       "    <tr>\n",
       "      <th>266078</th>\n",
       "      <td>999989</td>\n",
       "      <td>4563</td>\n",
       "    </tr>\n",
       "    <tr>\n",
       "      <th>266079</th>\n",
       "      <td>999990</td>\n",
       "      <td>997</td>\n",
       "    </tr>\n",
       "    <tr>\n",
       "      <th>266080</th>\n",
       "      <td>999993</td>\n",
       "      <td>17228</td>\n",
       "    </tr>\n",
       "  </tbody>\n",
       "</table>\n",
       "<p>266081 rows × 2 columns</p>\n",
       "</div>\n",
       "    <div class=\"colab-df-buttons\">\n",
       "\n",
       "  <div class=\"colab-df-container\">\n",
       "    <button class=\"colab-df-convert\" onclick=\"convertToInteractive('df-4bbd0b57-54fb-41b8-b20d-84a5b672e0fd')\"\n",
       "            title=\"Convert this dataframe to an interactive table.\"\n",
       "            style=\"display:none;\">\n",
       "\n",
       "  <svg xmlns=\"http://www.w3.org/2000/svg\" height=\"24px\" viewBox=\"0 -960 960 960\">\n",
       "    <path d=\"M120-120v-720h720v720H120Zm60-500h600v-160H180v160Zm220 220h160v-160H400v160Zm0 220h160v-160H400v160ZM180-400h160v-160H180v160Zm440 0h160v-160H620v160ZM180-180h160v-160H180v160Zm440 0h160v-160H620v160Z\"/>\n",
       "  </svg>\n",
       "    </button>\n",
       "\n",
       "  <style>\n",
       "    .colab-df-container {\n",
       "      display:flex;\n",
       "      gap: 12px;\n",
       "    }\n",
       "\n",
       "    .colab-df-convert {\n",
       "      background-color: #E8F0FE;\n",
       "      border: none;\n",
       "      border-radius: 50%;\n",
       "      cursor: pointer;\n",
       "      display: none;\n",
       "      fill: #1967D2;\n",
       "      height: 32px;\n",
       "      padding: 0 0 0 0;\n",
       "      width: 32px;\n",
       "    }\n",
       "\n",
       "    .colab-df-convert:hover {\n",
       "      background-color: #E2EBFA;\n",
       "      box-shadow: 0px 1px 2px rgba(60, 64, 67, 0.3), 0px 1px 3px 1px rgba(60, 64, 67, 0.15);\n",
       "      fill: #174EA6;\n",
       "    }\n",
       "\n",
       "    .colab-df-buttons div {\n",
       "      margin-bottom: 4px;\n",
       "    }\n",
       "\n",
       "    [theme=dark] .colab-df-convert {\n",
       "      background-color: #3B4455;\n",
       "      fill: #D2E3FC;\n",
       "    }\n",
       "\n",
       "    [theme=dark] .colab-df-convert:hover {\n",
       "      background-color: #434B5C;\n",
       "      box-shadow: 0px 1px 3px 1px rgba(0, 0, 0, 0.15);\n",
       "      filter: drop-shadow(0px 1px 2px rgba(0, 0, 0, 0.3));\n",
       "      fill: #FFFFFF;\n",
       "    }\n",
       "  </style>\n",
       "\n",
       "    <script>\n",
       "      const buttonEl =\n",
       "        document.querySelector('#df-4bbd0b57-54fb-41b8-b20d-84a5b672e0fd button.colab-df-convert');\n",
       "      buttonEl.style.display =\n",
       "        google.colab.kernel.accessAllowed ? 'block' : 'none';\n",
       "\n",
       "      async function convertToInteractive(key) {\n",
       "        const element = document.querySelector('#df-4bbd0b57-54fb-41b8-b20d-84a5b672e0fd');\n",
       "        const dataTable =\n",
       "          await google.colab.kernel.invokeFunction('convertToInteractive',\n",
       "                                                    [key], {});\n",
       "        if (!dataTable) return;\n",
       "\n",
       "        const docLinkHtml = 'Like what you see? Visit the ' +\n",
       "          '<a target=\"_blank\" href=https://colab.research.google.com/notebooks/data_table.ipynb>data table notebook</a>'\n",
       "          + ' to learn more about interactive tables.';\n",
       "        element.innerHTML = '';\n",
       "        dataTable['output_type'] = 'display_data';\n",
       "        await google.colab.output.renderOutput(dataTable, element);\n",
       "        const docLink = document.createElement('div');\n",
       "        docLink.innerHTML = docLinkHtml;\n",
       "        element.appendChild(docLink);\n",
       "      }\n",
       "    </script>\n",
       "  </div>\n",
       "\n",
       "\n",
       "<div id=\"df-e1cfafcd-79a9-4fe6-a17e-e201d144fae7\">\n",
       "  <button class=\"colab-df-quickchart\" onclick=\"quickchart('df-e1cfafcd-79a9-4fe6-a17e-e201d144fae7')\"\n",
       "            title=\"Suggest charts\"\n",
       "            style=\"display:none;\">\n",
       "\n",
       "<svg xmlns=\"http://www.w3.org/2000/svg\" height=\"24px\"viewBox=\"0 0 24 24\"\n",
       "     width=\"24px\">\n",
       "    <g>\n",
       "        <path d=\"M19 3H5c-1.1 0-2 .9-2 2v14c0 1.1.9 2 2 2h14c1.1 0 2-.9 2-2V5c0-1.1-.9-2-2-2zM9 17H7v-7h2v7zm4 0h-2V7h2v10zm4 0h-2v-4h2v4z\"/>\n",
       "    </g>\n",
       "</svg>\n",
       "  </button>\n",
       "\n",
       "<style>\n",
       "  .colab-df-quickchart {\n",
       "      --bg-color: #E8F0FE;\n",
       "      --fill-color: #1967D2;\n",
       "      --hover-bg-color: #E2EBFA;\n",
       "      --hover-fill-color: #174EA6;\n",
       "      --disabled-fill-color: #AAA;\n",
       "      --disabled-bg-color: #DDD;\n",
       "  }\n",
       "\n",
       "  [theme=dark] .colab-df-quickchart {\n",
       "      --bg-color: #3B4455;\n",
       "      --fill-color: #D2E3FC;\n",
       "      --hover-bg-color: #434B5C;\n",
       "      --hover-fill-color: #FFFFFF;\n",
       "      --disabled-bg-color: #3B4455;\n",
       "      --disabled-fill-color: #666;\n",
       "  }\n",
       "\n",
       "  .colab-df-quickchart {\n",
       "    background-color: var(--bg-color);\n",
       "    border: none;\n",
       "    border-radius: 50%;\n",
       "    cursor: pointer;\n",
       "    display: none;\n",
       "    fill: var(--fill-color);\n",
       "    height: 32px;\n",
       "    padding: 0;\n",
       "    width: 32px;\n",
       "  }\n",
       "\n",
       "  .colab-df-quickchart:hover {\n",
       "    background-color: var(--hover-bg-color);\n",
       "    box-shadow: 0 1px 2px rgba(60, 64, 67, 0.3), 0 1px 3px 1px rgba(60, 64, 67, 0.15);\n",
       "    fill: var(--button-hover-fill-color);\n",
       "  }\n",
       "\n",
       "  .colab-df-quickchart-complete:disabled,\n",
       "  .colab-df-quickchart-complete:disabled:hover {\n",
       "    background-color: var(--disabled-bg-color);\n",
       "    fill: var(--disabled-fill-color);\n",
       "    box-shadow: none;\n",
       "  }\n",
       "\n",
       "  .colab-df-spinner {\n",
       "    border: 2px solid var(--fill-color);\n",
       "    border-color: transparent;\n",
       "    border-bottom-color: var(--fill-color);\n",
       "    animation:\n",
       "      spin 1s steps(1) infinite;\n",
       "  }\n",
       "\n",
       "  @keyframes spin {\n",
       "    0% {\n",
       "      border-color: transparent;\n",
       "      border-bottom-color: var(--fill-color);\n",
       "      border-left-color: var(--fill-color);\n",
       "    }\n",
       "    20% {\n",
       "      border-color: transparent;\n",
       "      border-left-color: var(--fill-color);\n",
       "      border-top-color: var(--fill-color);\n",
       "    }\n",
       "    30% {\n",
       "      border-color: transparent;\n",
       "      border-left-color: var(--fill-color);\n",
       "      border-top-color: var(--fill-color);\n",
       "      border-right-color: var(--fill-color);\n",
       "    }\n",
       "    40% {\n",
       "      border-color: transparent;\n",
       "      border-right-color: var(--fill-color);\n",
       "      border-top-color: var(--fill-color);\n",
       "    }\n",
       "    60% {\n",
       "      border-color: transparent;\n",
       "      border-right-color: var(--fill-color);\n",
       "    }\n",
       "    80% {\n",
       "      border-color: transparent;\n",
       "      border-right-color: var(--fill-color);\n",
       "      border-bottom-color: var(--fill-color);\n",
       "    }\n",
       "    90% {\n",
       "      border-color: transparent;\n",
       "      border-bottom-color: var(--fill-color);\n",
       "    }\n",
       "  }\n",
       "</style>\n",
       "\n",
       "  <script>\n",
       "    async function quickchart(key) {\n",
       "      const quickchartButtonEl =\n",
       "        document.querySelector('#' + key + ' button');\n",
       "      quickchartButtonEl.disabled = true;  // To prevent multiple clicks.\n",
       "      quickchartButtonEl.classList.add('colab-df-spinner');\n",
       "      try {\n",
       "        const charts = await google.colab.kernel.invokeFunction(\n",
       "            'suggestCharts', [key], {});\n",
       "      } catch (error) {\n",
       "        console.error('Error during call to suggestCharts:', error);\n",
       "      }\n",
       "      quickchartButtonEl.classList.remove('colab-df-spinner');\n",
       "      quickchartButtonEl.classList.add('colab-df-quickchart-complete');\n",
       "    }\n",
       "    (() => {\n",
       "      let quickchartButtonEl =\n",
       "        document.querySelector('#df-e1cfafcd-79a9-4fe6-a17e-e201d144fae7 button');\n",
       "      quickchartButtonEl.style.display =\n",
       "        google.colab.kernel.accessAllowed ? 'block' : 'none';\n",
       "    })();\n",
       "  </script>\n",
       "</div>\n",
       "    </div>\n",
       "  </div>\n"
      ],
      "text/plain": [
       "        user_id  total_dur\n",
       "0             1      21172\n",
       "1          1000      10744\n",
       "2       1000000      32990\n",
       "3       1000001         52\n",
       "4       1000003        625\n",
       "...         ...        ...\n",
       "266076   999978      11172\n",
       "266077   999987      27888\n",
       "266078   999989       4563\n",
       "266079   999990        997\n",
       "266080   999993      17228\n",
       "\n",
       "[266081 rows x 2 columns]"
      ]
     },
     "execution_count": 11,
     "metadata": {},
     "output_type": "execute_result"
    }
   ],
   "source": [
    "data_2_weeks"
   ]
  },
  {
   "cell_type": "code",
   "execution_count": null,
   "metadata": {
    "colab": {
     "base_uri": "https://localhost:8080/",
     "height": 444
    },
    "id": "apQNaKfn2l4y",
    "outputId": "4be69a2a-44d8-40da-8608-b2c81c7e55ef",
    "tags": []
   },
   "outputs": [
    {
     "data": {
      "text/plain": [
       "<Axes: >"
      ]
     },
     "execution_count": 14,
     "metadata": {},
     "output_type": "execute_result"
    },
    {
     "data": {
      "image/png": "[encoded data removed]",
      "text/plain": [
       "<Figure size 640x480 with 1 Axes>"
      ]
     },
     "metadata": {},
     "output_type": "display_data"
    }
   ],
   "source": [
    "sns.boxplot(data_2_weeks['total_dur'].values, fliersize=3)"
   ]
  },
  {
   "cell_type": "code",
   "execution_count": 12,
   "metadata": {
    "colab": {
     "base_uri": "https://localhost:8080/"
    },
    "id": "tH0BqqPv24gA",
    "outputId": "b5afb6c6-7d0c-4f25-dc4a-fd059195394a",
    "tags": []
   },
   "outputs": [
    {
     "name": "stdout",
     "output_type": "stream",
     "text": [
      "(266081, 2)\n",
      "(262794, 2)\n"
     ]
    }
   ],
   "source": [
    "print(data_2_weeks.shape)\n",
    "data_2_weeks = data_2_weeks[(data_2_weeks['total_dur'] < data_2_weeks['total_dur'].std() * 3)]\n",
    "print(data_2_weeks.shape)"
   ]
  },
  {
   "cell_type": "code",
   "execution_count": null,
   "metadata": {
    "colab": {
     "base_uri": "https://localhost:8080/",
     "height": 429
    },
    "id": "QH7hrX7L3SeG",
    "outputId": "f0a7a28a-e269-4a76-bf5a-34dad21b0a84",
    "tags": []
   },
   "outputs": [
    {
     "data": {
      "text/plain": [
       "<Axes: >"
      ]
     },
     "execution_count": 16,
     "metadata": {},
     "output_type": "execute_result"
    },
    {
     "data": {
      "image/png": "[encoded data removed]",
      "text/plain": [
       "<Figure size 640x480 with 1 Axes>"
      ]
     },
     "metadata": {},
     "output_type": "display_data"
    }
   ],
   "source": [
    "sns.boxplot(data_2_weeks['total_dur'].values, fliersize=3)"
   ]
  },
  {
   "cell_type": "code",
   "execution_count": null,
   "metadata": {
    "colab": {
     "base_uri": "https://localhost:8080/",
     "height": 605
    },
    "id": "VKzWJHXe3p4X",
    "outputId": "f7ed5812-e206-42f5-b161-8c9a07380807",
    "tags": []
   },
   "outputs": [
    {
     "data": {
      "image/png": "[encoded data removed]",
      "text/plain": [
       "<Figure size 700x700 with 1 Axes>"
      ]
     },
     "metadata": {},
     "output_type": "display_data"
    }
   ],
   "source": [
    "data_2_weeks['total_dur'].hist(bins=100, figsize=(7,7))\n",
    "plt.ylim([0, 10000])\n",
    "plt.grid(False)"
   ]
  },
  {
   "cell_type": "code",
   "execution_count": 13,
   "metadata": {
    "id": "dOWMeSSjzVPX",
    "tags": []
   },
   "outputs": [],
   "source": [
    "def get_bootstrap_array(arr):\n",
    "    return np.random.choice(arr, replace=True, size=len(arr))\n",
    "\n",
    "def calc_bootstrap_mean(arr, size=1000):\n",
    "    samples = np.random.choice(arr, replace=True, size=(size, len(arr)))\n",
    "    return np.mean(samples, axis=1)\n",
    "\n",
    "def get_p_value(dist):\n",
    "    dist = np.array(dist)\n",
    "    x = (dist > 0).mean()\n",
    "    pvalue = min(x, 1 - x) * 2\n",
    "    return pvalue"
   ]
  },
  {
   "cell_type": "code",
   "execution_count": 14,
   "metadata": {
    "id": "O-8-mWK5AarD",
    "tags": []
   },
   "outputs": [],
   "source": [
    "def check_pvalues(pvalues):\n",
    "    plt.hist(pvalues, bins=10, color='purple');\n",
    "    stat, p_value = scipy.stats.kstest(pvalues, scipy.stats.uniform(loc=0.0, scale=1.0).cdf)\n",
    "\n",
    "    if p_value < 0.05:\n",
    "        print(f'p_value = {p_value} - p_values неравномерное распределение')\n",
    "    else:\n",
    "        print(f'p_value = {p_value} - p_values равномерное распределение')"
   ]
  },
  {
   "cell_type": "code",
   "execution_count": 15,
   "metadata": {
    "id": "Rn_hi_xT8E3B",
    "tags": []
   },
   "outputs": [],
   "source": [
    "def bootstrap_iter_sign(data):\n",
    "    new_df = groups_splitter(data.copy(), columns=['user_id', 'total_dur', 'group'], user_salt=salt_generator()).drop_duplicates()\n",
    "\n",
    "\n",
    "    vec_a = new_df[(new_df['group'] == 'A')]['total_dur']\n",
    "    vec_b = new_df[(new_df['group'] == 'B')]['total_dur']\n",
    "\n",
    "    #bootstrap\n",
    "    sample_a_mean = calc_bootstrap_mean(vec_a, size=1000)\n",
    "    sample_b_mean = calc_bootstrap_mean(vec_b, size=1000)\n",
    "\n",
    "    left_side, right_side = np.percentile(sample_a_mean - sample_b_mean,\n",
    "                                                  [100 * 0.05 / 2., 100 * (1 - 0.05 / 2.)])\n",
    "    value = sample_a_mean - sample_b_mean\n",
    "    correctness = (not left_side <= 0 <= right_side)\n",
    "\n",
    "    return value, correctness\n",
    "\n",
    "@memory.cache\n",
    "def bootstrap_significance(data, n_iter, n_jobs):\n",
    "    result = Parallel(n_jobs = n_jobs)(delayed(bootstrap_iter_sign)(data) for i in tqdm(range(n_iter)))\n",
    "    values, correctness = zip(*result)\n",
    "    test_correctness = collections.Counter(list(correctness))\n",
    "\n",
    "    significance = test_correctness[1]/(test_correctness[1] + test_correctness[0])*100\n",
    "    print(f'significance: {significance}%')\n",
    "    return significance, values"
   ]
  },
  {
   "cell_type": "markdown",
   "metadata": {},
   "source": [
    "#### Сравнение даных за 1 неделю и 2 недели"
   ]
  },
  {
   "cell_type": "code",
   "execution_count": null,
   "metadata": {
    "collapsed": true,
    "id": "uZK7b0WL8jN8",
    "jupyter": {
     "outputs_hidden": true
    },
    "tags": []
   },
   "outputs": [],
   "source": [
    "significance_1, values_1 = bootstrap_significance(data_1_week, 1000, -1)"
   ]
  },
  {
   "cell_type": "code",
   "execution_count": null,
   "metadata": {
    "colab": {
     "base_uri": "https://localhost:8080/",
     "height": 466
    },
    "id": "yeprKDpj_KcX",
    "outputId": "7d2591d9-37a3-4db5-edeb-05a3bdff1d5f",
    "tags": []
   },
   "outputs": [
    {
     "name": "stdout",
     "output_type": "stream",
     "text": [
      "significance: 5.4%\n",
      "p_value = 0.16848479713738784 - p_values равномерное распределение\n"
     ]
    },
    {
     "data": {
      "image/png": "[encoded data removed]",
      "text/plain": [
       "<Figure size 640x480 with 1 Axes>"
      ]
     },
     "metadata": {},
     "output_type": "display_data"
    }
   ],
   "source": [
    "print(f'significance: {significance_1}%')\n",
    "p_values_1 = [get_p_value(x) for x in values_1]\n",
    "check_pvalues(p_values_1)"
   ]
  },
  {
   "cell_type": "code",
   "execution_count": null,
   "metadata": {
    "id": "Y4LNSZ3HP-yO"
   },
   "outputs": [],
   "source": [
    "significance_2, values_2 = bootstrap_significance(data_2_weeks, 1000, -1)"
   ]
  },
  {
   "cell_type": "code",
   "execution_count": null,
   "metadata": {
    "colab": {
     "base_uri": "https://localhost:8080/",
     "height": 469
    },
    "id": "b3TCI0jR_KcX",
    "outputId": "160590d4-2dc6-4c71-f469-ecf5cac6161a",
    "tags": []
   },
   "outputs": [
    {
     "name": "stdout",
     "output_type": "stream",
     "text": [
      "significance: 4.9%\n",
      "p_value = 0.6566398438826627 - p_values равномерное распределение\n"
     ]
    },
    {
     "data": {
      "image/png": "[encoded data removed]",
      "text/plain": [
       "<Figure size 640x480 with 1 Axes>"
      ]
     },
     "metadata": {},
     "output_type": "display_data"
    }
   ],
   "source": [
    "print(f'significance: {significance_2}%')\n",
    "p_values_2 = [get_p_value(x) for x in values_2]\n",
    "check_pvalues(p_values_2)"
   ]
  },
  {
   "cell_type": "markdown",
   "metadata": {},
   "source": [
    "Корректности за 1 и 2 неделю практически совпадают и близки к 5% (Уровень значимости alpha)\n",
    "\n",
    "Более низкая корректность для 2-недельного периода указывает на то, что мы с большей уверенностью можем отвергнуть нулевую гипотезу об отсутствии различий между группами\n"
   ]
  },
  {
   "cell_type": "markdown",
   "metadata": {},
   "source": [
    "#### Расчет мощности"
   ]
  },
  {
   "cell_type": "code",
   "execution_count": 16,
   "metadata": {
    "id": "OoijqI4Z9IJS",
    "tags": []
   },
   "outputs": [],
   "source": [
    "def bootstrap_iter_power(data, effect):\n",
    "    new_df = groups_splitter(data.copy(), columns=['user_id', 'total_dur', 'group'], user_salt=salt_generator()).drop_duplicates()\n",
    "\n",
    "\n",
    "    vec_a = new_df[(new_df['group'] == 'A')]['total_dur']\n",
    "    vec_b = new_df[(new_df['group'] == 'B')]['total_dur'] * (1+effect)\n",
    "\n",
    "    #bootstrap\n",
    "    sample_a_mean = calc_bootstrap_mean(vec_a, size=1000)\n",
    "    sample_b_mean = calc_bootstrap_mean(vec_b, size=1000)\n",
    "\n",
    "    left_side, right_side = np.percentile(sample_a_mean - sample_b_mean,\n",
    "                                                  [100 * 0.05 / 2., 100 * (1 - 0.05 / 2.)])\n",
    "    powers = (not left_side <= 0 <= right_side)\n",
    "\n",
    "    return powers\n",
    "\n",
    "@memory.cache\n",
    "def bootstrap_power(data, n_iter, effect, n_jobs):\n",
    "    powers = Parallel(n_jobs = n_jobs)(delayed(bootstrap_iter_power)(data, effect) for i in tqdm(range(n_iter)))\n",
    "    test_powers = collections.Counter(list(powers))\n",
    "\n",
    "    power = test_powers[1]/(test_powers[1] + test_powers[0])*100\n",
    "    print(f'power: {power}%, effect: {effect*100}%')\n",
    "    return power"
   ]
  },
  {
   "cell_type": "code",
   "execution_count": null,
   "metadata": {
    "collapsed": true,
    "id": "HZjAov0d-Itv",
    "jupyter": {
     "outputs_hidden": true
    },
    "tags": []
   },
   "outputs": [],
   "source": [
    "power01 = bootstrap_power(data_2_weeks, 1000, 0.01, -1)"
   ]
  },
  {
   "cell_type": "code",
   "execution_count": null,
   "metadata": {
    "collapsed": true,
    "id": "Lcd__jVw_KcY",
    "jupyter": {
     "outputs_hidden": true
    },
    "tags": []
   },
   "outputs": [],
   "source": [
    "power03 = bootstrap_power(data_2_weeks, 1000, 0.03, -1)"
   ]
  },
  {
   "cell_type": "code",
   "execution_count": null,
   "metadata": {
    "collapsed": true,
    "id": "rQjj2vux_KcY",
    "jupyter": {
     "outputs_hidden": true
    },
    "tags": []
   },
   "outputs": [],
   "source": [
    "power05 = bootstrap_power(data_2_weeks, 1000, 0.05, -1)"
   ]
  },
  {
   "cell_type": "code",
   "execution_count": null,
   "metadata": {
    "colab": {
     "base_uri": "https://localhost:8080/"
    },
    "id": "Im4YJugBIxrQ",
    "outputId": "8ec08980-7361-48f4-97fa-367be9f3feae"
   },
   "outputs": [
    {
     "name": "stdout",
     "output_type": "stream",
     "text": [
      "power: 31.2%, effect: 1.0%\n",
      "power: 99.2%, effect: 3.0%\n",
      "power: 100.0%, effect: 5.0%\n"
     ]
    }
   ],
   "source": [
    "for power, effect in zip([power01, power03, power05], [0.01, 0.03, 0.05]):\n",
    "    print(f'power: {power}%, effect: {effect*100}%')"
   ]
  },
  {
   "cell_type": "markdown",
   "metadata": {},
   "source": [
    "1. При эффекте 1% мощность теста составляет всего 31.2%. Такой небольшой эффект мы не сможем обнаружить с помощью нашего теста с большой вероятностью. Такая мощность недостаточна для надежного проведения A/B-теста, так как высок риск пропустить реальный эффект.\n",
    "\n",
    "2. При эффекте 3% мощность теста значительно возрастает до 99.2%. Это очень хороший показатель, означающий, что тест почти наверняка обнаружит эффект такой величины, если он существует. Выборка обладает большой чувствительностью для выявления эффектов такого размера.\n",
    "\n",
    "3. При эффекте 5% мощность достигает 100%, что означает практически гарантированное обнаружение эффекта.\n",
    "\n",
    "Таким образом, наш тест хорошо подходит для обнаружения эффектов от 3% и выше, но недостаточно мощный для обнаружения небольших эффектов порядка 1%. Если нам требуется обнаружения эффектов меньше 3%, необходимо увеличить размер выборки или использовать другие методы анализа.\n"
   ]
  },
  {
   "cell_type": "markdown",
   "metadata": {
    "id": "eisjpeFnvNqN"
   },
   "source": [
    "## MDE"
   ]
  },
  {
   "cell_type": "code",
   "execution_count": 17,
   "metadata": {
    "id": "L7vZx_CmvQNw"
   },
   "outputs": [],
   "source": [
    "def get_mde(metric_vec, alpha=0.05, beta=0.2):\n",
    "\n",
    "    metric_mean, metric_std, metric_n = metric_vec.mean(), metric_vec.std(), metric_vec.count()\n",
    "\n",
    "    z_alpha = norm.ppf(1 - (alpha / 2), loc=0, scale=1)\n",
    "    z_beta = norm.ppf(1 - beta, loc=0, scale=1)\n",
    "\n",
    "    mde = (z_alpha + z_beta)*metric_std / np.sqrt(metric_n)\n",
    "\n",
    "    return mde*100/metric_mean"
   ]
  },
  {
   "cell_type": "code",
   "execution_count": null,
   "metadata": {
    "colab": {
     "base_uri": "https://localhost:8080/"
    },
    "id": "vW1jMpCVvSsI",
    "outputId": "4da4c058-92b2-4491-fb68-4dee4de064ac"
   },
   "outputs": [
    {
     "name": "stdout",
     "output_type": "stream",
     "text": [
      "MDE (α: 0.05 β: 0.1): 1.1112886904889456\n",
      "MDE (α: 0.05 β: 0.2): 0.9604673863892587\n",
      "MDE (α: 0.05 β: 0.3): 0.8517146150269004\n"
     ]
    }
   ],
   "source": [
    "for alpha, beta in zip([0.05]*3, [0.1, 0.2, 0.3]):\n",
    "    print(f'MDE (α: {alpha} β: {beta}): {get_mde(data_2_weeks[\"total_dur\"], alpha, beta)}')"
   ]
  },
  {
   "cell_type": "markdown",
   "metadata": {},
   "source": [
    "При уменьшении мощности минимальный обнаруживаемый эффект уменьшается. Мы можем надежно обнаруживать эффекты от ~1% и выше. Для проведения A/B-теста оптимальным выбором будет использование параметров α = 0.05 и β = 0.2, что дает нам возможность обнаруживать эффекты от ~1% с вероятностью > 80%.\n"
   ]
  },
  {
   "cell_type": "markdown",
   "metadata": {
    "id": "X7ZG0dDDvWP8"
   },
   "source": [
    "### Дизайн продолжение\n",
    "\n",
    "1. Посчитать аналогичный дизайн для:\n",
    "  - бутстреп + логарифмированная метрика длительности просмотров (4 балла)\n",
    "  - манна-уитни + метрика длительности просмотров (4 балла)\n",
    "  - манна-уитни + логарифмированная метрика длительности просмотров (4 балла)\n",
    "  - t-test + метрика длительности просмотров (4 балла)\n",
    "  - t-test + логарифмированная метрика длительности просмотров (4 балла)\n",
    "2. Подробно описать выводы для каждой пары, какие варианты точно не подходят и почему. Объяснить зачем мы логарифмируем метрику и что нам это дает. Аргументированно выбрать 1 пару (метрика + критерий) которым вы будете оценивать АБ тест и какой эффект мы сможем отловить в нашем тесте. (5 баллов)"
   ]
  },
  {
   "cell_type": "markdown",
   "metadata": {
    "id": "Gc-NP7Qb_KcY"
   },
   "source": [
    "### Бутстрэп с логарифмированной метрикой\n",
    "\n",
    "- зачем логарифмировать метрику:\n",
    "\n",
    "1. Некоторые метрики могут иметь сильно скошенное распределение с длинным \"хвостом\". Логарифмирование приводит их распределение ближе к нормальному, что делает статистические тесты более надежными и позволяет использовать статистические методы, которые предполагают нормальность данных (например, t-тест).\n",
    "\n",
    "2. Снижает влияние выбросов на результаты теста, делая распределение более симметричным и устойчивым к экстремальным значениям."
   ]
  },
  {
   "cell_type": "markdown",
   "metadata": {},
   "source": [
    "Учитывая, что наша метрика длительности просмотров имеет сильно скошенное распределение, логарифмирование является эффективным способом нормализации данных и повышения надежности результатов теста. Предполагаю, что логарифмирование приведет к более точным и надежным результатам."
   ]
  },
  {
   "cell_type": "code",
   "execution_count": 35,
   "metadata": {
    "id": "4qkvvOes_KcY",
    "tags": []
   },
   "outputs": [],
   "source": [
    "data_2_weeks_log = data_2_weeks.copy()\n",
    "data_2_weeks_log['total_dur_log'] = np.log2(data_2_weeks_log['total_dur'])"
   ]
  },
  {
   "cell_type": "code",
   "execution_count": 36,
   "metadata": {
    "colab": {
     "base_uri": "https://localhost:8080/",
     "height": 670
    },
    "id": "HwMtU3OL_KcY",
    "outputId": "8444f47b-567f-4576-e3d1-058aba135524",
    "tags": []
   },
   "outputs": [
    {
     "data": {
      "image/png": "[encoded data removed]",
      "text/plain": [
       "<Figure size 1400x700 with 2 Axes>"
      ]
     },
     "metadata": {},
     "output_type": "display_data"
    }
   ],
   "source": [
    "fig, axes = plt.subplots(1, 2, figsize=(14, 7))  # Один ряд, два столбца\n",
    "\n",
    "data_2_weeks_log['total_dur_log'].hist(bins=100, ax=axes[0])\n",
    "axes[0].set_ylim([0, 10000])\n",
    "axes[0].grid(False)\n",
    "axes[0].set_title(\"Total Duration (Log)\")\n",
    "\n",
    "data_2_weeks_log['total_dur'].hist(bins=100, ax=axes[1])\n",
    "axes[1].set_ylim([0, 100000])\n",
    "axes[1].grid(False)\n",
    "axes[1].set_title(\"Total Duration\")\n",
    "\n",
    "plt.tight_layout()\n",
    "plt.show()"
   ]
  },
  {
   "cell_type": "code",
   "execution_count": 37,
   "metadata": {
    "id": "fGbuGF3z_KcZ",
    "tags": []
   },
   "outputs": [],
   "source": [
    "data_2_weeks_log.drop(columns=['total_dur'], inplace=True)\n",
    "data_2_weeks_log.rename(columns={'total_dur_log': 'total_dur'}, inplace=True)"
   ]
  },
  {
   "cell_type": "code",
   "execution_count": null,
   "metadata": {
    "id": "MgSqNS0kQTEG"
   },
   "outputs": [],
   "source": [
    "significance_2_log, values_2_log = bootstrap_significance(data_2_weeks_log, 1000, -1)"
   ]
  },
  {
   "cell_type": "code",
   "execution_count": null,
   "metadata": {
    "colab": {
     "base_uri": "https://localhost:8080/",
     "height": 469
    },
    "id": "cq6z1cKF_KcZ",
    "outputId": "48a012a6-b3f0-4565-918e-deb2cdc13459",
    "tags": []
   },
   "outputs": [
    {
     "name": "stdout",
     "output_type": "stream",
     "text": [
      "significance: 5.2%\n",
      "p_value = 0.40574787986631133 - p_values равномерное распределение\n"
     ]
    },
    {
     "data": {
      "image/png": "[encoded data removed]",
      "text/plain": [
       "<Figure size 640x480 with 1 Axes>"
      ]
     },
     "metadata": {},
     "output_type": "display_data"
    }
   ],
   "source": [
    "print(f'significance: {significance_2_log}%')\n",
    "p_values_2_log = [get_p_value(x) for x in values_2_log]\n",
    "check_pvalues(p_values_2_log)"
   ]
  },
  {
   "cell_type": "markdown",
   "metadata": {},
   "source": [
    "Корректность на логарифмированной метрике ухудшилась (с 4.9% до5.2%) -> логарифмирование не привело к улучшению результатов теста. Проверим это на других тестах."
   ]
  },
  {
   "cell_type": "markdown",
   "metadata": {
    "id": "Vljp-CUNvb-4"
   },
   "source": [
    "## Другие тесты"
   ]
  },
  {
   "cell_type": "code",
   "execution_count": 60,
   "metadata": {
    "id": "U6H6LvSbwTVR"
   },
   "outputs": [],
   "source": [
    "def check_significance(pvalues):\n",
    "    p_values = np.array(pvalues)\n",
    "    significance = p_values[p_values < 0.05].shape[0] / p_values.shape[0] * 100\n",
    "    print(f'significance: {significance}%')\n",
    "\n",
    "def design_iter(data, test, test_type):\n",
    "    week1_hash = groups_splitter(data, columns=['user_id', 'total_dur', 'group'])\n",
    "\n",
    "    res = test(\n",
    "        week1_hash[week1_hash['group'] == 'A']['total_dur'].values,\n",
    "        week1_hash[week1_hash['group'] == 'B']['total_dur'].values\n",
    "    )\n",
    "    if test_type == \"ttest_ind\":\n",
    "        return res.pvalue\n",
    "    elif test_type == \"mannwhitneyu\":\n",
    "        return res\n",
    "\n",
    "@memory.cache\n",
    "def run_design(data, test_type, n_iter, n_jobs = -1):\n",
    "    pvalues = []\n",
    "\n",
    "    tests = {\"mannwhitneyu\": mannwhitneyu, \"ttest_ind\": ttest_ind}\n",
    "    if test_type not in tests:\n",
    "        raise Exception(\"Теста нет в списке\")\n",
    "    test = tests[test_type]\n",
    "    pvalues = Parallel(n_jobs = n_jobs)(delayed(design_iter)(data, test, test_type) for i in tqdm(range(n_iter)))\n",
    "\n",
    "    return pvalues"
   ]
  },
  {
   "cell_type": "markdown",
   "metadata": {
    "id": "m2dZ9wKXvuNA"
   },
   "source": [
    "### манна-уитни + метрика длительности просмотров"
   ]
  },
  {
   "cell_type": "code",
   "execution_count": 30,
   "metadata": {
    "colab": {
     "base_uri": "https://localhost:8080/"
    },
    "collapsed": true,
    "id": "7SxEysiAv43R",
    "jupyter": {
     "outputs_hidden": true
    },
    "outputId": "94edc746-06d3-4a74-9c52-c14af2d6b3ff"
   },
   "outputs": [
    {
     "name": "stderr",
     "output_type": "stream",
     "text": [
      "\n",
      "  0%|          | 0/1000 [00:00<?, ?it/s]\u001b[A\n",
      "  1%|          | 8/1000 [00:00<01:55,  8.57it/s]\u001b[A\n",
      "  1%|          | 12/1000 [00:01<02:30,  6.56it/s]\u001b[A\n",
      "  2%|▏         | 16/1000 [00:02<02:49,  5.82it/s]\u001b[A\n",
      "  2%|▏         | 20/1000 [00:03<02:59,  5.46it/s]\u001b[A\n",
      "  2%|▏         | 24/1000 [00:04<03:05,  5.25it/s]\u001b[A\n",
      "  3%|▎         | 28/1000 [00:05<03:12,  5.06it/s]\u001b[A\n",
      "  3%|▎         | 32/1000 [00:05<03:11,  5.05it/s]\u001b[A\n",
      "  4%|▎         | 36/1000 [00:06<03:09,  5.08it/s]\u001b[A\n",
      "  4%|▍         | 40/1000 [00:07<03:09,  5.08it/s]\u001b[A\n",
      "  4%|▍         | 44/1000 [00:08<03:10,  5.02it/s]\u001b[A\n",
      "  5%|▍         | 48/1000 [00:09<03:11,  4.96it/s]\u001b[A\n",
      "  5%|▌         | 52/1000 [00:09<03:14,  4.87it/s]\u001b[A\n",
      "  6%|▌         | 56/1000 [00:10<03:10,  4.95it/s]\u001b[A\n",
      "  6%|▌         | 60/1000 [00:11<03:09,  4.95it/s]\u001b[A\n",
      "  6%|▋         | 64/1000 [00:12<03:22,  4.62it/s]\u001b[A\n",
      "  7%|▋         | 68/1000 [00:13<03:19,  4.67it/s]\u001b[A\n",
      "  7%|▋         | 72/1000 [00:14<03:19,  4.66it/s]\u001b[A\n",
      "  8%|▊         | 76/1000 [00:15<03:17,  4.69it/s]\u001b[A\n",
      "  8%|▊         | 80/1000 [00:15<03:14,  4.73it/s]\u001b[A\n",
      "  8%|▊         | 84/1000 [00:16<03:15,  4.70it/s]\u001b[A\n",
      "  9%|▉         | 88/1000 [00:17<03:10,  4.79it/s]\u001b[A\n",
      "  9%|▉         | 92/1000 [00:18<03:20,  4.53it/s]\u001b[A\n",
      " 10%|▉         | 96/1000 [00:19<03:22,  4.47it/s]\u001b[A\n",
      " 10%|█         | 100/1000 [00:20<03:17,  4.56it/s]\u001b[A\n",
      " 10%|█         | 104/1000 [00:21<03:14,  4.60it/s]\u001b[A\n",
      " 11%|█         | 108/1000 [00:21<03:13,  4.62it/s]\u001b[A\n",
      " 11%|█         | 112/1000 [00:22<03:06,  4.76it/s]\u001b[A\n",
      " 12%|█▏        | 116/1000 [00:23<03:02,  4.84it/s]\u001b[A\n",
      " 12%|█▏        | 120/1000 [00:24<03:00,  4.86it/s]\u001b[A\n",
      " 12%|█▏        | 124/1000 [00:25<02:56,  4.95it/s]\u001b[A\n",
      " 13%|█▎        | 128/1000 [00:25<02:55,  4.97it/s]\u001b[A\n",
      " 13%|█▎        | 132/1000 [00:26<02:55,  4.96it/s]\u001b[A\n",
      " 14%|█▎        | 136/1000 [00:27<02:55,  4.92it/s]\u001b[A\n",
      " 14%|█▍        | 140/1000 [00:28<02:55,  4.89it/s]\u001b[A\n",
      " 14%|█▍        | 144/1000 [00:29<02:58,  4.79it/s]\u001b[A\n",
      " 15%|█▍        | 148/1000 [00:30<02:55,  4.86it/s]\u001b[A\n",
      " 15%|█▌        | 152/1000 [00:30<02:50,  4.98it/s]\u001b[A\n",
      " 16%|█▌        | 156/1000 [00:31<02:50,  4.96it/s]\u001b[A\n",
      " 16%|█▌        | 160/1000 [00:32<02:53,  4.85it/s]\u001b[A\n",
      " 16%|█▋        | 164/1000 [00:33<02:55,  4.75it/s]\u001b[A\n",
      " 17%|█▋        | 168/1000 [00:34<02:57,  4.70it/s]\u001b[A\n",
      " 17%|█▋        | 172/1000 [00:35<02:56,  4.69it/s]\u001b[A\n",
      " 18%|█▊        | 176/1000 [00:35<02:52,  4.78it/s]\u001b[A\n",
      " 18%|█▊        | 180/1000 [00:36<02:53,  4.72it/s]\u001b[A\n",
      " 18%|█▊        | 184/1000 [00:37<03:09,  4.32it/s]\u001b[A\n",
      " 19%|█▉        | 188/1000 [00:38<03:05,  4.37it/s]\u001b[A\n",
      " 19%|█▉        | 192/1000 [00:39<03:10,  4.24it/s]\u001b[A\n",
      " 20%|█▉        | 196/1000 [00:41<03:25,  3.92it/s]\u001b[A\n",
      " 20%|██        | 200/1000 [00:41<03:16,  4.08it/s]\u001b[A\n",
      " 20%|██        | 204/1000 [00:42<03:02,  4.37it/s]\u001b[A\n",
      " 21%|██        | 208/1000 [00:43<02:59,  4.42it/s]\u001b[A\n",
      " 21%|██        | 212/1000 [00:44<02:54,  4.53it/s]\u001b[A\n",
      " 22%|██▏       | 216/1000 [00:45<02:50,  4.61it/s]\u001b[A\n",
      " 22%|██▏       | 220/1000 [00:46<02:46,  4.69it/s]\u001b[A\n",
      " 22%|██▏       | 224/1000 [00:46<02:46,  4.66it/s]\u001b[A\n",
      " 23%|██▎       | 228/1000 [00:47<02:52,  4.47it/s]\u001b[A\n",
      " 23%|██▎       | 232/1000 [00:48<03:01,  4.24it/s]\u001b[A\n",
      " 24%|██▎       | 236/1000 [00:49<02:51,  4.47it/s]\u001b[A\n",
      " 24%|██▍       | 240/1000 [00:50<02:49,  4.49it/s]\u001b[A\n",
      " 24%|██▍       | 244/1000 [00:51<02:51,  4.40it/s]\u001b[A\n",
      " 25%|██▍       | 248/1000 [00:52<02:53,  4.33it/s]\u001b[A\n",
      " 25%|██▌       | 252/1000 [00:53<02:51,  4.36it/s]\u001b[A\n",
      " 26%|██▌       | 256/1000 [00:54<02:53,  4.29it/s]\u001b[A\n",
      " 26%|██▌       | 260/1000 [00:55<02:51,  4.31it/s]\u001b[A\n",
      " 26%|██▋       | 264/1000 [00:56<02:49,  4.34it/s]\u001b[A\n",
      " 27%|██▋       | 268/1000 [00:57<02:49,  4.31it/s]\u001b[A\n",
      " 27%|██▋       | 272/1000 [00:57<02:44,  4.43it/s]\u001b[A\n",
      " 28%|██▊       | 276/1000 [00:58<02:42,  4.46it/s]\u001b[A\n",
      " 28%|██▊       | 280/1000 [00:59<02:39,  4.52it/s]\u001b[A\n",
      " 28%|██▊       | 284/1000 [01:00<02:44,  4.36it/s]\u001b[A\n",
      " 29%|██▉       | 288/1000 [01:01<02:42,  4.38it/s]\u001b[A\n",
      " 29%|██▉       | 292/1000 [01:02<02:38,  4.47it/s]\u001b[A\n",
      " 30%|██▉       | 296/1000 [01:03<02:36,  4.49it/s]\u001b[A\n",
      " 30%|███       | 300/1000 [01:04<02:34,  4.52it/s]\u001b[A\n",
      " 30%|███       | 304/1000 [01:05<02:28,  4.70it/s]\u001b[A\n",
      " 31%|███       | 308/1000 [01:05<02:24,  4.78it/s]\u001b[A\n",
      " 31%|███       | 312/1000 [01:06<02:28,  4.63it/s]\u001b[A\n",
      " 32%|███▏      | 316/1000 [01:07<02:33,  4.46it/s]\u001b[A\n",
      " 32%|███▏      | 320/1000 [01:08<02:28,  4.57it/s]\u001b[A\n",
      " 32%|███▏      | 324/1000 [01:09<02:29,  4.53it/s]\u001b[A\n",
      " 32%|███▎      | 325/1000 [01:09<02:22,  4.74it/s]\u001b[A\n",
      " 33%|███▎      | 328/1000 [01:10<02:26,  4.60it/s]\u001b[A\n",
      " 33%|███▎      | 332/1000 [01:11<02:25,  4.59it/s]\u001b[A\n",
      " 34%|███▎      | 336/1000 [01:12<02:25,  4.58it/s]\u001b[A\n",
      " 34%|███▍      | 340/1000 [01:12<02:22,  4.62it/s]\u001b[A\n",
      " 34%|███▍      | 344/1000 [01:13<02:20,  4.66it/s]\u001b[A\n",
      " 35%|███▍      | 348/1000 [01:14<02:20,  4.65it/s]\u001b[A\n",
      " 35%|███▌      | 352/1000 [01:15<02:15,  4.79it/s]\u001b[A\n",
      " 36%|███▌      | 356/1000 [01:16<02:11,  4.88it/s]\u001b[A\n",
      " 36%|███▌      | 360/1000 [01:16<02:10,  4.89it/s]\u001b[A\n",
      " 36%|███▋      | 364/1000 [01:17<02:08,  4.94it/s]\u001b[A\n",
      " 37%|███▋      | 368/1000 [01:18<02:14,  4.69it/s]\u001b[A\n",
      " 37%|███▋      | 372/1000 [01:19<02:11,  4.77it/s]\u001b[A\n",
      " 38%|███▊      | 376/1000 [01:20<02:07,  4.88it/s]\u001b[A\n",
      " 38%|███▊      | 380/1000 [01:21<02:11,  4.70it/s]\u001b[A\n",
      " 38%|███▊      | 384/1000 [01:22<02:10,  4.73it/s]\u001b[A\n",
      " 39%|███▉      | 388/1000 [01:22<02:09,  4.71it/s]\u001b[A\n",
      " 39%|███▉      | 392/1000 [01:23<02:08,  4.71it/s]\u001b[A\n",
      " 40%|███▉      | 396/1000 [01:24<02:08,  4.70it/s]\u001b[A\n",
      " 40%|████      | 400/1000 [01:25<02:06,  4.74it/s]\u001b[A\n",
      " 40%|████      | 404/1000 [01:26<02:05,  4.75it/s]\u001b[A\n",
      " 41%|████      | 408/1000 [01:26<01:59,  4.94it/s]\u001b[A\n",
      " 41%|████      | 412/1000 [01:27<01:58,  4.97it/s]\u001b[A\n",
      " 42%|████▏     | 416/1000 [01:28<01:57,  4.95it/s]\u001b[A\n",
      " 42%|████▏     | 420/1000 [01:29<01:57,  4.93it/s]\u001b[A\n",
      " 42%|████▏     | 424/1000 [01:30<01:56,  4.92it/s]\u001b[A\n",
      " 43%|████▎     | 428/1000 [01:31<01:57,  4.88it/s]\u001b[A\n",
      " 43%|████▎     | 432/1000 [01:31<01:53,  4.99it/s]\u001b[A\n",
      " 44%|████▎     | 436/1000 [01:32<01:50,  5.11it/s]\u001b[A\n",
      " 44%|████▍     | 440/1000 [01:33<01:52,  4.98it/s]\u001b[A\n",
      " 44%|████▍     | 444/1000 [01:34<01:54,  4.86it/s]\u001b[A\n",
      " 45%|████▍     | 448/1000 [01:35<01:55,  4.80it/s]\u001b[A\n",
      " 45%|████▌     | 452/1000 [01:36<01:56,  4.70it/s]\u001b[A\n",
      " 46%|████▌     | 456/1000 [01:36<01:53,  4.81it/s]\u001b[A\n",
      " 46%|████▌     | 460/1000 [01:37<01:50,  4.89it/s]\u001b[A\n",
      " 46%|████▋     | 464/1000 [01:38<01:46,  5.04it/s]\u001b[A\n",
      " 47%|████▋     | 468/1000 [01:39<01:50,  4.82it/s]\u001b[A\n",
      " 47%|████▋     | 472/1000 [01:40<01:50,  4.80it/s]\u001b[A\n",
      " 48%|████▊     | 476/1000 [01:40<01:48,  4.83it/s]\u001b[A\n",
      " 48%|████▊     | 480/1000 [01:41<01:48,  4.81it/s]\u001b[A\n",
      " 48%|████▊     | 484/1000 [01:42<01:48,  4.74it/s]\u001b[A\n",
      " 49%|████▉     | 488/1000 [01:43<01:45,  4.83it/s]\u001b[A\n",
      " 49%|████▉     | 492/1000 [01:44<01:44,  4.86it/s]\u001b[A\n",
      " 50%|████▉     | 496/1000 [01:45<01:45,  4.79it/s]\u001b[A\n",
      " 50%|█████     | 500/1000 [01:45<01:44,  4.77it/s]\u001b[A\n",
      " 50%|█████     | 504/1000 [01:46<01:45,  4.68it/s]\u001b[A\n",
      " 51%|█████     | 508/1000 [01:47<01:47,  4.60it/s]\u001b[A\n",
      " 51%|█████     | 512/1000 [01:48<01:41,  4.80it/s]\u001b[A\n",
      " 52%|█████▏    | 516/1000 [01:49<01:38,  4.92it/s]\u001b[A\n",
      " 52%|█████▏    | 520/1000 [01:50<01:35,  5.01it/s]\u001b[A\n",
      " 52%|█████▏    | 524/1000 [01:50<01:34,  5.01it/s]\u001b[A\n",
      " 53%|█████▎    | 528/1000 [01:51<01:35,  4.94it/s]\u001b[A\n",
      " 53%|█████▎    | 532/1000 [01:52<01:37,  4.79it/s]\u001b[A\n",
      " 53%|█████▎    | 533/1000 [01:52<01:34,  4.96it/s]\u001b[A\n",
      " 54%|█████▎    | 536/1000 [01:53<01:38,  4.71it/s]\u001b[A\n",
      " 54%|█████▍    | 540/1000 [01:54<01:35,  4.81it/s]\u001b[A\n",
      " 54%|█████▍    | 544/1000 [01:54<01:33,  4.87it/s]\u001b[A\n",
      " 55%|█████▍    | 548/1000 [01:55<01:31,  4.95it/s]\u001b[A\n",
      " 55%|█████▌    | 552/1000 [01:56<01:30,  4.95it/s]\u001b[A\n",
      " 56%|█████▌    | 556/1000 [01:57<01:30,  4.93it/s]\u001b[A\n",
      " 56%|█████▌    | 560/1000 [01:58<01:30,  4.84it/s]\u001b[A\n",
      " 56%|█████▋    | 564/1000 [01:59<01:30,  4.79it/s]\u001b[A\n",
      " 57%|█████▋    | 568/1000 [01:59<01:29,  4.82it/s]\u001b[A\n",
      " 57%|█████▋    | 572/1000 [02:00<01:29,  4.80it/s]\u001b[A\n",
      " 58%|█████▊    | 576/1000 [02:01<01:28,  4.78it/s]\u001b[A\n",
      " 58%|█████▊    | 580/1000 [02:02<01:27,  4.77it/s]\u001b[A\n",
      " 58%|█████▊    | 584/1000 [02:03<01:26,  4.80it/s]\u001b[A\n",
      " 59%|█████▉    | 588/1000 [02:04<01:27,  4.73it/s]\u001b[A\n",
      " 59%|█████▉    | 592/1000 [02:04<01:24,  4.82it/s]\u001b[A\n",
      " 60%|█████▉    | 596/1000 [02:05<01:21,  4.98it/s]\u001b[A\n",
      " 60%|██████    | 600/1000 [02:06<01:21,  4.93it/s]\u001b[A\n",
      " 60%|██████    | 604/1000 [02:07<01:22,  4.79it/s]\u001b[A\n",
      " 61%|██████    | 608/1000 [02:08<01:21,  4.82it/s]\u001b[A\n",
      " 61%|██████    | 612/1000 [02:09<01:21,  4.75it/s]\u001b[A\n",
      " 62%|██████▏   | 616/1000 [02:09<01:20,  4.79it/s]\u001b[A\n",
      " 62%|██████▏   | 620/1000 [02:10<01:18,  4.86it/s]\u001b[A\n",
      " 62%|██████▏   | 624/1000 [02:11<01:18,  4.77it/s]\u001b[A\n",
      " 63%|██████▎   | 628/1000 [02:12<01:18,  4.76it/s]\u001b[A\n",
      " 63%|██████▎   | 632/1000 [02:13<01:18,  4.71it/s]\u001b[A\n",
      " 64%|██████▎   | 636/1000 [02:14<01:17,  4.71it/s]\u001b[A\n",
      " 64%|██████▍   | 640/1000 [02:14<01:15,  4.77it/s]\u001b[A\n",
      " 64%|██████▍   | 644/1000 [02:15<01:15,  4.70it/s]\u001b[A\n",
      " 65%|██████▍   | 648/1000 [02:16<01:13,  4.80it/s]\u001b[A\n",
      " 65%|██████▌   | 652/1000 [02:17<01:13,  4.72it/s]\u001b[A\n",
      " 65%|██████▌   | 653/1000 [02:17<01:14,  4.63it/s]\u001b[A\n",
      " 66%|██████▌   | 656/1000 [02:18<01:19,  4.32it/s]\u001b[A\n",
      " 66%|██████▌   | 660/1000 [02:19<01:19,  4.29it/s]\u001b[A\n",
      " 66%|██████▋   | 664/1000 [02:20<01:15,  4.46it/s]\u001b[A\n",
      " 66%|██████▋   | 665/1000 [02:20<01:11,  4.71it/s]\u001b[A\n",
      " 67%|██████▋   | 668/1000 [02:21<01:26,  3.86it/s]\u001b[A\n",
      " 67%|██████▋   | 672/1000 [02:22<01:28,  3.70it/s]\u001b[A\n",
      " 68%|██████▊   | 676/1000 [02:23<01:30,  3.58it/s]\u001b[A\n",
      " 68%|██████▊   | 680/1000 [02:24<01:24,  3.78it/s]\u001b[A\n",
      " 68%|██████▊   | 684/1000 [02:25<01:23,  3.77it/s]\u001b[A\n",
      " 69%|██████▉   | 688/1000 [02:27<01:24,  3.69it/s]\u001b[A\n",
      " 69%|██████▉   | 692/1000 [02:28<01:23,  3.69it/s]\u001b[A\n",
      " 70%|██████▉   | 696/1000 [02:29<01:22,  3.67it/s]\u001b[A\n",
      " 70%|███████   | 700/1000 [02:30<01:18,  3.81it/s]\u001b[A\n",
      " 70%|███████   | 704/1000 [02:31<01:13,  4.05it/s]\u001b[A\n",
      " 71%|███████   | 708/1000 [02:31<01:10,  4.17it/s]\u001b[A\n",
      " 71%|███████   | 712/1000 [02:32<01:08,  4.21it/s]\u001b[A\n",
      " 72%|███████▏  | 716/1000 [02:33<01:06,  4.28it/s]\u001b[A\n",
      " 72%|███████▏  | 720/1000 [02:34<01:08,  4.07it/s]\u001b[A\n",
      " 72%|███████▏  | 724/1000 [02:35<01:10,  3.93it/s]\u001b[A\n",
      " 73%|███████▎  | 728/1000 [02:36<01:05,  4.18it/s]\u001b[A\n",
      " 73%|███████▎  | 732/1000 [02:37<01:04,  4.15it/s]\u001b[A\n",
      " 74%|███████▎  | 736/1000 [02:38<01:03,  4.16it/s]\u001b[A\n",
      " 74%|███████▍  | 740/1000 [02:39<00:59,  4.37it/s]\u001b[A\n",
      " 74%|███████▍  | 744/1000 [02:40<00:56,  4.51it/s]\u001b[A\n",
      " 75%|███████▍  | 748/1000 [02:41<00:54,  4.62it/s]\u001b[A\n",
      " 75%|███████▌  | 752/1000 [02:41<00:52,  4.69it/s]\u001b[A\n",
      " 76%|███████▌  | 756/1000 [02:42<00:51,  4.74it/s]\u001b[A\n",
      " 76%|███████▌  | 760/1000 [02:43<00:50,  4.74it/s]\u001b[A\n",
      " 76%|███████▋  | 764/1000 [02:44<00:48,  4.83it/s]\u001b[A\n",
      " 77%|███████▋  | 768/1000 [02:45<00:48,  4.77it/s]\u001b[A\n",
      " 77%|███████▋  | 772/1000 [02:46<00:47,  4.84it/s]\u001b[A\n",
      " 78%|███████▊  | 776/1000 [02:46<00:45,  4.92it/s]\u001b[A\n",
      " 78%|███████▊  | 780/1000 [02:47<00:46,  4.69it/s]\u001b[A\n",
      " 78%|███████▊  | 784/1000 [02:48<00:45,  4.75it/s]\u001b[A\n",
      " 79%|███████▉  | 788/1000 [02:49<00:43,  4.86it/s]\u001b[A\n",
      " 79%|███████▉  | 792/1000 [02:50<00:42,  4.84it/s]\u001b[A\n",
      " 80%|███████▉  | 796/1000 [02:51<00:41,  4.89it/s]\u001b[A\n",
      " 80%|████████  | 800/1000 [02:51<00:40,  4.92it/s]\u001b[A\n",
      " 80%|████████  | 804/1000 [02:52<00:40,  4.87it/s]\u001b[A\n",
      " 81%|████████  | 808/1000 [02:53<00:38,  5.00it/s]\u001b[A\n",
      " 81%|████████  | 812/1000 [02:54<00:39,  4.71it/s]\u001b[A\n",
      " 82%|████████▏ | 816/1000 [02:55<00:38,  4.75it/s]\u001b[A\n",
      " 82%|████████▏ | 820/1000 [02:56<00:37,  4.78it/s]\u001b[A\n",
      " 82%|████████▏ | 824/1000 [02:56<00:36,  4.79it/s]\u001b[A\n",
      " 83%|████████▎ | 828/1000 [02:57<00:35,  4.79it/s]\u001b[A\n",
      " 83%|████████▎ | 832/1000 [02:58<00:35,  4.77it/s]\u001b[A\n",
      " 84%|████████▎ | 836/1000 [02:59<00:34,  4.70it/s]\u001b[A\n",
      " 84%|████████▍ | 840/1000 [03:00<00:33,  4.72it/s]\u001b[A\n",
      " 84%|████████▍ | 844/1000 [03:01<00:32,  4.86it/s]\u001b[A\n",
      " 85%|████████▍ | 848/1000 [03:01<00:31,  4.76it/s]\u001b[A\n",
      " 85%|████████▌ | 852/1000 [03:02<00:31,  4.70it/s]\u001b[A\n",
      " 86%|████████▌ | 856/1000 [03:03<00:31,  4.62it/s]\u001b[A\n",
      " 86%|████████▌ | 860/1000 [03:04<00:32,  4.27it/s]\u001b[A\n",
      " 86%|████████▋ | 864/1000 [03:05<00:30,  4.40it/s]\u001b[A\n",
      " 87%|████████▋ | 868/1000 [03:06<00:29,  4.49it/s]\u001b[A\n",
      " 87%|████████▋ | 872/1000 [03:07<00:28,  4.49it/s]\u001b[A\n",
      " 88%|████████▊ | 876/1000 [03:08<00:27,  4.55it/s]\u001b[A\n",
      " 88%|████████▊ | 880/1000 [03:09<00:26,  4.60it/s]\u001b[A\n",
      " 88%|████████▊ | 884/1000 [03:09<00:24,  4.67it/s]\u001b[A\n",
      " 89%|████████▉ | 888/1000 [03:10<00:25,  4.34it/s]\u001b[A\n",
      " 89%|████████▉ | 892/1000 [03:11<00:24,  4.37it/s]\u001b[A\n",
      " 90%|████████▉ | 896/1000 [03:12<00:23,  4.44it/s]\u001b[A\n",
      " 90%|█████████ | 900/1000 [03:13<00:21,  4.61it/s]\u001b[A\n",
      " 90%|█████████ | 904/1000 [03:14<00:20,  4.71it/s]\u001b[A\n",
      " 91%|█████████ | 908/1000 [03:15<00:19,  4.81it/s]\u001b[A\n",
      " 91%|█████████ | 912/1000 [03:16<00:20,  4.26it/s]\u001b[A\n",
      " 92%|█████████▏| 916/1000 [03:17<00:20,  4.18it/s]\u001b[A\n",
      " 92%|█████████▏| 920/1000 [03:18<00:18,  4.32it/s]\u001b[A\n",
      " 92%|█████████▏| 924/1000 [03:19<00:17,  4.31it/s]\u001b[A\n",
      " 93%|█████████▎| 928/1000 [03:20<00:17,  4.05it/s]\u001b[A\n",
      " 93%|█████████▎| 932/1000 [03:21<00:17,  3.96it/s]\u001b[A\n",
      " 94%|█████████▎| 936/1000 [03:22<00:15,  4.22it/s]\u001b[A\n",
      " 94%|█████████▍| 940/1000 [03:22<00:13,  4.42it/s]\u001b[A\n",
      " 94%|█████████▍| 944/1000 [03:23<00:12,  4.54it/s]\u001b[A\n",
      " 95%|█████████▍| 948/1000 [03:24<00:11,  4.69it/s]\u001b[A\n",
      " 95%|█████████▌| 952/1000 [03:25<00:10,  4.74it/s]\u001b[A\n",
      " 96%|█████████▌| 956/1000 [03:26<00:09,  4.53it/s]\u001b[A\n",
      " 96%|█████████▌| 960/1000 [03:27<00:08,  4.68it/s]\u001b[A\n",
      " 96%|█████████▋| 964/1000 [03:27<00:07,  4.80it/s]\u001b[A\n",
      " 97%|█████████▋| 968/1000 [03:28<00:06,  4.88it/s]\u001b[A\n",
      " 97%|█████████▋| 972/1000 [03:29<00:05,  4.91it/s]\u001b[A\n",
      " 98%|█████████▊| 976/1000 [03:30<00:04,  4.87it/s]\u001b[A\n",
      " 98%|█████████▊| 980/1000 [03:31<00:04,  4.79it/s]\u001b[A\n",
      " 98%|█████████▊| 984/1000 [03:32<00:03,  4.68it/s]\u001b[A\n",
      " 99%|█████████▉| 988/1000 [03:32<00:02,  4.74it/s]\u001b[A\n",
      " 99%|█████████▉| 992/1000 [03:33<00:01,  4.79it/s]\u001b[A\n",
      "100%|█████████▉| 996/1000 [03:34<00:00,  4.82it/s]\u001b[A\n",
      "100%|██████████| 1000/1000 [03:35<00:00,  4.64it/s]\n"
     ]
    }
   ],
   "source": [
    "pvalues_mw = run_design(data_2_weeks, \"mannwhitneyu\", 1000)"
   ]
  },
  {
   "cell_type": "code",
   "execution_count": 31,
   "metadata": {
    "colab": {
     "base_uri": "https://localhost:8080/",
     "height": 466
    },
    "id": "-bf5dosYw6OC",
    "outputId": "40758e8a-c095-458e-cb11-b553518ede71"
   },
   "outputs": [
    {
     "name": "stdout",
     "output_type": "stream",
     "text": [
      "significance: 4.7%\n",
      "p_value = 0.6373420168799464 - p_values равномерное распределение\n"
     ]
    },
    {
     "data": {
      "image/png": "[encoded data removed]",
      "text/plain": [
       "<Figure size 640x480 with 1 Axes>"
      ]
     },
     "metadata": {},
     "output_type": "display_data"
    }
   ],
   "source": [
    "check_significance(pvalues_mw)\n",
    "check_pvalues(pvalues_mw)"
   ]
  },
  {
   "cell_type": "markdown",
   "metadata": {
    "id": "LT-RiXMSvuRH"
   },
   "source": [
    "### манна-уитни + логарифмированная метрика длительности просмотров"
   ]
  },
  {
   "cell_type": "code",
   "execution_count": 38,
   "metadata": {
    "colab": {
     "base_uri": "https://localhost:8080/"
    },
    "collapsed": true,
    "id": "uHwRIwpayNzL",
    "jupyter": {
     "outputs_hidden": true
    },
    "outputId": "c20fc10b-be85-4a5c-84d7-3eefbe376ac2"
   },
   "outputs": [
    {
     "name": "stderr",
     "output_type": "stream",
     "text": [
      "\n",
      "  0%|          | 0/1000 [00:00<?, ?it/s]\u001b[A\n",
      "  1%|          | 8/1000 [00:00<01:40,  9.87it/s]\u001b[A\n",
      "  1%|          | 12/1000 [00:01<02:15,  7.31it/s]\u001b[A\n",
      "  2%|▏         | 16/1000 [00:02<02:34,  6.37it/s]\u001b[A\n",
      "  2%|▏         | 20/1000 [00:03<02:49,  5.77it/s]\u001b[A\n",
      "  2%|▏         | 24/1000 [00:03<02:58,  5.47it/s]\u001b[A\n",
      "  3%|▎         | 28/1000 [00:04<03:05,  5.24it/s]\u001b[A\n",
      "  3%|▎         | 32/1000 [00:05<03:12,  5.02it/s]\u001b[A\n",
      "  4%|▎         | 36/1000 [00:06<03:17,  4.87it/s]\u001b[A\n",
      "  4%|▍         | 40/1000 [00:07<03:15,  4.90it/s]\u001b[A\n",
      "  4%|▍         | 44/1000 [00:08<03:10,  5.01it/s]\u001b[A\n",
      "  5%|▍         | 48/1000 [00:08<03:15,  4.88it/s]\u001b[A\n",
      "  5%|▌         | 52/1000 [00:09<03:19,  4.75it/s]\u001b[A\n",
      "  6%|▌         | 56/1000 [00:10<03:21,  4.68it/s]\u001b[A\n",
      "  6%|▌         | 60/1000 [00:11<03:19,  4.71it/s]\u001b[A\n",
      "  6%|▋         | 64/1000 [00:12<03:18,  4.71it/s]\u001b[A\n",
      "  7%|▋         | 68/1000 [00:13<03:20,  4.65it/s]\u001b[A\n",
      "  7%|▋         | 72/1000 [00:14<03:17,  4.71it/s]\u001b[A\n",
      "  8%|▊         | 76/1000 [00:14<03:12,  4.81it/s]\u001b[A\n",
      "  8%|▊         | 80/1000 [00:15<03:09,  4.86it/s]\u001b[A\n",
      "  8%|▊         | 84/1000 [00:16<03:08,  4.86it/s]\u001b[A\n",
      "  9%|▉         | 88/1000 [00:17<03:07,  4.86it/s]\u001b[A\n",
      "  9%|▉         | 92/1000 [00:18<03:09,  4.80it/s]\u001b[A\n",
      " 10%|▉         | 96/1000 [00:18<03:03,  4.93it/s]\u001b[A\n",
      " 10%|█         | 100/1000 [00:19<03:00,  5.00it/s]\u001b[A\n",
      " 10%|█         | 104/1000 [00:20<02:58,  5.02it/s]\u001b[A\n",
      " 11%|█         | 108/1000 [00:21<02:59,  4.97it/s]\u001b[A\n",
      " 11%|█         | 112/1000 [00:22<03:01,  4.88it/s]\u001b[A\n",
      " 12%|█▏        | 116/1000 [00:23<03:02,  4.84it/s]\u001b[A\n",
      " 12%|█▏        | 120/1000 [00:24<03:09,  4.65it/s]\u001b[A\n",
      " 12%|█▏        | 124/1000 [00:24<03:09,  4.62it/s]\u001b[A\n",
      " 13%|█▎        | 128/1000 [00:25<03:03,  4.75it/s]\u001b[A\n",
      " 13%|█▎        | 132/1000 [00:26<03:00,  4.80it/s]\u001b[A\n",
      " 14%|█▎        | 136/1000 [00:27<02:59,  4.82it/s]\u001b[A\n",
      " 14%|█▍        | 140/1000 [00:28<02:57,  4.84it/s]\u001b[A\n",
      " 14%|█▍        | 144/1000 [00:28<02:57,  4.82it/s]\u001b[A\n",
      " 15%|█▍        | 148/1000 [00:29<02:59,  4.75it/s]\u001b[A\n",
      " 15%|█▌        | 152/1000 [00:30<02:53,  4.88it/s]\u001b[A\n",
      " 16%|█▌        | 156/1000 [00:31<02:48,  5.00it/s]\u001b[A\n",
      " 16%|█▌        | 160/1000 [00:32<02:46,  5.03it/s]\u001b[A\n",
      " 16%|█▋        | 164/1000 [00:32<02:47,  4.98it/s]\u001b[A\n",
      " 17%|█▋        | 168/1000 [00:33<02:50,  4.88it/s]\u001b[A\n",
      " 17%|█▋        | 172/1000 [00:34<02:54,  4.75it/s]\u001b[A\n",
      " 18%|█▊        | 176/1000 [00:35<02:53,  4.76it/s]\u001b[A\n",
      " 18%|█▊        | 180/1000 [00:36<02:53,  4.72it/s]\u001b[A\n",
      " 18%|█▊        | 184/1000 [00:37<02:47,  4.87it/s]\u001b[A\n",
      " 19%|█▉        | 188/1000 [00:37<02:43,  4.96it/s]\u001b[A\n",
      " 19%|█▉        | 192/1000 [00:38<02:44,  4.92it/s]\u001b[A\n",
      " 19%|█▉        | 193/1000 [00:38<02:39,  5.06it/s]\u001b[A\n",
      " 20%|█▉        | 196/1000 [00:39<02:48,  4.76it/s]\u001b[A\n",
      " 20%|██        | 200/1000 [00:40<02:50,  4.69it/s]\u001b[A\n",
      " 20%|██        | 204/1000 [00:41<02:51,  4.65it/s]\u001b[A\n",
      " 21%|██        | 208/1000 [00:42<02:44,  4.82it/s]\u001b[A\n",
      " 21%|██        | 212/1000 [00:42<02:41,  4.88it/s]\u001b[A\n",
      " 22%|██▏       | 216/1000 [00:43<02:42,  4.81it/s]\u001b[A\n",
      " 22%|██▏       | 220/1000 [00:44<02:40,  4.85it/s]\u001b[A\n",
      " 22%|██▏       | 224/1000 [00:45<02:49,  4.58it/s]\u001b[A\n",
      " 23%|██▎       | 228/1000 [00:46<02:50,  4.53it/s]\u001b[A\n",
      " 23%|██▎       | 232/1000 [00:47<02:47,  4.58it/s]\u001b[A\n",
      " 24%|██▎       | 236/1000 [00:48<02:50,  4.47it/s]\u001b[A\n",
      " 24%|██▍       | 240/1000 [00:49<02:42,  4.67it/s]\u001b[A\n",
      " 24%|██▍       | 244/1000 [00:49<02:37,  4.79it/s]\u001b[A\n",
      " 25%|██▍       | 248/1000 [00:50<02:33,  4.89it/s]\u001b[A\n",
      " 25%|██▌       | 252/1000 [00:51<02:33,  4.89it/s]\u001b[A\n",
      " 26%|██▌       | 256/1000 [00:52<02:35,  4.79it/s]\u001b[A\n",
      " 26%|██▌       | 260/1000 [00:53<02:35,  4.77it/s]\u001b[A\n",
      " 26%|██▋       | 264/1000 [00:54<02:34,  4.76it/s]\u001b[A\n",
      " 27%|██▋       | 268/1000 [00:54<02:35,  4.71it/s]\u001b[A\n",
      " 27%|██▋       | 272/1000 [00:55<02:33,  4.75it/s]\u001b[A\n",
      " 28%|██▊       | 276/1000 [00:56<02:36,  4.64it/s]\u001b[A\n",
      " 28%|██▊       | 280/1000 [00:57<02:34,  4.66it/s]\u001b[A\n",
      " 28%|██▊       | 284/1000 [00:58<02:33,  4.66it/s]\u001b[A\n",
      " 29%|██▉       | 288/1000 [00:59<02:31,  4.69it/s]\u001b[A\n",
      " 29%|██▉       | 292/1000 [01:00<02:30,  4.71it/s]\u001b[A\n",
      " 30%|██▉       | 296/1000 [01:00<02:25,  4.85it/s]\u001b[A\n",
      " 30%|███       | 300/1000 [01:01<02:22,  4.93it/s]\u001b[A\n",
      " 30%|███       | 304/1000 [01:02<02:18,  5.02it/s]\u001b[A\n",
      " 31%|███       | 308/1000 [01:03<02:18,  5.01it/s]\u001b[A\n",
      " 31%|███       | 312/1000 [01:03<02:19,  4.93it/s]\u001b[A\n",
      " 32%|███▏      | 316/1000 [01:04<02:22,  4.81it/s]\u001b[A\n",
      " 32%|███▏      | 320/1000 [01:05<02:21,  4.81it/s]\u001b[A\n",
      " 32%|███▏      | 324/1000 [01:06<02:27,  4.59it/s]\u001b[A\n",
      " 33%|███▎      | 328/1000 [01:07<02:23,  4.67it/s]\u001b[A\n",
      " 33%|███▎      | 332/1000 [01:08<02:22,  4.70it/s]\u001b[A\n",
      " 34%|███▎      | 336/1000 [01:09<02:20,  4.73it/s]\u001b[A\n",
      " 34%|███▍      | 340/1000 [01:09<02:18,  4.76it/s]\u001b[A\n",
      " 34%|███▍      | 344/1000 [01:10<02:18,  4.73it/s]\u001b[A\n",
      " 35%|███▍      | 348/1000 [01:11<02:17,  4.75it/s]\u001b[A\n",
      " 35%|███▌      | 352/1000 [01:12<02:12,  4.90it/s]\u001b[A\n",
      " 36%|███▌      | 356/1000 [01:13<02:09,  4.98it/s]\u001b[A\n",
      " 36%|███▌      | 360/1000 [01:13<02:05,  5.08it/s]\u001b[A\n",
      " 36%|███▋      | 364/1000 [01:14<02:04,  5.11it/s]\u001b[A\n",
      " 37%|███▋      | 368/1000 [01:15<02:04,  5.07it/s]\u001b[A\n",
      " 37%|███▋      | 372/1000 [01:16<02:05,  4.99it/s]\u001b[A\n",
      " 38%|███▊      | 376/1000 [01:17<02:05,  4.97it/s]\u001b[A\n",
      " 38%|███▊      | 380/1000 [01:18<02:07,  4.86it/s]\u001b[A\n",
      " 38%|███▊      | 384/1000 [01:18<02:04,  4.96it/s]\u001b[A\n",
      " 39%|███▉      | 388/1000 [01:19<02:01,  5.03it/s]\u001b[A\n",
      " 39%|███▉      | 392/1000 [01:20<02:03,  4.92it/s]\u001b[A\n",
      " 40%|███▉      | 396/1000 [01:21<02:03,  4.91it/s]\u001b[A\n",
      " 40%|████      | 400/1000 [01:22<02:07,  4.70it/s]\u001b[A\n",
      " 40%|████      | 404/1000 [01:23<02:06,  4.70it/s]\u001b[A\n",
      " 41%|████      | 408/1000 [01:23<02:02,  4.84it/s]\u001b[A\n",
      " 41%|████      | 412/1000 [01:24<01:59,  4.92it/s]\u001b[A\n",
      " 42%|████▏     | 416/1000 [01:25<01:58,  4.92it/s]\u001b[A\n",
      " 42%|████▏     | 420/1000 [01:26<01:58,  4.88it/s]\u001b[A\n",
      " 42%|████▏     | 424/1000 [01:27<01:58,  4.85it/s]\u001b[A\n",
      " 43%|████▎     | 428/1000 [01:27<01:57,  4.89it/s]\u001b[A\n",
      " 43%|████▎     | 432/1000 [01:28<01:54,  4.98it/s]\u001b[A\n",
      " 44%|████▎     | 436/1000 [01:29<01:57,  4.80it/s]\u001b[A\n",
      " 44%|████▍     | 440/1000 [01:30<01:59,  4.70it/s]\u001b[A\n",
      " 44%|████▍     | 444/1000 [01:31<01:57,  4.74it/s]\u001b[A\n",
      " 45%|████▍     | 448/1000 [01:32<01:58,  4.67it/s]\u001b[A\n",
      " 45%|████▌     | 452/1000 [01:32<01:55,  4.76it/s]\u001b[A\n",
      " 46%|████▌     | 456/1000 [01:33<01:59,  4.53it/s]\u001b[A\n",
      " 46%|████▌     | 460/1000 [01:34<01:58,  4.57it/s]\u001b[A\n",
      " 46%|████▋     | 464/1000 [01:35<01:55,  4.63it/s]\u001b[A\n",
      " 47%|████▋     | 468/1000 [01:36<01:51,  4.78it/s]\u001b[A\n",
      " 47%|████▋     | 472/1000 [01:37<01:48,  4.87it/s]\u001b[A\n",
      " 48%|████▊     | 476/1000 [01:37<01:46,  4.92it/s]\u001b[A\n",
      " 48%|████▊     | 480/1000 [01:38<01:47,  4.83it/s]\u001b[A\n",
      " 48%|████▊     | 484/1000 [01:39<01:47,  4.81it/s]\u001b[A\n",
      " 49%|████▉     | 488/1000 [01:40<01:47,  4.77it/s]\u001b[A\n",
      " 49%|████▉     | 492/1000 [01:41<01:48,  4.66it/s]\u001b[A\n",
      " 50%|████▉     | 496/1000 [01:42<01:45,  4.79it/s]\u001b[A\n",
      " 50%|█████     | 500/1000 [01:43<01:42,  4.89it/s]\u001b[A\n",
      " 50%|█████     | 501/1000 [01:43<01:40,  4.98it/s]\u001b[A\n",
      " 50%|█████     | 504/1000 [01:43<01:45,  4.71it/s]\u001b[A\n",
      " 51%|█████     | 508/1000 [01:44<01:44,  4.72it/s]\u001b[A\n",
      " 51%|█████     | 512/1000 [01:45<01:47,  4.54it/s]\u001b[A\n",
      " 51%|█████▏    | 513/1000 [01:45<01:41,  4.79it/s]\u001b[A\n",
      " 52%|█████▏    | 516/1000 [01:46<01:44,  4.63it/s]\u001b[A\n",
      " 52%|█████▏    | 520/1000 [01:47<01:40,  4.79it/s]\u001b[A\n",
      " 52%|█████▏    | 524/1000 [01:48<01:36,  4.95it/s]\u001b[A\n",
      " 53%|█████▎    | 528/1000 [01:48<01:35,  4.96it/s]\u001b[A\n",
      " 53%|█████▎    | 532/1000 [01:49<01:36,  4.83it/s]\u001b[A\n",
      " 54%|█████▎    | 536/1000 [01:50<01:36,  4.80it/s]\u001b[A\n",
      " 54%|█████▍    | 540/1000 [01:51<01:33,  4.90it/s]\u001b[A\n",
      " 54%|█████▍    | 544/1000 [01:52<01:31,  5.01it/s]\u001b[A\n",
      " 55%|█████▍    | 548/1000 [01:52<01:33,  4.81it/s]\u001b[A\n",
      " 55%|█████▌    | 552/1000 [01:53<01:32,  4.82it/s]\u001b[A\n",
      " 56%|█████▌    | 556/1000 [01:54<01:32,  4.82it/s]\u001b[A\n",
      " 56%|█████▌    | 560/1000 [01:55<01:31,  4.78it/s]\u001b[A\n",
      " 56%|█████▋    | 564/1000 [01:56<01:30,  4.79it/s]\u001b[A\n",
      " 57%|█████▋    | 568/1000 [01:57<01:33,  4.61it/s]\u001b[A\n",
      " 57%|█████▋    | 572/1000 [01:58<01:32,  4.62it/s]\u001b[A\n",
      " 58%|█████▊    | 576/1000 [01:58<01:28,  4.79it/s]\u001b[A\n",
      " 58%|█████▊    | 580/1000 [01:59<01:27,  4.82it/s]\u001b[A\n",
      " 58%|█████▊    | 584/1000 [02:00<01:26,  4.82it/s]\u001b[A\n",
      " 59%|█████▉    | 588/1000 [02:01<01:25,  4.84it/s]\u001b[A\n",
      " 59%|█████▉    | 592/1000 [02:02<01:25,  4.79it/s]\u001b[A\n",
      " 60%|█████▉    | 596/1000 [02:02<01:22,  4.91it/s]\u001b[A\n",
      " 60%|██████    | 600/1000 [02:03<01:21,  4.93it/s]\u001b[A\n",
      " 60%|██████    | 604/1000 [02:04<01:19,  4.96it/s]\u001b[A\n",
      " 61%|██████    | 608/1000 [02:05<01:18,  4.96it/s]\u001b[A\n",
      " 61%|██████    | 612/1000 [02:06<01:19,  4.88it/s]\u001b[A\n",
      " 62%|██████▏   | 616/1000 [02:07<01:20,  4.79it/s]\u001b[A\n",
      " 62%|██████▏   | 620/1000 [02:07<01:20,  4.73it/s]\u001b[A\n",
      " 62%|██████▏   | 624/1000 [02:08<01:19,  4.71it/s]\u001b[A\n",
      " 63%|██████▎   | 628/1000 [02:09<01:17,  4.82it/s]\u001b[A\n",
      " 63%|██████▎   | 632/1000 [02:10<01:15,  4.84it/s]\u001b[A\n",
      " 64%|██████▎   | 636/1000 [02:11<01:14,  4.87it/s]\u001b[A\n",
      " 64%|██████▍   | 640/1000 [02:12<01:14,  4.86it/s]\u001b[A\n",
      " 64%|██████▍   | 644/1000 [02:12<01:16,  4.68it/s]\u001b[A\n",
      " 65%|██████▍   | 648/1000 [02:13<01:15,  4.65it/s]\u001b[A\n",
      " 65%|██████▌   | 652/1000 [02:14<01:13,  4.74it/s]\u001b[A\n",
      " 66%|██████▌   | 656/1000 [02:15<01:10,  4.86it/s]\u001b[A\n",
      " 66%|██████▌   | 657/1000 [02:15<01:07,  5.07it/s]\u001b[A\n",
      " 66%|██████▌   | 660/1000 [02:16<01:13,  4.62it/s]\u001b[A\n",
      " 66%|██████▋   | 664/1000 [02:17<01:11,  4.70it/s]\u001b[A\n",
      " 67%|██████▋   | 668/1000 [02:18<01:10,  4.71it/s]\u001b[A\n",
      " 67%|██████▋   | 672/1000 [02:18<01:10,  4.64it/s]\u001b[A\n",
      " 68%|██████▊   | 676/1000 [02:19<01:09,  4.64it/s]\u001b[A\n",
      " 68%|██████▊   | 680/1000 [02:20<01:09,  4.60it/s]\u001b[A\n",
      " 68%|██████▊   | 684/1000 [02:21<01:05,  4.79it/s]\u001b[A\n",
      " 69%|██████▉   | 688/1000 [02:22<01:03,  4.93it/s]\u001b[A\n",
      " 69%|██████▉   | 692/1000 [02:22<01:01,  4.99it/s]\u001b[A\n",
      " 70%|██████▉   | 696/1000 [02:23<01:01,  4.94it/s]\u001b[A\n",
      " 70%|███████   | 700/1000 [02:24<01:01,  4.88it/s]\u001b[A\n",
      " 70%|███████   | 704/1000 [02:25<01:01,  4.80it/s]\u001b[A\n",
      " 71%|███████   | 708/1000 [02:26<00:59,  4.93it/s]\u001b[A\n",
      " 71%|███████   | 712/1000 [02:27<00:57,  4.99it/s]\u001b[A\n",
      " 72%|███████▏  | 716/1000 [02:27<00:58,  4.82it/s]\u001b[A\n",
      " 72%|███████▏  | 720/1000 [02:28<00:57,  4.84it/s]\u001b[A\n",
      " 72%|███████▏  | 724/1000 [02:29<00:56,  4.88it/s]\u001b[A\n",
      " 73%|███████▎  | 728/1000 [02:30<00:56,  4.85it/s]\u001b[A\n",
      " 73%|███████▎  | 732/1000 [02:31<00:56,  4.78it/s]\u001b[A\n",
      " 74%|███████▎  | 736/1000 [02:32<00:57,  4.58it/s]\u001b[A\n",
      " 74%|███████▍  | 740/1000 [02:33<00:56,  4.59it/s]\u001b[A\n",
      " 74%|███████▍  | 744/1000 [02:33<00:55,  4.63it/s]\u001b[A\n",
      " 75%|███████▍  | 748/1000 [02:34<00:53,  4.74it/s]\u001b[A\n",
      " 75%|███████▌  | 752/1000 [02:35<00:51,  4.78it/s]\u001b[A\n",
      " 76%|███████▌  | 756/1000 [02:36<00:51,  4.78it/s]\u001b[A\n",
      " 76%|███████▌  | 760/1000 [02:37<00:50,  4.74it/s]\u001b[A\n",
      " 76%|███████▋  | 764/1000 [02:38<00:48,  4.82it/s]\u001b[A\n",
      " 77%|███████▋  | 768/1000 [02:38<00:48,  4.77it/s]\u001b[A\n",
      " 77%|███████▋  | 772/1000 [02:39<00:48,  4.73it/s]\u001b[A\n",
      " 78%|███████▊  | 776/1000 [02:40<00:46,  4.82it/s]\u001b[A\n",
      " 78%|███████▊  | 780/1000 [02:41<00:45,  4.86it/s]\u001b[A\n",
      " 78%|███████▊  | 784/1000 [02:42<00:46,  4.62it/s]\u001b[A\n",
      " 79%|███████▉  | 788/1000 [02:43<00:46,  4.52it/s]\u001b[A\n",
      " 79%|███████▉  | 792/1000 [02:44<00:45,  4.58it/s]\u001b[A\n",
      " 80%|███████▉  | 796/1000 [02:44<00:43,  4.67it/s]\u001b[A\n",
      " 80%|████████  | 800/1000 [02:45<00:42,  4.70it/s]\u001b[A\n",
      " 80%|████████  | 804/1000 [02:46<00:41,  4.70it/s]\u001b[A\n",
      " 81%|████████  | 808/1000 [02:47<00:39,  4.81it/s]\u001b[A\n",
      " 81%|████████  | 812/1000 [02:48<00:38,  4.90it/s]\u001b[A\n",
      " 82%|████████▏ | 816/1000 [02:48<00:36,  5.00it/s]\u001b[A\n",
      " 82%|████████▏ | 820/1000 [02:49<00:36,  5.00it/s]\u001b[A\n",
      " 82%|████████▏ | 824/1000 [02:50<00:35,  4.91it/s]\u001b[A\n",
      " 83%|████████▎ | 828/1000 [02:51<00:35,  4.84it/s]\u001b[A\n",
      " 83%|████████▎ | 832/1000 [02:52<00:34,  4.83it/s]\u001b[A\n",
      " 84%|████████▎ | 836/1000 [02:53<00:34,  4.78it/s]\u001b[A\n",
      " 84%|████████▍ | 840/1000 [02:53<00:33,  4.73it/s]\u001b[A\n",
      " 84%|████████▍ | 844/1000 [02:54<00:33,  4.68it/s]\u001b[A\n",
      " 85%|████████▍ | 848/1000 [02:55<00:32,  4.69it/s]\u001b[A\n",
      " 85%|████████▌ | 852/1000 [02:56<00:31,  4.77it/s]\u001b[A\n",
      " 86%|████████▌ | 856/1000 [02:57<00:30,  4.78it/s]\u001b[A\n",
      " 86%|████████▌ | 860/1000 [02:58<00:29,  4.76it/s]\u001b[A\n",
      " 86%|████████▋ | 864/1000 [02:58<00:27,  4.87it/s]\u001b[A\n",
      " 87%|████████▋ | 868/1000 [02:59<00:26,  4.94it/s]\u001b[A\n",
      " 87%|████████▋ | 872/1000 [03:00<00:25,  4.98it/s]\u001b[A\n",
      " 88%|████████▊ | 876/1000 [03:01<00:24,  4.97it/s]\u001b[A\n",
      " 88%|████████▊ | 880/1000 [03:02<00:25,  4.78it/s]\u001b[A\n",
      " 88%|████████▊ | 884/1000 [03:03<00:24,  4.74it/s]\u001b[A\n",
      " 89%|████████▉ | 888/1000 [03:03<00:23,  4.75it/s]\u001b[A\n",
      " 89%|████████▉ | 892/1000 [03:04<00:23,  4.59it/s]\u001b[A\n",
      " 90%|████████▉ | 896/1000 [03:05<00:22,  4.60it/s]\u001b[A\n",
      " 90%|█████████ | 900/1000 [03:06<00:21,  4.62it/s]\u001b[A\n",
      " 90%|█████████ | 904/1000 [03:07<00:21,  4.50it/s]\u001b[A\n",
      " 91%|█████████ | 908/1000 [03:08<00:19,  4.62it/s]\u001b[A\n",
      " 91%|█████████ | 912/1000 [03:09<00:19,  4.56it/s]\u001b[A\n",
      " 92%|█████████▏| 916/1000 [03:10<00:17,  4.68it/s]\u001b[A\n",
      " 92%|█████████▏| 920/1000 [03:10<00:16,  4.87it/s]\u001b[A\n",
      " 92%|█████████▏| 924/1000 [03:11<00:15,  4.96it/s]\u001b[A\n",
      " 93%|█████████▎| 928/1000 [03:12<00:14,  5.02it/s]\u001b[A\n",
      " 93%|█████████▎| 932/1000 [03:13<00:13,  5.03it/s]\u001b[A\n",
      " 94%|█████████▎| 936/1000 [03:13<00:12,  5.01it/s]\u001b[A\n",
      " 94%|█████████▍| 940/1000 [03:14<00:12,  4.85it/s]\u001b[A\n",
      " 94%|█████████▍| 944/1000 [03:15<00:11,  4.81it/s]\u001b[A\n",
      " 95%|█████████▍| 948/1000 [03:16<00:11,  4.58it/s]\u001b[A\n",
      " 95%|█████████▌| 952/1000 [03:17<00:10,  4.59it/s]\u001b[A\n",
      " 96%|█████████▌| 956/1000 [03:18<00:09,  4.53it/s]\u001b[A\n",
      " 96%|█████████▌| 960/1000 [03:19<00:08,  4.58it/s]\u001b[A\n",
      " 96%|█████████▋| 964/1000 [03:20<00:07,  4.56it/s]\u001b[A\n",
      " 97%|█████████▋| 968/1000 [03:21<00:06,  4.65it/s]\u001b[A\n",
      " 97%|█████████▋| 972/1000 [03:21<00:05,  4.75it/s]\u001b[A\n",
      " 98%|█████████▊| 976/1000 [03:22<00:04,  4.89it/s]\u001b[A\n",
      " 98%|█████████▊| 980/1000 [03:23<00:04,  4.97it/s]\u001b[A\n",
      " 98%|█████████▊| 984/1000 [03:24<00:03,  5.05it/s]\u001b[A\n",
      " 99%|█████████▉| 988/1000 [03:24<00:02,  5.10it/s]\u001b[A\n",
      " 99%|█████████▉| 992/1000 [03:25<00:01,  4.96it/s]\u001b[A\n",
      "100%|█████████▉| 996/1000 [03:26<00:00,  4.87it/s]\u001b[A\n",
      "100%|██████████| 1000/1000 [03:27<00:00,  4.82it/s]\n"
     ]
    }
   ],
   "source": [
    "pvalues_mw_log = run_design(data_2_weeks_log, \"mannwhitneyu\", 1000)"
   ]
  },
  {
   "cell_type": "code",
   "execution_count": 39,
   "metadata": {
    "colab": {
     "base_uri": "https://localhost:8080/",
     "height": 469
    },
    "id": "7ZzTmjl4w8nq",
    "outputId": "df91fe0c-e220-4a65-9a08-6f2747c0d7ef"
   },
   "outputs": [
    {
     "name": "stdout",
     "output_type": "stream",
     "text": [
      "significance: 4.9%\n",
      "p_value = 0.6900371507918334 - p_values равномерное распределение\n"
     ]
    },
    {
     "data": {
      "image/png": "[encoded data removed]",
      "text/plain": [
       "<Figure size 640x480 with 1 Axes>"
      ]
     },
     "metadata": {},
     "output_type": "display_data"
    }
   ],
   "source": [
    "check_significance(pvalues_mw_log)\n",
    "check_pvalues(pvalues_mw_log)"
   ]
  },
  {
   "cell_type": "markdown",
   "metadata": {
    "id": "ST3roTwvvuV1"
   },
   "source": [
    "### t-test + метрика длительности просмотров"
   ]
  },
  {
   "cell_type": "code",
   "execution_count": 61,
   "metadata": {
    "colab": {
     "base_uri": "https://localhost:8080/"
    },
    "collapsed": true,
    "id": "bhNFf9GQv5tb",
    "jupyter": {
     "outputs_hidden": true
    },
    "outputId": "48cf1966-041f-40ba-e6ad-77154d301d23"
   },
   "outputs": [
    {
     "name": "stderr",
     "output_type": "stream",
     "text": [
      "\n",
      "  0%|          | 0/1000 [00:00<?, ?it/s]\u001b[A\n",
      "  1%|          | 8/1000 [00:00<01:40,  9.87it/s]\u001b[A\n",
      "  1%|          | 12/1000 [00:01<02:17,  7.16it/s]\u001b[A\n",
      "  2%|▏         | 16/1000 [00:02<02:40,  6.14it/s]\u001b[A\n",
      "  2%|▏         | 20/1000 [00:03<02:50,  5.74it/s]\u001b[A\n",
      "  2%|▏         | 24/1000 [00:03<02:59,  5.44it/s]\u001b[A\n",
      "  3%|▎         | 28/1000 [00:05<03:30,  4.61it/s]\u001b[A\n",
      "  3%|▎         | 32/1000 [00:06<04:12,  3.84it/s]\u001b[A\n",
      "  4%|▎         | 36/1000 [00:07<03:52,  4.14it/s]\u001b[A\n",
      "  4%|▍         | 40/1000 [00:08<03:41,  4.34it/s]\u001b[A\n",
      "  4%|▍         | 44/1000 [00:08<03:32,  4.50it/s]\u001b[A\n",
      "  5%|▍         | 48/1000 [00:09<03:19,  4.76it/s]\u001b[A\n",
      "  5%|▌         | 52/1000 [00:10<03:23,  4.67it/s]\u001b[A\n",
      "  6%|▌         | 56/1000 [00:11<03:18,  4.75it/s]\u001b[A\n",
      "  6%|▌         | 60/1000 [00:12<03:15,  4.81it/s]\u001b[A\n",
      "  6%|▋         | 64/1000 [00:13<03:12,  4.86it/s]\u001b[A\n",
      "  7%|▋         | 68/1000 [00:13<03:08,  4.94it/s]\u001b[A\n",
      "  7%|▋         | 72/1000 [00:14<03:15,  4.74it/s]\u001b[A\n",
      "  8%|▊         | 76/1000 [00:15<03:09,  4.86it/s]\u001b[A\n",
      "  8%|▊         | 80/1000 [00:16<03:09,  4.85it/s]\u001b[A\n",
      "  8%|▊         | 84/1000 [00:17<03:07,  4.89it/s]\u001b[A\n",
      "  9%|▉         | 88/1000 [00:17<03:06,  4.88it/s]\u001b[A\n",
      "  9%|▉         | 92/1000 [00:18<03:05,  4.89it/s]\u001b[A\n",
      " 10%|▉         | 96/1000 [00:19<03:04,  4.91it/s]\u001b[A\n",
      " 10%|█         | 100/1000 [00:20<03:03,  4.90it/s]\u001b[A\n",
      " 10%|█         | 104/1000 [00:21<02:57,  5.04it/s]\u001b[A\n",
      " 11%|█         | 108/1000 [00:21<02:57,  5.03it/s]\u001b[A\n",
      " 11%|█         | 112/1000 [00:22<02:58,  4.97it/s]\u001b[A\n",
      " 12%|█▏        | 116/1000 [00:23<02:56,  5.01it/s]\u001b[A\n",
      " 12%|█▏        | 120/1000 [00:24<02:58,  4.94it/s]\u001b[A\n",
      " 12%|█▏        | 121/1000 [00:24<02:49,  5.20it/s]\u001b[A\n",
      " 12%|█▏        | 124/1000 [00:25<03:07,  4.67it/s]\u001b[A\n",
      " 13%|█▎        | 128/1000 [00:26<03:01,  4.81it/s]\u001b[A\n",
      " 13%|█▎        | 132/1000 [00:26<02:58,  4.85it/s]\u001b[A\n",
      " 14%|█▎        | 136/1000 [00:27<02:59,  4.81it/s]\u001b[A\n",
      " 14%|█▍        | 140/1000 [00:28<03:12,  4.48it/s]\u001b[A\n",
      " 14%|█▍        | 144/1000 [00:29<03:22,  4.22it/s]\u001b[A\n",
      " 15%|█▍        | 148/1000 [00:30<03:27,  4.12it/s]\u001b[A\n",
      " 15%|█▌        | 152/1000 [00:31<03:14,  4.37it/s]\u001b[A\n",
      " 16%|█▌        | 156/1000 [00:32<03:07,  4.51it/s]\u001b[A\n",
      " 16%|█▌        | 160/1000 [00:33<03:03,  4.58it/s]\u001b[A\n",
      " 16%|█▋        | 164/1000 [00:34<02:56,  4.75it/s]\u001b[A\n",
      " 17%|█▋        | 168/1000 [00:34<02:51,  4.86it/s]\u001b[A\n",
      " 17%|█▋        | 172/1000 [00:35<02:49,  4.88it/s]\u001b[A\n",
      " 18%|█▊        | 176/1000 [00:36<02:48,  4.90it/s]\u001b[A\n",
      " 18%|█▊        | 180/1000 [00:37<02:50,  4.81it/s]\u001b[A\n",
      " 18%|█▊        | 184/1000 [00:38<02:54,  4.68it/s]\u001b[A\n",
      " 19%|█▉        | 188/1000 [00:38<02:45,  4.92it/s]\u001b[A\n",
      " 19%|█▉        | 192/1000 [00:39<02:54,  4.62it/s]\u001b[A\n",
      " 20%|█▉        | 196/1000 [00:40<02:47,  4.79it/s]\u001b[A\n",
      " 20%|██        | 200/1000 [00:41<02:45,  4.83it/s]\u001b[A\n",
      " 20%|██        | 204/1000 [00:42<02:43,  4.87it/s]\u001b[A\n",
      " 21%|██        | 208/1000 [00:43<02:41,  4.89it/s]\u001b[A\n",
      " 21%|██        | 212/1000 [00:43<02:38,  4.96it/s]\u001b[A\n",
      " 22%|██▏       | 216/1000 [00:44<02:39,  4.91it/s]\u001b[A\n",
      " 22%|██▏       | 220/1000 [00:45<02:33,  5.08it/s]\u001b[A\n",
      " 22%|██▏       | 224/1000 [00:46<02:31,  5.13it/s]\u001b[A\n",
      " 23%|██▎       | 228/1000 [00:47<02:31,  5.11it/s]\u001b[A\n",
      " 23%|██▎       | 232/1000 [00:47<02:31,  5.06it/s]\u001b[A\n",
      " 24%|██▎       | 236/1000 [00:48<02:32,  5.02it/s]\u001b[A\n",
      " 24%|██▍       | 240/1000 [00:49<02:32,  4.99it/s]\u001b[A\n",
      " 24%|██▍       | 244/1000 [00:50<02:33,  4.92it/s]\u001b[A\n",
      " 25%|██▍       | 248/1000 [00:51<02:30,  5.01it/s]\u001b[A\n",
      " 25%|██▌       | 252/1000 [00:51<02:30,  4.98it/s]\u001b[A\n",
      " 26%|██▌       | 256/1000 [00:52<02:32,  4.89it/s]\u001b[A\n",
      " 26%|██▌       | 260/1000 [00:53<02:27,  5.02it/s]\u001b[A\n",
      " 26%|██▋       | 264/1000 [00:54<02:28,  4.96it/s]\u001b[A\n",
      " 27%|██▋       | 268/1000 [00:55<02:26,  5.00it/s]\u001b[A\n",
      " 27%|██▋       | 272/1000 [00:55<02:26,  4.98it/s]\u001b[A\n",
      " 28%|██▊       | 276/1000 [00:56<02:25,  4.97it/s]\u001b[A\n",
      " 28%|██▊       | 280/1000 [00:57<02:24,  4.98it/s]\u001b[A\n",
      " 28%|██▊       | 284/1000 [00:58<02:21,  5.07it/s]\u001b[A\n",
      " 29%|██▉       | 288/1000 [00:59<02:27,  4.83it/s]\u001b[A\n",
      " 29%|██▉       | 292/1000 [00:59<02:23,  4.94it/s]\u001b[A\n",
      " 30%|██▉       | 296/1000 [01:00<02:19,  5.05it/s]\u001b[A\n",
      " 30%|███       | 300/1000 [01:01<02:18,  5.04it/s]\u001b[A\n",
      " 30%|███       | 304/1000 [01:02<02:20,  4.94it/s]\u001b[A\n",
      " 31%|███       | 308/1000 [01:03<02:21,  4.88it/s]\u001b[A\n",
      " 31%|███       | 312/1000 [01:04<02:22,  4.84it/s]\u001b[A\n",
      " 32%|███▏      | 316/1000 [01:04<02:23,  4.76it/s]\u001b[A\n",
      " 32%|███▏      | 320/1000 [01:05<02:16,  4.98it/s]\u001b[A\n",
      " 32%|███▏      | 324/1000 [01:06<02:13,  5.06it/s]\u001b[A\n",
      " 33%|███▎      | 328/1000 [01:07<02:12,  5.07it/s]\u001b[A\n",
      " 33%|███▎      | 332/1000 [01:08<02:16,  4.90it/s]\u001b[A\n",
      " 34%|███▎      | 336/1000 [01:08<02:16,  4.86it/s]\u001b[A\n",
      " 34%|███▍      | 340/1000 [01:09<02:12,  4.97it/s]\u001b[A\n",
      " 34%|███▍      | 344/1000 [01:10<02:12,  4.94it/s]\u001b[A\n",
      " 35%|███▍      | 348/1000 [01:11<02:11,  4.95it/s]\u001b[A\n",
      " 35%|███▌      | 352/1000 [01:12<02:10,  4.96it/s]\u001b[A\n",
      " 36%|███▌      | 356/1000 [01:12<02:12,  4.85it/s]\u001b[A\n",
      " 36%|███▌      | 360/1000 [01:13<02:10,  4.91it/s]\u001b[A\n",
      " 36%|███▋      | 364/1000 [01:14<02:09,  4.92it/s]\u001b[A\n",
      " 37%|███▋      | 368/1000 [01:15<02:09,  4.88it/s]\u001b[A\n",
      " 37%|███▋      | 372/1000 [01:16<02:06,  4.97it/s]\u001b[A\n",
      " 38%|███▊      | 376/1000 [01:16<02:02,  5.11it/s]\u001b[A\n",
      " 38%|███▊      | 380/1000 [01:17<02:09,  4.79it/s]\u001b[A\n",
      " 38%|███▊      | 384/1000 [01:18<02:06,  4.88it/s]\u001b[A\n",
      " 39%|███▉      | 388/1000 [01:19<02:09,  4.73it/s]\u001b[A\n",
      " 39%|███▉      | 392/1000 [01:20<02:06,  4.80it/s]\u001b[A\n",
      " 40%|███▉      | 396/1000 [01:21<02:04,  4.85it/s]\u001b[A\n",
      " 40%|████      | 400/1000 [01:22<02:05,  4.79it/s]\u001b[A\n",
      " 40%|████      | 404/1000 [01:22<02:00,  4.94it/s]\u001b[A\n",
      " 41%|████      | 408/1000 [01:23<01:55,  5.11it/s]\u001b[A\n",
      " 41%|████      | 412/1000 [01:24<01:55,  5.10it/s]\u001b[A\n",
      " 42%|████▏     | 416/1000 [01:25<01:55,  5.05it/s]\u001b[A\n",
      " 42%|████▏     | 420/1000 [01:25<01:57,  4.92it/s]\u001b[A\n",
      " 42%|████▏     | 424/1000 [01:26<02:00,  4.78it/s]\u001b[A\n",
      " 43%|████▎     | 428/1000 [01:27<02:00,  4.75it/s]\u001b[A\n",
      " 43%|████▎     | 432/1000 [01:28<01:55,  4.90it/s]\u001b[A\n",
      " 44%|████▎     | 436/1000 [01:29<01:53,  4.97it/s]\u001b[A\n",
      " 44%|████▍     | 440/1000 [01:30<01:53,  4.92it/s]\u001b[A\n",
      " 44%|████▍     | 444/1000 [01:30<01:50,  5.05it/s]\u001b[A\n",
      " 45%|████▍     | 448/1000 [01:31<01:48,  5.08it/s]\u001b[A\n",
      " 45%|████▌     | 452/1000 [01:32<01:50,  4.98it/s]\u001b[A\n",
      " 46%|████▌     | 456/1000 [01:33<01:48,  5.01it/s]\u001b[A\n",
      " 46%|████▌     | 460/1000 [01:34<01:53,  4.77it/s]\u001b[A\n",
      " 46%|████▋     | 464/1000 [01:34<01:49,  4.88it/s]\u001b[A\n",
      " 47%|████▋     | 468/1000 [01:35<01:49,  4.87it/s]\u001b[A\n",
      " 47%|████▋     | 472/1000 [01:36<01:49,  4.81it/s]\u001b[A\n",
      " 48%|████▊     | 476/1000 [01:37<01:46,  4.92it/s]\u001b[A\n",
      " 48%|████▊     | 480/1000 [01:38<01:46,  4.90it/s]\u001b[A\n",
      " 48%|████▊     | 484/1000 [01:38<01:44,  4.92it/s]\u001b[A\n",
      " 49%|████▉     | 488/1000 [01:39<01:44,  4.91it/s]\u001b[A\n",
      " 49%|████▉     | 492/1000 [01:40<01:44,  4.88it/s]\u001b[A\n",
      " 50%|████▉     | 496/1000 [01:41<01:44,  4.83it/s]\u001b[A\n",
      " 50%|█████     | 500/1000 [01:42<01:43,  4.84it/s]\u001b[A\n",
      " 50%|█████     | 504/1000 [01:43<01:43,  4.78it/s]\u001b[A\n",
      " 51%|█████     | 508/1000 [01:43<01:39,  4.96it/s]\u001b[A\n",
      " 51%|█████     | 512/1000 [01:44<01:35,  5.09it/s]\u001b[A\n",
      " 52%|█████▏    | 516/1000 [01:45<01:34,  5.14it/s]\u001b[A\n",
      " 52%|█████▏    | 520/1000 [01:46<01:32,  5.17it/s]\u001b[A\n",
      " 52%|█████▏    | 524/1000 [01:46<01:33,  5.07it/s]\u001b[A\n",
      " 53%|█████▎    | 528/1000 [01:47<01:35,  4.94it/s]\u001b[A\n",
      " 53%|█████▎    | 532/1000 [01:48<01:36,  4.87it/s]\u001b[A\n",
      " 54%|█████▎    | 536/1000 [01:49<01:34,  4.90it/s]\u001b[A\n",
      " 54%|█████▍    | 540/1000 [01:50<01:35,  4.83it/s]\u001b[A\n",
      " 54%|█████▍    | 544/1000 [01:51<01:34,  4.81it/s]\u001b[A\n",
      " 55%|█████▍    | 548/1000 [01:51<01:32,  4.88it/s]\u001b[A\n",
      " 55%|█████▌    | 552/1000 [01:52<01:29,  5.03it/s]\u001b[A\n",
      " 56%|█████▌    | 556/1000 [01:53<01:32,  4.78it/s]\u001b[A\n",
      " 56%|█████▌    | 560/1000 [01:54<01:31,  4.82it/s]\u001b[A\n",
      " 56%|█████▋    | 564/1000 [01:55<01:30,  4.84it/s]\u001b[A\n",
      " 57%|█████▋    | 568/1000 [01:56<01:31,  4.72it/s]\u001b[A\n",
      " 57%|█████▋    | 572/1000 [01:57<01:30,  4.75it/s]\u001b[A\n",
      " 58%|█████▊    | 576/1000 [01:57<01:29,  4.73it/s]\u001b[A\n",
      " 58%|█████▊    | 580/1000 [01:58<01:25,  4.91it/s]\u001b[A\n",
      " 58%|█████▊    | 584/1000 [01:59<01:22,  5.02it/s]\u001b[A\n",
      " 59%|█████▉    | 588/1000 [02:00<01:21,  5.07it/s]\u001b[A\n",
      " 59%|█████▉    | 592/1000 [02:00<01:22,  4.97it/s]\u001b[A\n",
      " 60%|█████▉    | 596/1000 [02:01<01:22,  4.88it/s]\u001b[A\n",
      " 60%|██████    | 600/1000 [02:02<01:22,  4.82it/s]\u001b[A\n",
      " 60%|██████    | 604/1000 [02:03<01:23,  4.75it/s]\u001b[A\n",
      " 61%|██████    | 608/1000 [02:04<01:20,  4.86it/s]\u001b[A\n",
      " 61%|██████    | 612/1000 [02:05<01:21,  4.78it/s]\u001b[A\n",
      " 62%|██████▏   | 616/1000 [02:06<01:20,  4.79it/s]\u001b[A\n",
      " 62%|██████▏   | 620/1000 [02:06<01:16,  4.95it/s]\u001b[A\n",
      " 62%|██████▏   | 624/1000 [02:07<01:14,  5.05it/s]\u001b[A\n",
      " 63%|██████▎   | 628/1000 [02:08<01:14,  5.01it/s]\u001b[A\n",
      " 63%|██████▎   | 632/1000 [02:09<01:14,  4.96it/s]\u001b[A\n",
      " 64%|██████▎   | 636/1000 [02:09<01:13,  4.94it/s]\u001b[A\n",
      " 64%|██████▍   | 640/1000 [02:10<01:15,  4.77it/s]\u001b[A\n",
      " 64%|██████▍   | 644/1000 [02:11<01:14,  4.81it/s]\u001b[A\n",
      " 65%|██████▍   | 648/1000 [02:12<01:13,  4.76it/s]\u001b[A\n",
      " 65%|██████▌   | 652/1000 [02:13<01:11,  4.89it/s]\u001b[A\n",
      " 66%|██████▌   | 656/1000 [02:14<01:09,  4.97it/s]\u001b[A\n",
      " 66%|██████▌   | 660/1000 [02:14<01:08,  4.99it/s]\u001b[A\n",
      " 66%|██████▋   | 664/1000 [02:15<01:08,  4.93it/s]\u001b[A\n",
      " 67%|██████▋   | 668/1000 [02:16<01:07,  4.90it/s]\u001b[A\n",
      " 67%|██████▋   | 672/1000 [02:17<01:07,  4.86it/s]\u001b[A\n",
      " 68%|██████▊   | 676/1000 [02:18<01:07,  4.80it/s]\u001b[A\n",
      " 68%|██████▊   | 680/1000 [02:19<01:05,  4.89it/s]\u001b[A\n",
      " 68%|██████▊   | 684/1000 [02:19<01:04,  4.89it/s]\u001b[A\n",
      " 69%|██████▉   | 688/1000 [02:20<01:04,  4.87it/s]\u001b[A\n",
      " 69%|██████▉   | 692/1000 [02:21<01:02,  4.94it/s]\u001b[A\n",
      " 70%|██████▉   | 696/1000 [02:22<01:00,  5.04it/s]\u001b[A\n",
      " 70%|███████   | 700/1000 [02:23<01:02,  4.81it/s]\u001b[A\n",
      " 70%|███████   | 704/1000 [02:23<01:00,  4.86it/s]\u001b[A\n",
      " 71%|███████   | 708/1000 [02:24<01:00,  4.84it/s]\u001b[A\n",
      " 71%|███████   | 712/1000 [02:25<01:01,  4.69it/s]\u001b[A\n",
      " 72%|███████▏  | 716/1000 [02:26<01:00,  4.66it/s]\u001b[A\n",
      " 72%|███████▏  | 720/1000 [02:27<01:00,  4.62it/s]\u001b[A\n",
      " 72%|███████▏  | 724/1000 [02:28<00:57,  4.84it/s]\u001b[A\n",
      " 73%|███████▎  | 728/1000 [02:28<00:55,  4.93it/s]\u001b[A\n",
      " 73%|███████▎  | 732/1000 [02:29<00:53,  4.99it/s]\u001b[A\n",
      " 74%|███████▎  | 736/1000 [02:30<00:52,  4.99it/s]\u001b[A\n",
      " 74%|███████▍  | 740/1000 [02:31<00:52,  4.95it/s]\u001b[A\n",
      " 74%|███████▍  | 744/1000 [02:32<00:53,  4.80it/s]\u001b[A\n",
      " 75%|███████▍  | 748/1000 [02:33<00:52,  4.84it/s]\u001b[A\n",
      " 75%|███████▌  | 752/1000 [02:33<00:50,  4.94it/s]\u001b[A\n",
      " 76%|███████▌  | 756/1000 [02:34<00:49,  4.98it/s]\u001b[A\n",
      " 76%|███████▌  | 760/1000 [02:35<00:48,  4.92it/s]\u001b[A\n",
      " 76%|███████▋  | 764/1000 [02:36<00:47,  4.95it/s]\u001b[A\n",
      " 77%|███████▋  | 768/1000 [02:37<00:46,  5.03it/s]\u001b[A\n",
      " 77%|███████▋  | 772/1000 [02:37<00:47,  4.78it/s]\u001b[A\n",
      " 78%|███████▊  | 776/1000 [02:38<00:46,  4.82it/s]\u001b[A\n",
      " 78%|███████▊  | 780/1000 [02:39<00:45,  4.87it/s]\u001b[A\n",
      " 78%|███████▊  | 784/1000 [02:40<00:45,  4.79it/s]\u001b[A\n",
      " 79%|███████▉  | 788/1000 [02:41<00:42,  4.94it/s]\u001b[A\n",
      " 79%|███████▉  | 792/1000 [02:42<00:42,  4.92it/s]\u001b[A\n",
      " 80%|███████▉  | 796/1000 [02:42<00:41,  4.91it/s]\u001b[A\n",
      " 80%|████████  | 800/1000 [02:43<00:41,  4.85it/s]\u001b[A\n",
      " 80%|████████  | 804/1000 [02:44<00:40,  4.89it/s]\u001b[A\n",
      " 81%|████████  | 808/1000 [02:45<00:38,  4.97it/s]\u001b[A\n",
      " 81%|████████  | 812/1000 [02:46<00:37,  4.98it/s]\u001b[A\n",
      " 82%|████████▏ | 816/1000 [02:46<00:37,  4.92it/s]\u001b[A\n",
      " 82%|████████▏ | 820/1000 [02:47<00:36,  4.99it/s]\u001b[A\n",
      " 82%|████████▏ | 824/1000 [02:48<00:35,  5.00it/s]\u001b[A\n",
      " 83%|████████▎ | 828/1000 [02:49<00:34,  4.93it/s]\u001b[A\n",
      " 83%|████████▎ | 832/1000 [02:50<00:34,  4.80it/s]\u001b[A\n",
      " 84%|████████▎ | 836/1000 [02:51<00:34,  4.82it/s]\u001b[A\n",
      " 84%|████████▍ | 840/1000 [02:51<00:33,  4.83it/s]\u001b[A\n",
      " 84%|████████▍ | 844/1000 [02:52<00:32,  4.80it/s]\u001b[A\n",
      " 85%|████████▍ | 848/1000 [02:53<00:30,  4.91it/s]\u001b[A\n",
      " 85%|████████▌ | 852/1000 [02:54<00:29,  5.00it/s]\u001b[A\n",
      " 86%|████████▌ | 856/1000 [02:54<00:28,  5.11it/s]\u001b[A\n",
      " 86%|████████▌ | 860/1000 [02:55<00:27,  5.18it/s]\u001b[A\n",
      " 86%|████████▋ | 864/1000 [02:56<00:26,  5.11it/s]\u001b[A\n",
      " 87%|████████▋ | 868/1000 [02:57<00:26,  5.02it/s]\u001b[A\n",
      " 87%|████████▋ | 872/1000 [02:58<00:25,  4.97it/s]\u001b[A\n",
      " 88%|████████▊ | 876/1000 [02:59<00:25,  4.84it/s]\u001b[A\n",
      " 88%|████████▊ | 880/1000 [02:59<00:24,  4.95it/s]\u001b[A\n",
      " 88%|████████▊ | 884/1000 [03:00<00:23,  4.89it/s]\u001b[A\n",
      " 89%|████████▉ | 888/1000 [03:01<00:22,  5.01it/s]\u001b[A\n",
      " 89%|████████▉ | 892/1000 [03:02<00:22,  4.75it/s]\u001b[A\n",
      " 90%|████████▉ | 896/1000 [03:03<00:21,  4.81it/s]\u001b[A\n",
      " 90%|█████████ | 900/1000 [03:03<00:20,  4.96it/s]\u001b[A\n",
      " 90%|█████████ | 904/1000 [03:04<00:20,  4.74it/s]\u001b[A\n",
      " 91%|█████████ | 908/1000 [03:05<00:18,  4.88it/s]\u001b[A\n",
      " 91%|█████████ | 912/1000 [03:06<00:17,  4.99it/s]\u001b[A\n",
      " 92%|█████████▏| 916/1000 [03:07<00:16,  5.03it/s]\u001b[A\n",
      " 92%|█████████▏| 920/1000 [03:07<00:16,  4.96it/s]\u001b[A\n",
      " 92%|█████████▏| 924/1000 [03:08<00:15,  4.99it/s]\u001b[A\n",
      " 93%|█████████▎| 928/1000 [03:09<00:14,  5.02it/s]\u001b[A\n",
      " 93%|█████████▎| 932/1000 [03:10<00:14,  4.85it/s]\u001b[A\n",
      " 94%|█████████▎| 936/1000 [03:11<00:13,  4.76it/s]\u001b[A\n",
      " 94%|█████████▍| 940/1000 [03:12<00:12,  4.70it/s]\u001b[A\n",
      " 94%|█████████▍| 944/1000 [03:13<00:11,  4.71it/s]\u001b[A\n",
      " 95%|█████████▍| 948/1000 [03:13<00:11,  4.71it/s]\u001b[A\n",
      " 95%|█████████▌| 952/1000 [03:14<00:09,  4.91it/s]\u001b[A\n",
      " 96%|█████████▌| 956/1000 [03:15<00:08,  4.99it/s]\u001b[A\n",
      " 96%|█████████▌| 960/1000 [03:16<00:07,  5.12it/s]\u001b[A\n",
      " 96%|█████████▋| 964/1000 [03:17<00:07,  4.93it/s]\u001b[A\n",
      " 97%|█████████▋| 968/1000 [03:17<00:06,  4.97it/s]\u001b[A\n",
      " 97%|█████████▋| 972/1000 [03:18<00:05,  5.05it/s]\u001b[A\n",
      " 98%|█████████▊| 976/1000 [03:19<00:05,  4.79it/s]\u001b[A\n",
      " 98%|█████████▊| 980/1000 [03:20<00:04,  4.89it/s]\u001b[A\n",
      " 98%|█████████▊| 984/1000 [03:21<00:03,  4.94it/s]\u001b[A\n",
      " 99%|█████████▉| 988/1000 [03:21<00:02,  5.03it/s]\u001b[A\n",
      " 99%|█████████▉| 992/1000 [03:22<00:01,  5.12it/s]\u001b[A\n",
      "100%|█████████▉| 996/1000 [03:23<00:00,  5.10it/s]\u001b[A\n",
      "100%|██████████| 1000/1000 [03:24<00:00,  4.90it/s]\n"
     ]
    }
   ],
   "source": [
    "pvalues_tt = run_design(data_2_weeks, \"ttest_ind\", 1000)"
   ]
  },
  {
   "cell_type": "code",
   "execution_count": 62,
   "metadata": {
    "colab": {
     "base_uri": "https://localhost:8080/",
     "height": 466
    },
    "id": "ISWN7hG_w9MI",
    "outputId": "4d3473b9-50c0-4895-a032-b0ea79333bf2"
   },
   "outputs": [
    {
     "name": "stdout",
     "output_type": "stream",
     "text": [
      "significance: 4.7%\n",
      "p_value = 0.4965472252356269 - p_values равномерное распределение\n"
     ]
    },
    {
     "data": {
      "image/png": "[encoded data removed]",
      "text/plain": [
       "<Figure size 640x480 with 1 Axes>"
      ]
     },
     "metadata": {},
     "output_type": "display_data"
    }
   ],
   "source": [
    "check_significance(pvalues_tt)\n",
    "check_pvalues(pvalues_tt)"
   ]
  },
  {
   "cell_type": "markdown",
   "metadata": {
    "id": "YO1um9Y8vucY"
   },
   "source": [
    "### t-test + логарифмированная метрика длительности просмотров"
   ]
  },
  {
   "cell_type": "code",
   "execution_count": 63,
   "metadata": {
    "colab": {
     "base_uri": "https://localhost:8080/"
    },
    "collapsed": true,
    "id": "PvmmZTyPv3C5",
    "jupyter": {
     "outputs_hidden": true
    },
    "outputId": "7f2184d4-e02e-4e3b-aa42-540887ad3441"
   },
   "outputs": [
    {
     "name": "stderr",
     "output_type": "stream",
     "text": [
      "\n",
      "  0%|          | 0/1000 [00:00<?, ?it/s]\u001b[A\n",
      "  1%|          | 8/1000 [00:00<01:45,  9.44it/s]\u001b[A\n",
      "  1%|          | 12/1000 [00:01<02:21,  6.98it/s]\u001b[A\n",
      "  2%|▏         | 16/1000 [00:02<02:39,  6.19it/s]\u001b[A\n",
      "  2%|▏         | 20/1000 [00:03<02:50,  5.75it/s]\u001b[A\n",
      "  2%|▏         | 24/1000 [00:03<02:53,  5.63it/s]\u001b[A\n",
      "  3%|▎         | 28/1000 [00:04<02:56,  5.52it/s]\u001b[A\n",
      "  3%|▎         | 32/1000 [00:05<02:59,  5.40it/s]\u001b[A\n",
      "  4%|▎         | 36/1000 [00:06<03:00,  5.34it/s]\u001b[A\n",
      "  4%|▍         | 40/1000 [00:06<03:00,  5.31it/s]\u001b[A\n",
      "  4%|▍         | 44/1000 [00:07<03:00,  5.28it/s]\u001b[A\n",
      "  5%|▍         | 48/1000 [00:08<03:07,  5.08it/s]\u001b[A\n",
      "  5%|▌         | 52/1000 [00:09<03:06,  5.07it/s]\u001b[A\n",
      "  6%|▌         | 56/1000 [00:10<03:15,  4.84it/s]\u001b[A\n",
      "  6%|▌         | 60/1000 [00:11<03:14,  4.84it/s]\u001b[A\n",
      "  6%|▋         | 64/1000 [00:11<03:14,  4.82it/s]\u001b[A\n",
      "  7%|▋         | 68/1000 [00:12<03:07,  4.97it/s]\u001b[A\n",
      "  7%|▋         | 72/1000 [00:13<03:04,  5.03it/s]\u001b[A\n",
      "  8%|▊         | 76/1000 [00:14<03:01,  5.09it/s]\u001b[A\n",
      "  8%|▊         | 80/1000 [00:15<03:00,  5.09it/s]\u001b[A\n",
      "  8%|▊         | 84/1000 [00:15<03:02,  5.02it/s]\u001b[A\n",
      "  9%|▉         | 88/1000 [00:16<03:03,  4.97it/s]\u001b[A\n",
      "  9%|▉         | 92/1000 [00:17<03:05,  4.89it/s]\u001b[A\n",
      " 10%|▉         | 96/1000 [00:18<03:02,  4.96it/s]\u001b[A\n",
      " 10%|█         | 100/1000 [00:19<03:03,  4.91it/s]\u001b[A\n",
      " 10%|█         | 104/1000 [00:20<03:04,  4.86it/s]\u001b[A\n",
      " 11%|█         | 108/1000 [00:20<03:02,  4.90it/s]\u001b[A\n",
      " 11%|█         | 112/1000 [00:21<03:01,  4.89it/s]\u001b[A\n",
      " 12%|█▏        | 116/1000 [00:22<03:00,  4.90it/s]\u001b[A\n",
      " 12%|█▏        | 120/1000 [00:23<03:00,  4.88it/s]\u001b[A\n",
      " 12%|█▏        | 124/1000 [00:24<03:00,  4.84it/s]\u001b[A\n",
      " 13%|█▎        | 128/1000 [00:24<03:00,  4.84it/s]\u001b[A\n",
      " 13%|█▎        | 132/1000 [00:25<02:57,  4.90it/s]\u001b[A\n",
      " 14%|█▎        | 136/1000 [00:26<02:57,  4.87it/s]\u001b[A\n",
      " 14%|█▍        | 140/1000 [00:27<02:51,  5.02it/s]\u001b[A\n",
      " 14%|█▍        | 144/1000 [00:28<02:47,  5.12it/s]\u001b[A\n",
      " 15%|█▍        | 148/1000 [00:28<02:49,  5.02it/s]\u001b[A\n",
      " 15%|█▌        | 152/1000 [00:29<02:48,  5.04it/s]\u001b[A\n",
      " 16%|█▌        | 156/1000 [00:30<02:50,  4.94it/s]\u001b[A\n",
      " 16%|█▌        | 160/1000 [00:31<02:52,  4.87it/s]\u001b[A\n",
      " 16%|█▋        | 164/1000 [00:32<02:58,  4.68it/s]\u001b[A\n",
      " 17%|█▋        | 168/1000 [00:33<02:54,  4.78it/s]\u001b[A\n",
      " 17%|█▋        | 172/1000 [00:33<02:47,  4.93it/s]\u001b[A\n",
      " 18%|█▊        | 176/1000 [00:34<02:44,  5.01it/s]\u001b[A\n",
      " 18%|█▊        | 180/1000 [00:35<02:44,  5.00it/s]\u001b[A\n",
      " 18%|█▊        | 184/1000 [00:36<02:41,  5.04it/s]\u001b[A\n",
      " 19%|█▉        | 188/1000 [00:36<02:39,  5.09it/s]\u001b[A\n",
      " 19%|█▉        | 192/1000 [00:37<02:40,  5.05it/s]\u001b[A\n",
      " 20%|█▉        | 196/1000 [00:38<02:41,  4.98it/s]\u001b[A\n",
      " 20%|██        | 200/1000 [00:39<02:41,  4.94it/s]\u001b[A\n",
      " 20%|██        | 204/1000 [00:40<02:43,  4.86it/s]\u001b[A\n",
      " 21%|██        | 208/1000 [00:41<02:42,  4.86it/s]\u001b[A\n",
      " 21%|██        | 212/1000 [00:41<02:36,  5.02it/s]\u001b[A\n",
      " 22%|██▏       | 216/1000 [00:42<02:34,  5.07it/s]\u001b[A\n",
      " 22%|██▏       | 220/1000 [00:43<02:35,  5.01it/s]\u001b[A\n",
      " 22%|██▏       | 224/1000 [00:44<02:35,  4.99it/s]\u001b[A\n",
      " 23%|██▎       | 228/1000 [00:45<02:37,  4.91it/s]\u001b[A\n",
      " 23%|██▎       | 232/1000 [00:45<02:38,  4.84it/s]\u001b[A\n",
      " 24%|██▎       | 236/1000 [00:46<02:39,  4.78it/s]\u001b[A\n",
      " 24%|██▍       | 240/1000 [00:47<02:37,  4.84it/s]\u001b[A\n",
      " 24%|██▍       | 244/1000 [00:48<02:32,  4.97it/s]\u001b[A\n",
      " 25%|██▍       | 248/1000 [00:49<02:40,  4.69it/s]\u001b[A\n",
      " 25%|██▌       | 252/1000 [00:50<02:35,  4.81it/s]\u001b[A\n",
      " 26%|██▌       | 256/1000 [00:50<02:33,  4.86it/s]\u001b[A\n",
      " 26%|██▌       | 260/1000 [00:51<02:32,  4.84it/s]\u001b[A\n",
      " 26%|██▋       | 264/1000 [00:52<02:27,  4.98it/s]\u001b[A\n",
      " 27%|██▋       | 268/1000 [00:53<02:26,  5.01it/s]\u001b[A\n",
      " 27%|██▋       | 272/1000 [00:54<02:24,  5.02it/s]\u001b[A\n",
      " 28%|██▊       | 276/1000 [00:54<02:27,  4.90it/s]\u001b[A\n",
      " 28%|██▊       | 280/1000 [00:55<02:29,  4.83it/s]\u001b[A\n",
      " 28%|██▊       | 284/1000 [00:56<02:29,  4.78it/s]\u001b[A\n",
      " 29%|██▉       | 288/1000 [00:57<02:28,  4.80it/s]\u001b[A\n",
      " 29%|██▉       | 292/1000 [00:58<02:27,  4.79it/s]\u001b[A\n",
      " 30%|██▉       | 296/1000 [00:59<02:21,  4.97it/s]\u001b[A\n",
      " 30%|███       | 300/1000 [00:59<02:16,  5.12it/s]\u001b[A\n",
      " 30%|███       | 304/1000 [01:00<02:16,  5.12it/s]\u001b[A\n",
      " 31%|███       | 308/1000 [01:01<02:16,  5.05it/s]\u001b[A\n",
      " 31%|███       | 312/1000 [01:02<02:16,  5.04it/s]\u001b[A\n",
      " 32%|███▏      | 316/1000 [01:02<02:16,  5.01it/s]\u001b[A\n",
      " 32%|███▏      | 320/1000 [01:03<02:16,  4.97it/s]\u001b[A\n",
      " 32%|███▏      | 324/1000 [01:04<02:11,  5.15it/s]\u001b[A\n",
      " 33%|███▎      | 328/1000 [01:05<02:10,  5.14it/s]\u001b[A\n",
      " 33%|███▎      | 332/1000 [01:06<02:13,  5.02it/s]\u001b[A\n",
      " 34%|███▎      | 336/1000 [01:06<02:11,  5.07it/s]\u001b[A\n",
      " 34%|███▍      | 340/1000 [01:07<02:08,  5.12it/s]\u001b[A\n",
      " 34%|███▍      | 344/1000 [01:08<02:19,  4.71it/s]\u001b[A\n",
      " 35%|███▍      | 348/1000 [01:09<02:18,  4.70it/s]\u001b[A\n",
      " 35%|███▌      | 352/1000 [01:10<02:16,  4.73it/s]\u001b[A\n",
      " 36%|███▌      | 356/1000 [01:11<02:14,  4.78it/s]\u001b[A\n",
      " 36%|███▌      | 360/1000 [01:12<02:16,  4.68it/s]\u001b[A\n",
      " 36%|███▋      | 364/1000 [01:12<02:15,  4.71it/s]\u001b[A\n",
      " 37%|███▋      | 368/1000 [01:13<02:12,  4.76it/s]\u001b[A\n",
      " 37%|███▋      | 372/1000 [01:14<02:05,  5.00it/s]\u001b[A\n",
      " 38%|███▊      | 376/1000 [01:15<02:03,  5.07it/s]\u001b[A\n",
      " 38%|███▊      | 380/1000 [01:15<02:02,  5.07it/s]\u001b[A\n",
      " 38%|███▊      | 384/1000 [01:16<02:00,  5.10it/s]\u001b[A\n",
      " 39%|███▉      | 388/1000 [01:17<02:00,  5.09it/s]\u001b[A\n",
      " 39%|███▉      | 392/1000 [01:18<02:01,  5.01it/s]\u001b[A\n",
      " 40%|███▉      | 396/1000 [01:19<02:03,  4.89it/s]\u001b[A\n",
      " 40%|████      | 400/1000 [01:20<02:02,  4.90it/s]\u001b[A\n",
      " 40%|████      | 404/1000 [01:20<02:01,  4.92it/s]\u001b[A\n",
      " 41%|████      | 408/1000 [01:21<02:02,  4.85it/s]\u001b[A\n",
      " 41%|████      | 412/1000 [01:22<01:58,  4.96it/s]\u001b[A\n",
      " 42%|████▏     | 416/1000 [01:23<01:56,  5.03it/s]\u001b[A\n",
      " 42%|████▏     | 417/1000 [01:23<01:50,  5.27it/s]\u001b[A\n",
      " 42%|████▏     | 420/1000 [01:24<02:02,  4.74it/s]\u001b[A\n",
      " 42%|████▏     | 424/1000 [01:24<02:00,  4.77it/s]\u001b[A\n",
      " 43%|████▎     | 428/1000 [01:25<01:58,  4.82it/s]\u001b[A\n",
      " 43%|████▎     | 432/1000 [01:26<01:57,  4.83it/s]\u001b[A\n",
      " 44%|████▎     | 436/1000 [01:27<01:55,  4.88it/s]\u001b[A\n",
      " 44%|████▍     | 440/1000 [01:28<01:54,  4.88it/s]\u001b[A\n",
      " 44%|████▍     | 444/1000 [01:28<01:51,  5.00it/s]\u001b[A\n",
      " 45%|████▍     | 448/1000 [01:29<01:48,  5.10it/s]\u001b[A\n",
      " 45%|████▌     | 452/1000 [01:30<01:48,  5.06it/s]\u001b[A\n",
      " 46%|████▌     | 456/1000 [01:31<01:48,  5.03it/s]\u001b[A\n",
      " 46%|████▌     | 460/1000 [01:32<01:48,  5.00it/s]\u001b[A\n",
      " 46%|████▋     | 464/1000 [01:32<01:47,  4.98it/s]\u001b[A\n",
      " 47%|████▋     | 468/1000 [01:33<01:47,  4.95it/s]\u001b[A\n",
      " 47%|████▋     | 472/1000 [01:34<01:46,  4.97it/s]\u001b[A\n",
      " 48%|████▊     | 476/1000 [01:35<01:45,  4.99it/s]\u001b[A\n",
      " 48%|████▊     | 480/1000 [01:36<01:43,  5.01it/s]\u001b[A\n",
      " 48%|████▊     | 484/1000 [01:36<01:40,  5.11it/s]\u001b[A\n",
      " 49%|████▉     | 488/1000 [01:37<01:39,  5.13it/s]\u001b[A\n",
      " 49%|████▉     | 492/1000 [01:38<01:38,  5.13it/s]\u001b[A\n",
      " 50%|████▉     | 496/1000 [01:39<01:36,  5.22it/s]\u001b[A\n",
      " 50%|████▉     | 497/1000 [01:39<01:32,  5.46it/s]\u001b[A\n",
      " 50%|█████     | 500/1000 [01:40<01:41,  4.94it/s]\u001b[A\n",
      " 50%|█████     | 504/1000 [01:40<01:39,  4.99it/s]\u001b[A\n",
      " 51%|█████     | 508/1000 [01:41<01:38,  5.00it/s]\u001b[A\n",
      " 51%|█████     | 512/1000 [01:42<01:37,  4.99it/s]\u001b[A\n",
      " 52%|█████▏    | 516/1000 [01:43<01:37,  4.95it/s]\u001b[A\n",
      " 52%|█████▏    | 520/1000 [01:44<01:38,  4.88it/s]\u001b[A\n",
      " 52%|█████▏    | 524/1000 [01:44<01:39,  4.80it/s]\u001b[A\n",
      " 53%|█████▎    | 528/1000 [01:45<01:36,  4.89it/s]\u001b[A\n",
      " 53%|█████▎    | 532/1000 [01:46<01:33,  5.03it/s]\u001b[A\n",
      " 54%|█████▎    | 536/1000 [01:47<01:31,  5.08it/s]\u001b[A\n",
      " 54%|█████▍    | 540/1000 [01:48<01:29,  5.13it/s]\u001b[A\n",
      " 54%|█████▍    | 544/1000 [01:48<01:30,  5.05it/s]\u001b[A\n",
      " 55%|█████▍    | 548/1000 [01:49<01:29,  5.07it/s]\u001b[A\n",
      " 55%|█████▌    | 552/1000 [01:50<01:32,  4.82it/s]\u001b[A\n",
      " 56%|█████▌    | 556/1000 [01:51<01:32,  4.82it/s]\u001b[A\n",
      " 56%|█████▌    | 560/1000 [01:52<01:31,  4.82it/s]\u001b[A\n",
      " 56%|█████▋    | 564/1000 [01:53<01:30,  4.84it/s]\u001b[A\n",
      " 57%|█████▋    | 568/1000 [01:53<01:26,  4.98it/s]\u001b[A\n",
      " 57%|█████▋    | 569/1000 [01:53<01:22,  5.23it/s]\u001b[A\n",
      " 57%|█████▋    | 572/1000 [01:54<01:34,  4.54it/s]\u001b[A\n",
      " 58%|█████▊    | 576/1000 [01:55<01:30,  4.68it/s]\u001b[A\n",
      " 58%|█████▊    | 580/1000 [01:56<01:30,  4.66it/s]\u001b[A\n",
      " 58%|█████▊    | 584/1000 [01:57<01:27,  4.73it/s]\u001b[A\n",
      " 59%|█████▉    | 588/1000 [01:58<01:26,  4.78it/s]\u001b[A\n",
      " 59%|█████▉    | 592/1000 [01:58<01:25,  4.78it/s]\u001b[A\n",
      " 60%|█████▉    | 596/1000 [01:59<01:21,  4.95it/s]\u001b[A\n",
      " 60%|██████    | 600/1000 [02:00<01:22,  4.85it/s]\u001b[A\n",
      " 60%|██████    | 604/1000 [02:01<01:21,  4.84it/s]\u001b[A\n",
      " 61%|██████    | 608/1000 [02:02<01:19,  4.93it/s]\u001b[A\n",
      " 61%|██████    | 612/1000 [02:02<01:17,  4.98it/s]\u001b[A\n",
      " 62%|██████▏   | 616/1000 [02:03<01:17,  4.99it/s]\u001b[A\n",
      " 62%|██████▏   | 620/1000 [02:04<01:16,  4.96it/s]\u001b[A\n",
      " 62%|██████▏   | 624/1000 [02:05<01:16,  4.93it/s]\u001b[A\n",
      " 63%|██████▎   | 628/1000 [02:06<01:17,  4.78it/s]\u001b[A\n",
      " 63%|██████▎   | 632/1000 [02:06<01:15,  4.90it/s]\u001b[A\n",
      " 64%|██████▎   | 636/1000 [02:07<01:19,  4.59it/s]\u001b[A\n",
      " 64%|██████▍   | 640/1000 [02:08<01:16,  4.68it/s]\u001b[A\n",
      " 64%|██████▍   | 644/1000 [02:09<01:15,  4.71it/s]\u001b[A\n",
      " 65%|██████▍   | 648/1000 [02:10<01:12,  4.84it/s]\u001b[A\n",
      " 65%|██████▌   | 652/1000 [02:11<01:10,  4.94it/s]\u001b[A\n",
      " 66%|██████▌   | 656/1000 [02:12<01:10,  4.90it/s]\u001b[A\n",
      " 66%|██████▌   | 660/1000 [02:12<01:09,  4.89it/s]\u001b[A\n",
      " 66%|██████▋   | 664/1000 [02:13<01:08,  4.92it/s]\u001b[A\n",
      " 67%|██████▋   | 668/1000 [02:14<01:07,  4.92it/s]\u001b[A\n",
      " 67%|██████▋   | 672/1000 [02:15<01:06,  4.90it/s]\u001b[A\n",
      " 68%|██████▊   | 676/1000 [02:16<01:04,  4.99it/s]\u001b[A\n",
      " 68%|██████▊   | 680/1000 [02:16<01:05,  4.91it/s]\u001b[A\n",
      " 68%|██████▊   | 684/1000 [02:17<01:05,  4.82it/s]\u001b[A\n",
      " 69%|██████▉   | 688/1000 [02:18<01:03,  4.91it/s]\u001b[A\n",
      " 69%|██████▉   | 692/1000 [02:19<01:01,  5.04it/s]\u001b[A\n",
      " 70%|██████▉   | 696/1000 [02:20<00:59,  5.07it/s]\u001b[A\n",
      " 70%|███████   | 700/1000 [02:20<00:59,  5.05it/s]\u001b[A\n",
      " 70%|███████   | 704/1000 [02:21<00:59,  4.95it/s]\u001b[A\n",
      " 71%|███████   | 708/1000 [02:22<01:00,  4.82it/s]\u001b[A\n",
      " 71%|███████   | 712/1000 [02:23<00:59,  4.85it/s]\u001b[A\n",
      " 72%|███████▏  | 716/1000 [02:24<00:58,  4.83it/s]\u001b[A\n",
      " 72%|███████▏  | 720/1000 [02:25<00:57,  4.90it/s]\u001b[A\n",
      " 72%|███████▏  | 724/1000 [02:25<00:57,  4.82it/s]\u001b[A\n",
      " 73%|███████▎  | 728/1000 [02:26<00:55,  4.93it/s]\u001b[A\n",
      " 73%|███████▎  | 732/1000 [02:27<00:55,  4.84it/s]\u001b[A\n",
      " 74%|███████▎  | 736/1000 [02:28<00:54,  4.86it/s]\u001b[A\n",
      " 74%|███████▍  | 740/1000 [02:29<00:54,  4.78it/s]\u001b[A\n",
      " 74%|███████▍  | 744/1000 [02:30<00:53,  4.75it/s]\u001b[A\n",
      " 75%|███████▍  | 748/1000 [02:30<00:53,  4.75it/s]\u001b[A\n",
      " 75%|███████▌  | 752/1000 [02:31<00:52,  4.76it/s]\u001b[A\n",
      " 76%|███████▌  | 756/1000 [02:32<00:50,  4.79it/s]\u001b[A\n",
      " 76%|███████▌  | 760/1000 [02:33<00:50,  4.77it/s]\u001b[A\n",
      " 76%|███████▋  | 764/1000 [02:34<00:48,  4.86it/s]\u001b[A\n",
      " 77%|███████▋  | 768/1000 [02:34<00:46,  4.97it/s]\u001b[A\n",
      " 77%|███████▋  | 772/1000 [02:35<00:46,  4.92it/s]\u001b[A\n",
      " 78%|███████▊  | 776/1000 [02:36<00:45,  4.91it/s]\u001b[A\n",
      " 78%|███████▊  | 780/1000 [02:37<00:44,  4.91it/s]\u001b[A\n",
      " 78%|███████▊  | 784/1000 [02:38<00:44,  4.83it/s]\u001b[A\n",
      " 79%|███████▉  | 788/1000 [02:39<00:43,  4.93it/s]\u001b[A\n",
      " 79%|███████▉  | 792/1000 [02:39<00:41,  4.96it/s]\u001b[A\n",
      " 80%|███████▉  | 796/1000 [02:40<00:41,  4.91it/s]\u001b[A\n",
      " 80%|████████  | 800/1000 [02:41<00:40,  4.97it/s]\u001b[A\n",
      " 80%|████████  | 804/1000 [02:42<00:39,  4.98it/s]\u001b[A\n",
      " 81%|████████  | 808/1000 [02:43<00:38,  4.99it/s]\u001b[A\n",
      " 81%|████████  | 812/1000 [02:43<00:37,  4.99it/s]\u001b[A\n",
      " 82%|████████▏ | 816/1000 [02:44<00:37,  4.93it/s]\u001b[A\n",
      " 82%|████████▏ | 820/1000 [02:45<00:36,  4.91it/s]\u001b[A\n",
      " 82%|████████▏ | 824/1000 [02:46<00:35,  4.93it/s]\u001b[A\n",
      " 83%|████████▎ | 828/1000 [02:47<00:35,  4.87it/s]\u001b[A\n",
      " 83%|████████▎ | 832/1000 [02:47<00:33,  5.05it/s]\u001b[A\n",
      " 84%|████████▎ | 836/1000 [02:48<00:32,  5.09it/s]\u001b[A\n",
      " 84%|████████▍ | 840/1000 [02:49<00:31,  5.06it/s]\u001b[A\n",
      " 84%|████████▍ | 844/1000 [02:50<00:30,  5.05it/s]\u001b[A\n",
      " 85%|████████▍ | 848/1000 [02:51<00:30,  5.03it/s]\u001b[A\n",
      " 85%|████████▌ | 852/1000 [02:51<00:29,  5.01it/s]\u001b[A\n",
      " 86%|████████▌ | 856/1000 [02:52<00:30,  4.69it/s]\u001b[A\n",
      " 86%|████████▌ | 860/1000 [02:53<00:29,  4.69it/s]\u001b[A\n",
      " 86%|████████▋ | 864/1000 [02:54<00:28,  4.73it/s]\u001b[A\n",
      " 87%|████████▋ | 868/1000 [02:55<00:28,  4.71it/s]\u001b[A\n",
      " 87%|████████▋ | 872/1000 [02:56<00:26,  4.88it/s]\u001b[A\n",
      " 88%|████████▊ | 876/1000 [02:56<00:25,  4.93it/s]\u001b[A\n",
      " 88%|████████▊ | 880/1000 [02:57<00:24,  4.93it/s]\u001b[A\n",
      " 88%|████████▊ | 884/1000 [02:58<00:23,  4.92it/s]\u001b[A\n",
      " 89%|████████▉ | 888/1000 [02:59<00:22,  4.93it/s]\u001b[A\n",
      " 89%|████████▉ | 892/1000 [03:00<00:22,  4.89it/s]\u001b[A\n",
      " 90%|████████▉ | 896/1000 [03:01<00:21,  4.83it/s]\u001b[A\n",
      " 90%|█████████ | 900/1000 [03:01<00:20,  4.89it/s]\u001b[A\n",
      " 90%|█████████ | 904/1000 [03:02<00:19,  4.96it/s]\u001b[A\n",
      " 91%|█████████ | 908/1000 [03:03<00:18,  4.90it/s]\u001b[A\n",
      " 91%|█████████ | 912/1000 [03:04<00:17,  4.95it/s]\u001b[A\n",
      " 92%|█████████▏| 916/1000 [03:05<00:16,  4.94it/s]\u001b[A\n",
      " 92%|█████████▏| 920/1000 [03:05<00:16,  4.88it/s]\u001b[A\n",
      " 92%|█████████▏| 924/1000 [03:06<00:15,  4.87it/s]\u001b[A\n",
      " 93%|█████████▎| 928/1000 [03:07<00:14,  4.81it/s]\u001b[A\n",
      " 93%|█████████▎| 932/1000 [03:08<00:14,  4.73it/s]\u001b[A\n",
      " 94%|█████████▎| 936/1000 [03:09<00:13,  4.77it/s]\u001b[A\n",
      " 94%|█████████▍| 940/1000 [03:10<00:12,  4.75it/s]\u001b[A\n",
      " 94%|█████████▍| 944/1000 [03:10<00:11,  4.96it/s]\u001b[A\n",
      " 95%|█████████▍| 948/1000 [03:11<00:10,  5.01it/s]\u001b[A\n",
      " 95%|█████████▌| 952/1000 [03:12<00:09,  4.92it/s]\u001b[A\n",
      " 96%|█████████▌| 956/1000 [03:13<00:09,  4.77it/s]\u001b[A\n",
      " 96%|█████████▌| 960/1000 [03:14<00:08,  4.78it/s]\u001b[A\n",
      " 96%|█████████▋| 964/1000 [03:15<00:07,  4.80it/s]\u001b[A\n",
      " 97%|█████████▋| 968/1000 [03:15<00:06,  4.77it/s]\u001b[A\n",
      " 97%|█████████▋| 972/1000 [03:16<00:05,  4.79it/s]\u001b[A\n",
      " 98%|█████████▊| 976/1000 [03:17<00:04,  4.87it/s]\u001b[A\n",
      " 98%|█████████▊| 980/1000 [03:18<00:04,  4.79it/s]\u001b[A\n",
      " 98%|█████████▊| 984/1000 [03:19<00:03,  4.88it/s]\u001b[A\n",
      " 99%|█████████▉| 988/1000 [03:19<00:02,  4.94it/s]\u001b[A\n",
      " 99%|█████████▉| 992/1000 [03:20<00:01,  4.96it/s]\u001b[A\n",
      "100%|█████████▉| 996/1000 [03:21<00:00,  4.95it/s]\u001b[A\n",
      "100%|██████████| 1000/1000 [03:22<00:00,  4.94it/s]\n"
     ]
    }
   ],
   "source": [
    "pvalues_tt_log = run_design(data_2_weeks_log, \"ttest_ind\", 1000)"
   ]
  },
  {
   "cell_type": "code",
   "execution_count": 64,
   "metadata": {
    "colab": {
     "base_uri": "https://localhost:8080/",
     "height": 466
    },
    "id": "EjR0FpEaw9rF",
    "outputId": "72ef5214-83af-4169-80e3-da1d438a6093"
   },
   "outputs": [
    {
     "name": "stdout",
     "output_type": "stream",
     "text": [
      "significance: 4.8%\n",
      "p_value = 0.8620786652180069 - p_values равномерное распределение\n"
     ]
    },
    {
     "data": {
      "image/png": "[encoded data removed]",
      "text/plain": [
       "<Figure size 640x480 with 1 Axes>"
      ]
     },
     "metadata": {},
     "output_type": "display_data"
    }
   ],
   "source": [
    "check_significance(pvalues_tt_log)\n",
    "check_pvalues(pvalues_tt_log)"
   ]
  },
  {
   "cell_type": "markdown",
   "metadata": {},
   "source": [
    "#### Результаты\n",
    "\n",
    "Другие тесты показали, что логарифмирование не привело к улучшению результатов теста.\n",
    "Наилучшую корректность показали:\n",
    " - t-тест на оригинальной метрике\n",
    " - манна-уитни на оригинальной метрике\n",
    " \n",
    "\n",
    "\n",
    "\n",
    "\n",
    "\n"
   ]
  },
  {
   "cell_type": "markdown",
   "metadata": {
    "id": "QpDltt-Y4yt5"
   },
   "source": [
    "### Мощность + MDE для лучших пар"
   ]
  },
  {
   "cell_type": "code",
   "execution_count": 68,
   "metadata": {
    "id": "2eEINRo740Zt"
   },
   "outputs": [],
   "source": [
    "def check_power(pvalues):\n",
    "    p_values = np.array(pvalues)\n",
    "    power = p_values[p_values < 0.05].shape[0] / p_values.shape[0] * 100\n",
    "    print(f'power: {power}%')\n",
    "\n",
    "def design_iter_power(data, test, test_type, effect):\n",
    "    week1_hash = groups_splitter(data, columns=['user_id', 'total_dur', 'group'])\n",
    "\n",
    "    res = test(\n",
    "        week1_hash[week1_hash['group'] == 'A']['total_dur'].values,\n",
    "        week1_hash[week1_hash['group'] == 'B']['total_dur'].values * (1+effect)\n",
    "    )\n",
    "    if test_type == \"ttest_ind\":\n",
    "        return res.pvalue\n",
    "    elif test_type == \"mannwhitneyu\":\n",
    "        return res\n",
    "\n",
    "@memory.cache\n",
    "def run_design_power(data, test_type, n_iter, effect, n_jobs = -1):\n",
    "    pvalues = []\n",
    "\n",
    "    tests = {\"mannwhitneyu\": mannwhitneyu, \"ttest_ind\": ttest_ind}\n",
    "    if test_type not in tests:\n",
    "        raise Exception(\"Теста нет в списке\")\n",
    "    test = tests[test_type]\n",
    "    pvalues = Parallel(n_jobs = n_jobs)(delayed(design_iter_power)(data,\n",
    "                                                                   test,\n",
    "                                                                   test_type,\n",
    "                                                                   effect)\n",
    "    for i in range(n_iter))\n",
    "\n",
    "    return pvalues"
   ]
  },
  {
   "cell_type": "code",
   "execution_count": 71,
   "metadata": {
    "colab": {
     "base_uri": "https://localhost:8080/"
    },
    "id": "-gngGOfxLAnC",
    "outputId": "3d890bb8-b4f6-4c64-becb-8d6699fb8cfc"
   },
   "outputs": [
    {
     "name": "stderr",
     "output_type": "stream",
     "text": [
      "  0%|          | 0/1000 [05:15<?, ?it/s]\n"
     ]
    },
    {
     "name": "stdout",
     "output_type": "stream",
     "text": [
      "test: mannwhitneyu, effect: 0.01\n",
      "power: 23.0%\n",
      "##############################\n",
      "test: mannwhitneyu, effect: 0.02\n",
      "power: 71.8%\n",
      "##############################\n",
      "test: mannwhitneyu, effect: 0.03\n",
      "power: 95.6%\n",
      "##############################\n",
      "test: ttest_ind, effect: 0.01\n",
      "power: 30.599999999999998%\n",
      "##############################\n",
      "test: ttest_ind, effect: 0.02\n",
      "power: 80.5%\n",
      "##############################\n",
      "test: ttest_ind, effect: 0.03\n",
      "power: 98.8%\n",
      "##############################\n"
     ]
    }
   ],
   "source": [
    "### манна-уитни + метрика длительности просмотров\n",
    "### t-test + метрика длительности просмотров\n",
    "\n",
    "for test in [\"mannwhitneyu\", \"ttest_ind\"]:\n",
    "    for effect in [0.01, 0.02, 0.03]:\n",
    "        values = run_design_power(data_2_weeks, test, 1000, effect)\n",
    "        print(f\"test: {test}, effect: {effect}\")\n",
    "        check_power(values)\n",
    "        print(f\"##############################\")"
   ]
  },
  {
   "cell_type": "markdown",
   "metadata": {
    "id": "xVKeJ5hgLAxG"
   },
   "source": [
    "\n",
    "\n",
    "1. **Тест Манна-Уитни**:\n",
    "   - При эффекте 1% мощность составляет всего 23% - недостаточно для надежного обнаружения эффекта\n",
    "   - При эффекте 2% мощность достигает 71.8% -  приемлемый уровень\n",
    "   - При эффекте 3% мощность составляет 95.6% - отличный показатель\n",
    "\n",
    "2. **t-тест**:\n",
    "   - При эффекте 1% мощность составляет 30.6% - чем у теста Манна-Уитни, но все еще недостаточно\n",
    "   - При эффекте 2% мощность достигает 80.5% -  превышает стандартный порог в 80%\n",
    "   - При эффекте 3% мощность составляет 98.8% - отличный показатель\n",
    "\n",
    "Вывод: t-тест демонстрирует более высокую мощность для всех уровней эффекта. Для надежного обнаружения эффекта предпочтительнее использовать t-тест.\n"
   ]
  },
  {
   "cell_type": "markdown",
   "metadata": {
    "id": "LxxKb8zoM022"
   },
   "source": [
    "#### MDE для лучшей пары (t-тест + метрика длительности просмотров)"
   ]
  },
  {
   "cell_type": "code",
   "execution_count": 98,
   "metadata": {
    "colab": {
     "base_uri": "https://localhost:8080/"
    },
    "id": "paSe3893M3XM",
    "outputId": "456f51dc-328e-473f-86ee-99358fede674"
   },
   "outputs": [
    {
     "name": "stdout",
     "output_type": "stream",
     "text": [
      "MDE (α: 0.047 β: 0.01200000000000001): 1.4547748058808987\n"
     ]
    }
   ],
   "source": [
    "alpha = 4.7/100\n",
    "beta = 1 - 98.8/100\n",
    "print(f'MDE (α: {alpha} β: {beta}): {get_mde(data_2_weeks[\"total_dur\"], alpha, beta)}')"
   ]
  },
  {
   "cell_type": "markdown",
   "metadata": {},
   "source": [
    "- Минимальный обнаруживаемый эффект (MDE) для t-теста с метрикой длительности просмотров составляет 1.45% при уровне значимости α = 0.047 и мощности 1-β = 0.988 (или β = 0.012). \n",
    "\n"
   ]
  },
  {
   "cell_type": "markdown",
   "metadata": {
    "id": "i4ok4Xf1xVXR"
   },
   "source": [
    "## A/B test"
   ]
  },
  {
   "cell_type": "code",
   "execution_count": 95,
   "metadata": {
    "id": "jykqw8gaxXP8"
   },
   "outputs": [],
   "source": [
    "def a_b_test(data, test_type):\n",
    "    tests = {\"mannwhitneyu\": mannwhitneyu, \"ttest_ind\": ttest_ind}\n",
    "    if test_type not in tests:\n",
    "        raise Exception(\"Теста нет в списке\")\n",
    "    ab_data = data_2_weeks.copy()\n",
    "    ab_data['total_dur'] = ab_data['total_dur'].where(ab_data['total_dur'] >= 500, 0)\n",
    "    ab_data = groups_splitter(ab_data.copy(), columns=['user_id', 'total_dur', 'group'],\n",
    "                              user_salt='kiontestmodel20210805')\n",
    "\n",
    "    ab_data['total_dur'] = ab_data['total_dur'].astype(float)\n",
    "    top_10_percent = ab_data[ab_data['group'] == \"B\"]['total_dur'].quantile(0.9)\n",
    "    ab_data.loc[((ab_data['group'] == \"B\") &\n",
    "                (ab_data['total_dur'] >= top_10_percent)),\n",
    "                'total_dur'] *= 1.025\n",
    "    res = tests[test_type](\n",
    "        ab_data[ab_data['group'] == 'A']['total_dur'].values,\n",
    "        ab_data[ab_data['group'] == 'B']['total_dur'].values\n",
    "    )\n",
    "\n",
    "    mean_A = ab_data[ab_data['group'] == 'A']['total_dur'].mean()\n",
    "    mean_B = ab_data[ab_data['group'] == 'B']['total_dur'].mean()\n",
    "    effect_data = (mean_B - mean_A) / mean_A * 100\n",
    "    print(f\"pvalue: {res.pvalue}\")\n",
    "    print(f\"mean A: {mean_A}\")\n",
    "    print(f\"mean B: {mean_B}\")\n",
    "    print(f\"effect: {effect_data}%\")"
   ]
  },
  {
   "cell_type": "code",
   "execution_count": 97,
   "metadata": {
    "colab": {
     "base_uri": "https://localhost:8080/"
    },
    "id": "IVrQXGCZSR41",
    "outputId": "d3177525-d65e-408d-bcf9-d594a52359d9"
   },
   "outputs": [
    {
     "name": "stdout",
     "output_type": "stream",
     "text": [
      "pvalue: 0.03349652724165618\n",
      "mean A: 15808.000629116736\n",
      "mean B: 16041.820277312914\n",
      "effect: 1.4791222095823207%\n"
     ]
    }
   ],
   "source": [
    "a_b_test(data_2_weeks, \"ttest_ind\")"
   ]
  },
  {
   "cell_type": "code",
   "execution_count": 96,
   "metadata": {
    "colab": {
     "base_uri": "https://localhost:8080/"
    },
    "id": "3LeEabnUSGXY",
    "outputId": "9b38a39e-0e52-44cf-cc1c-07d7c7b7cf6d"
   },
   "outputs": [
    {
     "name": "stdout",
     "output_type": "stream",
     "text": [
      "pvalue: 0.09187290419766353\n",
      "mean A: 15808.000629116736\n",
      "mean B: 16041.820277312914\n",
      "effect: 1.4791222095823207%\n"
     ]
    }
   ],
   "source": [
    "# дополнительно проверим манна-уитни\n",
    "a_b_test(data_2_weeks, \"mannwhitneyu\")"
   ]
  },
  {
   "cell_type": "markdown",
   "metadata": {},
   "source": [
    "## Выводы по A/B тесту\n",
    "\n",
    "#### Дизайн теста\n",
    "- Проведен A/A тест для проверки корректности процедуры.\n",
    "- Выбрана метрика без логарифмирования, так как оно не помогло улучшить результаты теста.\n",
    "- Для A/B теста использован t-test.\n",
    "\n",
    "#### Результаты A/B теста (t-test)\n",
    "- **p-value**: 0.0335\n",
    "- **Среднее значение группы A**: 15,808.00\n",
    "- **Среднее значение группы B**: 16,041.82\n",
    "- **Эффект**: +1.48%\n",
    "\n",
    "#### Дополнительная проверка (U-тест Манна-Уитни)\n",
    "- **p-value**: 0.0919\n",
    "- **Средние значения** аналогичны t-тесту.\n",
    "- Эффект такой же: +1.48%.\n",
    "\n",
    "#### Интерпретация\n",
    "- t-test показывает статистически значимое различие (p < 0.05), с эффектом (+1.48%).\n",
    "- Манна-Уитни тест не подтверждает значимость результата (p > 0.05).\n",
    "- Различие между группами определенно присутствует, что подтверждается t-тестом, а расхождение в тестах дает возможность для дальнейшего исследования.\n",
    "\n",
    "#### Рекомендации\n",
    "- Провести дополнительный анализ распределения данных.\n",
    "- Провести дополннительные эксперименты с другими метриками и тестами.\n"
   ]
  },
  {
   "cell_type": "markdown",
   "metadata": {},
   "source": []
  }
 ],
 "metadata": {
  "accelerator": "TPU",
  "colab": {
   "gpuType": "V28",
   "provenance": []
  },
  "kernelspec": {
   "display_name": "Python 3 (ipykernel)",
   "language": "python",
   "name": "python3"
  },
  "language_info": {
   "codemirror_mode": {
    "name": "ipython",
    "version": 3
   },
   "file_extension": ".py",
   "mimetype": "text/x-python",
   "name": "python",
   "nbconvert_exporter": "python",
   "pygments_lexer": "ipython3",
   "version": "3.9.17"
  }
 },
 "nbformat": 4,
 "nbformat_minor": 4
}
