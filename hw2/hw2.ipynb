{
 "cells": [
  {
   "cell_type": "markdown",
   "metadata": {},
   "source": [
    "# ДЗ 2:\n",
    "\n",
    "1. Применить ранговую трансформацию (потом t-test) и сравнить с результатами по Манну-Уитни на:\n",
    "- метрике cart_added_cnt (5 баллов)\n",
    "\n",
    "2. Реализовать cuped-трансформацию и сравнить мощность t-критерия на:\n",
    "- обычной метрике cart_added_cnt (5 баллов)\n",
    "- логарфимированной метрике cart_added_cnt (5 баллов)\n",
    "- метрике cart_added_cnt (а после подвергнуть ранговому преобразованию) (5 баллов)\n",
    "\n",
    "\n",
    "В каждом случае фиксировать, на сколько сокращается дисперсия, проверять равны ли средние в группах в ковариате и совпадают ли средние в метрике до и после применения cuped\n",
    "(+ 5 балла за обьяснения и выводы)\n",
    "\n",
    "\n",
    "3. Реализовать разбивку на бакеты любым (правильным) способом, оценить t-критерием и сравнить с результатом без бакетирования:\n",
    "- на логнормальном распределении (сгенерированные данные) (5 баллов)\n",
    "- на метрике cart_added_cnt (5 баллов)\n",
    "\n",
    "\n",
    "4. Реализовать постстратификацию на данных shop_metrics_old для метрики cart_added_cnt:\n",
    "- на сочетании пола и возраста (возраст разбить на подгруппы: 18-24, 25-45, 46-60, 61-75, 76+) (5 баллов)\n",
    "подсчитать результаты для случая без постстратификации и с постстратификацией. (дисперсию и среднее)\n",
    "- проверить мощность и корректность t-критерия для постстратифицированного случая (5 баллов)\n",
    "\n",
    "\n",
    "(+ 5 балла за обьяснения и выводы)"
   ]
  },
  {
   "cell_type": "code",
   "execution_count": 22,
   "metadata": {},
   "outputs": [],
   "source": [
    "import numpy as np\n",
    "import scipy\n",
    "import matplotlib.pyplot as plt\n",
    "import scipy.stats as stats\n",
    "import statsmodels\n",
    "import statsmodels.sandbox.stats.multicomp\n",
    "import pandas as pd\n",
    "import matplotlib.pyplot as plt\n",
    "import seaborn as sns\n",
    "import hashlib\n",
    "import warnings\n",
    "import os\n",
    "\n",
    "\n",
    "from tqdm.auto import tqdm\n",
    "from sklearn.utils import shuffle\n",
    "from base64 import b64encode\n",
    "from statsmodels.stats.weightstats import ztest\n",
    "from scipy.stats import ttest_ind, mannwhitneyu\n",
    "from joblib import Parallel, delayed\n",
    "\n",
    "plt.style.use('ggplot')\n",
    "warnings.simplefilter(\"ignore\")\n",
    "%matplotlib inline"
   ]
  },
  {
   "cell_type": "code",
   "execution_count": 2,
   "metadata": {},
   "outputs": [],
   "source": [
    "shop_metrics_new = pd.read_excel('shop_df_metrics_dec.xlsx').drop(columns='Unnamed: 0')\n",
    "shop_metrics_old = pd.read_excel('shop_df_metrics_sept.xlsx').drop(columns='Unnamed: 0')\n",
    "shop_users_info = pd.read_excel('shop_df_users.xlsx').drop(columns='Unnamed: 0')"
   ]
  },
  {
   "cell_type": "markdown",
   "metadata": {},
   "source": [
    "Метрики:\n",
    "   - is_viewed - айтем товара просмотрен\n",
    "   - products_viewed_cnt - количество уникальных просмотренных айтемов\n",
    "   - price_sum - суммарная цена товаров\n",
    "   - is_cart_added - товар добавлен в корзину\n",
    "   - is_purchased - товар куплен\n",
    "   - cart_added_cnt - количество товаров, добавленных в корзину\n",
    "   - purchased_cnt - количество купленных товаров"
   ]
  },
  {
   "cell_type": "code",
   "execution_count": 5,
   "metadata": {},
   "outputs": [],
   "source": [
    "def salt_generator(salt=None):\n",
    "    salt = os.urandom(8)\n",
    "\n",
    "    return b64encode(salt).decode('ascii')\n",
    "\n",
    "def groups_splitter(df, user_salt=None):\n",
    "    if user_salt == None:\n",
    "        salt = salt_generator()\n",
    "    else:\n",
    "        salt = user_salt\n",
    "\n",
    "    df['hash'] = ((df['user_id'].astype(str)) + '#' + salt).apply(lambda x: hashlib.sha256(x.encode('utf-8')).hexdigest())\n",
    "    df['group'] = ((df['hash'].str.slice(start=-6).apply(int, base=16) % 2).map(lambda x: 'A' if x == 0 else 'B'))\n",
    "\n",
    "    return df[['user_id', 'group']].drop_duplicates()"
   ]
  },
  {
   "cell_type": "markdown",
   "metadata": {},
   "source": [
    "## 1. Применить ранговую трансформацию (потом t-test) и сравнить с результатами по Манну-Уитни"
   ]
  },
  {
   "cell_type": "code",
   "execution_count": 20,
   "metadata": {},
   "outputs": [],
   "source": [
    "shop = shop_metrics_new.drop(columns=['group'])"
   ]
  },
  {
   "cell_type": "markdown",
   "metadata": {},
   "source": [
    "#### Исходная метрика"
   ]
  },
  {
   "cell_type": "code",
   "execution_count": 27,
   "metadata": {},
   "outputs": [
    {
     "data": {
      "application/vnd.jupyter.widget-view+json": {
       "model_id": "de423bf64a5040cf9693bebeed35e578",
       "version_major": 2,
       "version_minor": 0
      },
      "text/plain": [
       "  0%|          | 0/1000 [00:00<?, ?it/s]"
      ]
     },
     "metadata": {},
     "output_type": "display_data"
    },
    {
     "name": "stdout",
     "output_type": "stream",
     "text": [
      " power: 70.89999999999999%, correctness: 94.89999999999999%\n"
     ]
    },
    {
     "data": {
      "image/png": "[encoded data removed]",
      "text/plain": [
       "<Figure size 470x427 with 1 Axes>"
      ]
     },
     "metadata": {},
     "output_type": "display_data"
    }
   ],
   "source": [
    "# t-test исходная метрики\n",
    "def run_single_test():\n",
    "    new_df = pd.merge(shop, groups_splitter(shop.copy(), salt_generator()), \n",
    "                     on='user_id', how='left').drop_duplicates()\n",
    "    \n",
    "    group_A = new_df[new_df['group']=='A']['cart_added_cnt']\n",
    "    group_B = new_df[new_df['group']=='B']['cart_added_cnt'] \n",
    "    \n",
    "    corr_p = ttest_ind(group_A, group_B)[1]\n",
    "    power_p = ttest_ind(group_A, group_B*1.05)[1]\n",
    "    \n",
    "    return corr_p, power_p\n",
    "\n",
    "results = Parallel(n_jobs=-1)(delayed(run_single_test)() for _ in tqdm(range(1000)))\n",
    "correctness, power = zip(*results)\n",
    "\n",
    "correctness = np.array(correctness)\n",
    "sns.set(rc={'figure.figsize':(4.7,4.27)})\n",
    "sns.histplot(data=correctness, bins=10, color='blue', kde=True)\n",
    "\n",
    "power = np.array(power)\n",
    "power_pct = (power < 0.05).mean() * 100\n",
    "corr_pct = (1 - (correctness < 0.05).mean()) * 100\n",
    "print(f' power: {power_pct}%, correctness: {corr_pct}%')"
   ]
  },
  {
   "cell_type": "markdown",
   "metadata": {},
   "source": [
    "Результаты t-теста показывают:\n",
    "\n",
    "- Высокая корректность (94%) - тест редко показывает ложноположительные результаты при отсутствии эффекта\n",
    "- Недостаточная мощность (70%) - тест часто пропускает реальные эффекты (в 30% случаев)"
   ]
  },
  {
   "cell_type": "markdown",
   "metadata": {},
   "source": [
    "#### Ранговая трансформация"
   ]
  },
  {
   "cell_type": "code",
   "execution_count": 24,
   "metadata": {},
   "outputs": [],
   "source": [
    "def rank_transformation(df_a, df_b, metric):\n",
    "    df = pd.concat([df_a, df_b], axis = 0)\n",
    "    df['rank'] = df[metric].rank()\n",
    "\n",
    "    return df\n",
    "\n",
    "ranked = rank_transformation(shop_metrics_new[shop_metrics_new.group == 'A'],\n",
    "                             shop_metrics_new[shop_metrics_new.group == 'B'], 'cart_added_cnt')"
   ]
  },
  {
   "cell_type": "code",
   "execution_count": 25,
   "metadata": {},
   "outputs": [
    {
     "data": {
      "application/vnd.jupyter.widget-view+json": {
       "model_id": "ff90f50f438e44f79ff3f005680d32b8",
       "version_major": 2,
       "version_minor": 0
      },
      "text/plain": [
       "  0%|          | 0/1000 [00:00<?, ?it/s]"
      ]
     },
     "metadata": {},
     "output_type": "display_data"
    },
    {
     "name": "stdout",
     "output_type": "stream",
     "text": [
      " power: 100.0%, correctness: 95.19999999999999%\n"
     ]
    },
    {
     "data": {
      "image/png": "[encoded data removed]",
      "text/plain": [
       "<Figure size 470x427 with 1 Axes>"
      ]
     },
     "metadata": {},
     "output_type": "display_data"
    }
   ],
   "source": [
    "# t-test ранговая трансформация\n",
    "def run_rank_test():\n",
    "    new_group = groups_splitter(shop.copy(), user_salt=salt_generator())\n",
    "    new_df = pd.merge(shop, new_group, how=\"left\", on=['user_id']).drop_duplicates()\n",
    "\n",
    "    ranked_df = rank_transformation(new_df[new_df.group == 'A'], new_df[new_df.group == 'B'], 'cart_added_cnt')\n",
    "    vec_a = ranked_df[(ranked_df['group'] == 'A')]['rank']\n",
    "    vec_b = ranked_df[(ranked_df['group'] == 'B')]['rank']\n",
    "    \n",
    "    vec_b_effect = new_df[new_df['group'] == 'B']['cart_added_cnt'] * 1.05\n",
    "    new_df_b = new_df[new_df.group == 'B'].copy()\n",
    "    new_df_b['cart_added_cnt'] = vec_b_effect\n",
    "    \n",
    "    ranked_df_effect = rank_transformation(new_df[new_df.group == 'A'], new_df_b, 'cart_added_cnt')\n",
    "    vec_a_power = ranked_df_effect[(ranked_df_effect['group'] == 'A')]['rank']\n",
    "    vec_b_power = ranked_df_effect[(ranked_df_effect['group'] == 'B')]['rank']\n",
    "\n",
    "    p_cor = ttest_ind(vec_a, vec_b)[1]\n",
    "    p_power = ttest_ind(vec_a_power, vec_b_power)[1]\n",
    "    \n",
    "    return p_cor, p_power\n",
    "\n",
    "results = Parallel(n_jobs=-1)(delayed(run_rank_test)() for _ in tqdm(range(1000)))\n",
    "correctness, power = zip(*results)\n",
    "\n",
    "correctness = np.array(correctness)\n",
    "sns.set(rc={'figure.figsize':(4.7,4.27)})\n",
    "sns.histplot(data=correctness, bins=10, color='blue', kde=True)\n",
    "\n",
    "power = np.array(power)\n",
    "power_pct = (power < 0.05).mean() * 100\n",
    "corr_pct = (1 - (correctness < 0.05).mean()) * 100\n",
    "\n",
    "print(f' power: {power_pct}%, correctness: {corr_pct}%')"
   ]
  },
  {
   "cell_type": "markdown",
   "metadata": {},
   "source": [
    "#### Манн-Уитни"
   ]
  },
  {
   "cell_type": "code",
   "execution_count": 28,
   "metadata": {},
   "outputs": [
    {
     "data": {
      "application/vnd.jupyter.widget-view+json": {
       "model_id": "61317b0df3544c3bbb85bf2ee386aa00",
       "version_major": 2,
       "version_minor": 0
      },
      "text/plain": [
       "  0%|          | 0/1000 [00:00<?, ?it/s]"
      ]
     },
     "metadata": {},
     "output_type": "display_data"
    },
    {
     "name": "stdout",
     "output_type": "stream",
     "text": [
      "power: 100.0%, correctness: 95.5%\n"
     ]
    },
    {
     "data": {
      "image/png": "[encoded data removed]",
      "text/plain": [
       "<Figure size 470x427 with 1 Axes>"
      ]
     },
     "metadata": {},
     "output_type": "display_data"
    }
   ],
   "source": [
    "def run_mann_whitney_test():\n",
    "    new_group = groups_splitter(shop.copy(), user_salt=salt_generator())\n",
    "    new_df = pd.merge(shop, new_group, how=\"left\", on=['user_id']).drop_duplicates()\n",
    "\n",
    "    vec_a = new_df[new_df['group'] == 'A']['cart_added_cnt']\n",
    "    vec_b = new_df[new_df['group'] == 'B']['cart_added_cnt']\n",
    "\n",
    "    vec_b_effect = new_df[new_df['group'] == 'B']['cart_added_cnt'] * 1.05\n",
    "    new_df_b = new_df[new_df.group == 'B'].copy()\n",
    "    new_df_b['cart_added_cnt'] = vec_b_effect\n",
    "\n",
    "    vec_a_power = new_df[new_df['group'] == 'A']['cart_added_cnt']\n",
    "    vec_b_power = new_df_b['cart_added_cnt']\n",
    "\n",
    "    p_cor = mannwhitneyu(vec_a, vec_b, alternative='two-sided')[1]\n",
    "    p_power = mannwhitneyu(vec_a_power, vec_b_power, alternative='two-sided')[1]\n",
    "    \n",
    "    return p_cor, p_power\n",
    "\n",
    "results = Parallel(n_jobs=-1)(delayed(run_mann_whitney_test)() for _ in tqdm(range(1000)))\n",
    "correctness, power = zip(*results)\n",
    "\n",
    "correctness = np.array(correctness)\n",
    "sns.set(rc={'figure.figsize': (4.7, 4.27)})\n",
    "sns.histplot(data=correctness, bins=10, color='blue', kde=True)\n",
    "\n",
    "power = np.array(power)\n",
    "power_pct = (power < 0.05).mean() * 100\n",
    "corr_pct = (1 - (correctness < 0.05).mean()) * 100\n",
    "\n",
    "print(f'power: {power_pct}%, correctness: {corr_pct}%')"
   ]
  },
  {
   "cell_type": "markdown",
   "metadata": {},
   "source": [
    "#### `Сравнение ранговой` трансформации + t-test и теста Манна–Уитни\n",
    "\n",
    "Результаты анализа показывают:\n",
    "\n",
    "* Оба метода демонстрируют максимальную мощность (100%) при обнаружении 5%-го эффекта\n",
    "* Корректность методов:\n",
    "  * Ранговый t-тест: ~95.2%\n",
    "  * Тест Манна-Уитни: ~95.5%\n",
    "\n",
    "Хотя разница в корректности небольшая, тест Манна-Уитни имеет преимущество при работе с несимметричными данными (много нулей и \"тяжелый хвост\") благодаря своей непараметрической природе.\n",
    "\n",
    "**Вывод**: Несмотря на то, что оба метода эффективны для обнаружения эффекта, тест Манна-Уитни предпочтительнее в случаях, когда:\n",
    "* Распределение метрики существенно отклоняется от нормального\n",
    "* Важно минимизировать влияние выбросов\n",
    "* Данные имеют значительную асимметрию"
   ]
  },
  {
   "cell_type": "markdown",
   "metadata": {},
   "source": [
    "### **2. Реализовать cuped-трансформацию и сравнить мощность t-критерия на:**\n",
    "- обычной метрике cart_added_cnt (5 баллов)\n",
    "- логарфимированной метрике cart_added_cnt (5 баллов)\n",
    "- метрике cart_added_cnt (а после подвергнуть ранговому преобразованию) (5 баллов)\n",
    "\n",
    "В каждом случае фиксировать, на сколько сокращается дисперсия, проверять равны ли средние в группах в ковариате и совпадают ли средние в метрике до и после применения cuped\n",
    "(+ 5 балла за обьяснения и выводы)"
   ]
  },
  {
   "cell_type": "code",
   "execution_count": 31,
   "metadata": {},
   "outputs": [],
   "source": [
    "def cuped_transform(df, metrics):\n",
    "\n",
    "    new_columns = [str(m+'_cuped') for m in metrics]\n",
    "    df[new_columns] = pd.DataFrame([[0] * len(new_columns)], index=df.index)\n",
    "\n",
    "    df_mini = df.fillna(0)\n",
    "    for m in metrics:\n",
    "        covariate_column = str(m+'_covariate')\n",
    "        cuped_column = str(m+'_cuped')\n",
    "        mean_covariate = df_mini[covariate_column].mean()\n",
    "\n",
    "        theta = (df_mini[m].cov(df_mini[covariate_column]))/(df_mini.loc[:,covariate_column].var())\n",
    "        df_mini[cuped_column] = df_mini[m] - (df_mini[covariate_column] - mean_covariate) * theta\n",
    "\n",
    "    df.update(df_mini)\n",
    "\n",
    "    return df.drop_duplicates()"
   ]
  },
  {
   "cell_type": "markdown",
   "metadata": {},
   "source": [
    "#### 1. Обычная метрика `cart_added_cnt`"
   ]
  },
  {
   "cell_type": "code",
   "execution_count": 32,
   "metadata": {},
   "outputs": [],
   "source": [
    "shop_metrics_all = pd.merge(shop_metrics_new, shop_metrics_old[['user_id', 'cart_added_cnt']], on=['user_id'], how='left')\n",
    "shop_metrics_all = shop_metrics_all\\\n",
    "                   .rename(columns={'cart_added_cnt_x': 'cart_added_cnt', 'cart_added_cnt_y': 'cart_added_cnt_covariate'})\n",
    "\n",
    "shop_metrics_all_cuped = cuped_transform(shop_metrics_all.copy(), ['cart_added_cnt'])"
   ]
  },
  {
   "cell_type": "code",
   "execution_count": 35,
   "metadata": {},
   "outputs": [
    {
     "name": "stdout",
     "output_type": "stream",
     "text": [
      "p-value оригинальной метрики: 0.19197\n",
      "p-value метрики с CUPED: 0.16587\n"
     ]
    }
   ],
   "source": [
    "ttest_original = ttest_ind(\n",
    "    shop_metrics_all[shop_metrics_all.group == 'A']['cart_added_cnt'],\n",
    "    shop_metrics_all[shop_metrics_all.group == 'B']['cart_added_cnt']\n",
    ")\n",
    "ttest_cuped = ttest_ind(\n",
    "    shop_metrics_all_cuped[shop_metrics_all_cuped.group == 'A']['cart_added_cnt_cuped'],\n",
    "    shop_metrics_all_cuped[shop_metrics_all_cuped.group == 'B']['cart_added_cnt_cuped']\n",
    ")\n",
    "\n",
    "print(f'p-value оригинальной метрики: {ttest_original[1]:.5f}')\n",
    "print(f'p-value метрики с CUPED: {ttest_cuped[1]:.5f}')"
   ]
  },
  {
   "cell_type": "code",
   "execution_count": 38,
   "metadata": {},
   "outputs": [
    {
     "name": "stdout",
     "output_type": "stream",
     "text": [
      "mean:\n",
      "метрика_cuped A: 0.13638231572656984,         метрика_cuped B: 0.1372102898471449\n",
      "метрика без cuped A: 0.1350419058398685,         метрика без cuped B: 0.1385521582733813\n",
      "\n",
      "var:\n",
      "метрика_cuped A: 0.018235183599737068,         метрика_cuped B: 0.021495363455189737\n",
      "метрика без cuped A: 0.3805867322092098,         метрика без cuped B: 0.4247189893563619\n",
      "\n",
      "mean covariante:\n",
      "Ковариата A: 0.14055748690723224,         Ковариата B: 0.14342625899280576\n"
     ]
    }
   ],
   "source": [
    "print(\"mean:\")\n",
    "print(f'метрика_cuped A: {shop_metrics_all_cuped[shop_metrics_all_cuped.group == \"A\"][\"cart_added_cnt_cuped\"].mean()}, \\\n",
    "        метрика_cuped B: {shop_metrics_all_cuped[shop_metrics_all_cuped.group == \"B\"][\"cart_added_cnt_cuped\"].mean()}')\n",
    "print(f'метрика без cuped A: {shop_metrics_all_cuped[shop_metrics_all_cuped.group == \"A\"][\"cart_added_cnt\"].mean()}, \\\n",
    "        метрика без cuped B: {shop_metrics_all_cuped[shop_metrics_all_cuped.group == \"B\"][\"cart_added_cnt\"].mean()}\\n')\n",
    "\n",
    "print(\"var:\")\n",
    "print(f'метрика_cuped A: {shop_metrics_all_cuped[shop_metrics_all_cuped.group == \"A\"][\"cart_added_cnt_cuped\"].var()}, \\\n",
    "        метрика_cuped B: {shop_metrics_all_cuped[shop_metrics_all_cuped.group == \"B\"][\"cart_added_cnt_cuped\"].var()}')\n",
    "print(f'метрика без cuped A: {shop_metrics_all_cuped[shop_metrics_all_cuped.group == \"A\"][\"cart_added_cnt\"].var()}, \\\n",
    "        метрика без cuped B: {shop_metrics_all_cuped[shop_metrics_all_cuped.group == \"B\"][\"cart_added_cnt\"].var()}\\n')\n",
    "\n",
    "print(\"mean covariante:\")\n",
    "print(f'Ковариата A: {shop_metrics_all[shop_metrics_all.group == \"A\"][\"cart_added_cnt_covariate\"].mean()}, \\\n",
    "        Ковариата B: {shop_metrics_all[shop_metrics_all.group == \"B\"][\"cart_added_cnt_covariate\"].mean()}')"
   ]
  },
  {
   "cell_type": "markdown",
   "metadata": {},
   "source": [
    "- снижение дисперсии\n",
    "- среднее не изменилось"
   ]
  },
  {
   "cell_type": "code",
   "execution_count": 39,
   "metadata": {},
   "outputs": [
    {
     "data": {
      "application/vnd.jupyter.widget-view+json": {
       "model_id": "beea70003cdd483d84a893b9270fd93b",
       "version_major": 2,
       "version_minor": 0
      },
      "text/plain": [
       "  0%|          | 0/1000 [00:00<?, ?it/s]"
      ]
     },
     "metadata": {},
     "output_type": "display_data"
    },
    {
     "name": "stdout",
     "output_type": "stream",
     "text": [
      " power: 100.0% , correctness: 95.39999999999999%\n"
     ]
    },
    {
     "data": {
      "image/png": "[encoded data removed]",
      "text/plain": [
       "<Figure size 470x427 with 1 Axes>"
      ]
     },
     "metadata": {},
     "output_type": "display_data"
    }
   ],
   "source": [
    "def process_iteration():\n",
    "    new_group = groups_splitter(shop.copy(), user_salt=salt_generator())\n",
    "    new_df = pd.merge(shop, new_group, how=\"left\", on=['user_id']).drop_duplicates()\n",
    "    all_df = pd.merge(new_df, shop_metrics_old[['user_id', 'cart_added_cnt']], on=['user_id'], how='left')\n",
    "    all_df = all_df.rename(columns={'cart_added_cnt_x': 'cart_added_cnt', 'cart_added_cnt_y': 'cart_added_cnt_covariate'})\n",
    "    \n",
    "    cuped_df = cuped_transform(all_df, ['cart_added_cnt'])\n",
    "    \n",
    "    vec_a = cuped_df[(cuped_df['group'] == 'A')]['cart_added_cnt_cuped']\n",
    "    vec_b = cuped_df[(cuped_df['group'] == 'B')]['cart_added_cnt_cuped']\n",
    "    vec_b_effect = vec_b * 1.05\n",
    "    \n",
    "    p_cor = ttest_ind(vec_a, vec_b)[1]\n",
    "    p_power = ttest_ind(vec_a, vec_b_effect)[1]\n",
    "    \n",
    "    return p_cor, p_power\n",
    "\n",
    "results = Parallel(n_jobs=-1)(delayed(process_iteration)() for _ in tqdm(range(1000)))\n",
    "\n",
    "correctness, power = zip(*results)\n",
    "correctness = np.array(correctness)\n",
    "power = np.array(power)\n",
    "\n",
    "sns.set(rc={'figure.figsize':(4.7,4.27)})\n",
    "sns.histplot(data=correctness, bins=10, color='brown', kde=True)\n",
    "\n",
    "power_percent = (power < 0.05).mean() * 100\n",
    "correctness_percent = (1 - (correctness < 0.05).mean()) * 100\n",
    "print(f' power: {power_percent}% , correctness: {correctness_percent}%')"
   ]
  },
  {
   "cell_type": "markdown",
   "metadata": {},
   "source": [
    "#### 2. Логарифмированная метрика `cart_added_cnt`"
   ]
  },
  {
   "cell_type": "code",
   "execution_count": 40,
   "metadata": {},
   "outputs": [],
   "source": [
    "shop_metrics_all = pd.merge(shop_metrics_new, shop_metrics_old[['user_id', 'cart_added_cnt']], on=['user_id'], how='left')\n",
    "shop_metrics_all = shop_metrics_all\\\n",
    "                   .rename(columns={'cart_added_cnt_x': 'cart_added_cnt', 'cart_added_cnt_y': 'cart_added_cnt_covariate'})\n",
    "\n",
    "shop_metrics_all['cart_added_cnt'] = np.log1p(shop_metrics_all['cart_added_cnt'])\n",
    "shop_metrics_all['cart_added_cnt_covariate'] = np.log1p(shop_metrics_all['cart_added_cnt_covariate'])\n",
    "\n",
    "shop_metrics_all_cuped = cuped_transform(shop_metrics_all.copy(), ['cart_added_cnt'])"
   ]
  },
  {
   "cell_type": "code",
   "execution_count": 42,
   "metadata": {},
   "outputs": [
    {
     "name": "stdout",
     "output_type": "stream",
     "text": [
      "p-value:\n",
      "оригинальной метрики: 0.14596542412011718\n",
      "p-value метрики с CUPED: 0.040428574069604185\n",
      "\n",
      "mean:\n",
      "метрика_cuped A: 0.08034157852348506,         метрика_cuped B: 0.08072086382541407\n",
      "метрика без cuped A: 0.07974289062640032,         метрика без cuped B: 0.08132020317245879\n",
      "\n",
      "var:\n",
      "метрика_cuped A: 0.00205501437864457,         метрика_cuped B: 0.001755818733359541\n",
      "метрика без cuped A: 0.0646623295575808,         метрика без cuped B: 0.06628259108485138\n",
      "\n",
      "mean covariante:\n",
      "Ковариата A: 0.08216076367153637,         Ковариата B: 0.08340036327248118\n"
     ]
    }
   ],
   "source": [
    "ttest_original = ttest_ind(\n",
    "    shop_metrics_all[shop_metrics_all.group == 'A']['cart_added_cnt'],\n",
    "    shop_metrics_all[shop_metrics_all.group == 'B']['cart_added_cnt']\n",
    ")\n",
    "ttest_cuped = ttest_ind(\n",
    "    shop_metrics_all_cuped[shop_metrics_all_cuped.group == 'A']['cart_added_cnt_cuped'],\n",
    "    shop_metrics_all_cuped[shop_metrics_all_cuped.group == 'B']['cart_added_cnt_cuped']\n",
    ")\n",
    "\n",
    "print(\"p-value:\")\n",
    "print(f'оригинальной метрики: {ttest_original[1]}')\n",
    "print(f'p-value метрики с CUPED: {ttest_cuped[1]}\\n')\n",
    "\n",
    "print(\"mean:\")\n",
    "print(f'метрика_cuped A: {shop_metrics_all_cuped[shop_metrics_all_cuped.group == \"A\"][\"cart_added_cnt_cuped\"].mean()}, \\\n",
    "        метрика_cuped B: {shop_metrics_all_cuped[shop_metrics_all_cuped.group == \"B\"][\"cart_added_cnt_cuped\"].mean()}')\n",
    "print(f'метрика без cuped A: {shop_metrics_all_cuped[shop_metrics_all_cuped.group == \"A\"][\"cart_added_cnt\"].mean()}, \\\n",
    "        метрика без cuped B: {shop_metrics_all_cuped[shop_metrics_all_cuped.group == \"B\"][\"cart_added_cnt\"].mean()}\\n')\n",
    "\n",
    "\n",
    "print(\"var:\")\n",
    "print(f'метрика_cuped A: {shop_metrics_all_cuped[shop_metrics_all_cuped.group == \"A\"][\"cart_added_cnt_cuped\"].var()}, \\\n",
    "        метрика_cuped B: {shop_metrics_all_cuped[shop_metrics_all_cuped.group == \"B\"][\"cart_added_cnt_cuped\"].var()}')\n",
    "print(f'метрика без cuped A: {shop_metrics_all_cuped[shop_metrics_all_cuped.group == \"A\"][\"cart_added_cnt\"].var()}, \\\n",
    "        метрика без cuped B: {shop_metrics_all_cuped[shop_metrics_all_cuped.group == \"B\"][\"cart_added_cnt\"].var()}\\n')\n",
    "\n",
    "print(\"mean covariante:\")\n",
    "print(f'Ковариата A: {shop_metrics_all[shop_metrics_all.group == \"A\"][\"cart_added_cnt_covariate\"].mean()}, \\\n",
    "        Ковариата B: {shop_metrics_all[shop_metrics_all.group == \"B\"][\"cart_added_cnt_covariate\"].mean()}')"
   ]
  },
  {
   "cell_type": "markdown",
   "metadata": {},
   "source": [
    "- дисперсия еще сильнее уменьшилась\n",
    "- среднее не изменилось"
   ]
  },
  {
   "cell_type": "markdown",
   "metadata": {},
   "source": [
    "После применения логарифмического преобразования к метрикам мы наблюдаем значительное улучшение результатов"
   ]
  },
  {
   "cell_type": "code",
   "execution_count": 43,
   "metadata": {},
   "outputs": [
    {
     "data": {
      "application/vnd.jupyter.widget-view+json": {
       "model_id": "c899acfd6e9a484ba08f9d3b930fb0f6",
       "version_major": 2,
       "version_minor": 0
      },
      "text/plain": [
       "  0%|          | 0/1000 [00:00<?, ?it/s]"
      ]
     },
     "metadata": {},
     "output_type": "display_data"
    },
    {
     "name": "stdout",
     "output_type": "stream",
     "text": [
      " power: 100.0% , correctness: 94.89999999999999%\n"
     ]
    },
    {
     "data": {
      "image/png": "[encoded data removed]",
      "text/plain": [
       "<Figure size 470x427 with 1 Axes>"
      ]
     },
     "metadata": {},
     "output_type": "display_data"
    }
   ],
   "source": [
    "# CUPED на логарифмированной метрике\n",
    "def process_iteration():\n",
    "    new_group = groups_splitter(shop.copy(), user_salt=salt_generator())\n",
    "    new_df = pd.merge(shop, new_group, how=\"left\", on=['user_id']).drop_duplicates()\n",
    "    all_df = pd.merge(new_df, shop_metrics_old[['user_id', 'cart_added_cnt']], on=['user_id'], how='left')\n",
    "    all_df = all_df.rename(columns={'cart_added_cnt_x': 'cart_added_cnt', 'cart_added_cnt_y': 'cart_added_cnt_covariate'})\n",
    "\n",
    "    cuped_df = cuped_transform(all_df, ['cart_added_cnt'])\n",
    "\n",
    "    vec_a = cuped_df[(cuped_df['group'] == 'A')]['cart_added_cnt_cuped']\n",
    "    vec_b = cuped_df[(cuped_df['group'] == 'B')]['cart_added_cnt_cuped']\n",
    "    vec_b_effect = vec_b * 1.05\n",
    "\n",
    "    p_cor = ttest_ind(vec_a, vec_b)[1]\n",
    "    p_power = ttest_ind(vec_a, vec_b_effect)[1]\n",
    "    \n",
    "    return p_cor, p_power\n",
    "\n",
    "results = Parallel(n_jobs=-1)(delayed(process_iteration)() for _ in tqdm(range(1000)))\n",
    "\n",
    "correctness, power = zip(*results)\n",
    "correctness = np.array(correctness)\n",
    "power = np.array(power)\n",
    "\n",
    "sns.set(rc={'figure.figsize':(4.7,4.27)})\n",
    "sns.histplot(data=correctness, bins=10, color='brown', kde=True)\n",
    "\n",
    "power_percent = (power[power < 0.05].shape[0] / power.shape[0]) * 100\n",
    "correctness_percent = (1 - (correctness[correctness < 0.05].shape[0] / correctness.shape[0])) * 100\n",
    "print(f' power: {power_percent}% , correctness: {correctness_percent}%')"
   ]
  },
  {
   "cell_type": "markdown",
   "metadata": {},
   "source": [
    "#### 3. Метрика `cart_added_cnt` с последующим ранговым преобразованием"
   ]
  },
  {
   "cell_type": "code",
   "execution_count": 44,
   "metadata": {},
   "outputs": [],
   "source": [
    "shop_metrics_all = pd.merge(shop_metrics_new, shop_metrics_old[['user_id', 'cart_added_cnt']], on=['user_id'], how='left')\n",
    "shop_metrics_all = shop_metrics_all\\\n",
    "                   .rename(columns={'cart_added_cnt_x': 'cart_added_cnt', 'cart_added_cnt_y': 'cart_added_cnt_covariate'})\n",
    "\n",
    "shop_metrics_all_cuped = cuped_transform(shop_metrics_all.copy(), ['cart_added_cnt'])"
   ]
  },
  {
   "cell_type": "code",
   "execution_count": 45,
   "metadata": {},
   "outputs": [],
   "source": [
    "shop_metrics_all_cuped_ranked = rank_transformation(\n",
    "                            shop_metrics_all_cuped[shop_metrics_all_cuped.group == 'A'],\n",
    "                            shop_metrics_all_cuped[shop_metrics_all_cuped.group == 'B'],\n",
    "'cart_added_cnt_cuped')"
   ]
  },
  {
   "cell_type": "code",
   "execution_count": 46,
   "metadata": {},
   "outputs": [],
   "source": [
    "ranked = rank_transformation(\n",
    "    shop_metrics_all_cuped[shop_metrics_all_cuped['group'] == 'A'],  \n",
    "    shop_metrics_all_cuped[shop_metrics_all_cuped['group'] == 'B'],  \n",
    "    'cart_added_cnt_cuped'\n",
    ")\n",
    "\n",
    "shop_metrics_all_cuped['cart_added_cnt_cuped'] = ranked['rank']"
   ]
  },
  {
   "cell_type": "code",
   "execution_count": 47,
   "metadata": {},
   "outputs": [
    {
     "name": "stdout",
     "output_type": "stream",
     "text": [
      "Корреляция между метрикой и ковариатой: 0.975\n",
      "p-value:\n",
      "оригинальной метрики: 0.19197160099583152\n",
      "метрики с CUPED: 0.14818114788143422\n",
      "\n",
      "mean\n",
      "метрика_cuped A: 111157.3299691882,         метрика_cuped B: 111364.78283723022\n",
      "метрика без cuped A: 0.1350419058398685,         метрика без cuped B: 0.1385521582733813\n",
      "\n",
      "var\n",
      "метрика_cuped A: 1138307738.1923919,         метрика_cuped B: 1151768826.5573704\n",
      "метрика без cuped A: 0.3805867322092098,         метрика без cuped B: 0.4247189893563619\n",
      "\n",
      "mean covariante:\n",
      "Ковариата A: 0.14055748690723224,         Ковариата B: 0.14342625899280576\n"
     ]
    }
   ],
   "source": [
    "correlation = shop_metrics_all['cart_added_cnt'].corr(shop_metrics_all['cart_added_cnt_covariate'])\n",
    "print(f\"Корреляция между метрикой и ковариатой: {correlation:.3f}\")\n",
    "\n",
    "\n",
    "ttest_original = ttest_ind(\n",
    "    shop_metrics_all[shop_metrics_all.group == 'A']['cart_added_cnt'],\n",
    "    shop_metrics_all[shop_metrics_all.group == 'B']['cart_added_cnt']\n",
    ")\n",
    "ttest_cuped = ttest_ind(\n",
    "    shop_metrics_all_cuped[shop_metrics_all_cuped.group == 'A']['cart_added_cnt_cuped'],\n",
    "    shop_metrics_all_cuped[shop_metrics_all_cuped.group == 'B']['cart_added_cnt_cuped']\n",
    ")\n",
    "\n",
    "print(\"p-value:\")\n",
    "print(f'оригинальной метрики: {ttest_original[1]}')\n",
    "print(f'метрики с CUPED: {ttest_cuped[1]}\\n')\n",
    "\n",
    "print(\"mean\")\n",
    "print(f'метрика_cuped A: {shop_metrics_all_cuped[shop_metrics_all_cuped.group == \"A\"][\"cart_added_cnt_cuped\"].mean()}, \\\n",
    "        метрика_cuped B: {shop_metrics_all_cuped[shop_metrics_all_cuped.group == \"B\"][\"cart_added_cnt_cuped\"].mean()}')\n",
    "print(f'метрика без cuped A: {shop_metrics_all_cuped[shop_metrics_all_cuped.group == \"A\"][\"cart_added_cnt\"].mean()}, \\\n",
    "        метрика без cuped B: {shop_metrics_all_cuped[shop_metrics_all_cuped.group == \"B\"][\"cart_added_cnt\"].mean()}\\n')\n",
    "\n",
    "\n",
    "print(\"var\")\n",
    "print(f'метрика_cuped A: {shop_metrics_all_cuped[shop_metrics_all_cuped.group == \"A\"][\"cart_added_cnt_cuped\"].var()}, \\\n",
    "        метрика_cuped B: {shop_metrics_all_cuped[shop_metrics_all_cuped.group == \"B\"][\"cart_added_cnt_cuped\"].var()}')\n",
    "print(f'метрика без cuped A: {shop_metrics_all_cuped[shop_metrics_all_cuped.group == \"A\"][\"cart_added_cnt\"].var()}, \\\n",
    "        метрика без cuped B: {shop_metrics_all_cuped[shop_metrics_all_cuped.group == \"B\"][\"cart_added_cnt\"].var()}\\n')\n",
    "\n",
    "\n",
    "\n",
    "print(\"mean covariante:\")\n",
    "print(f'Ковариата A: {shop_metrics_all[shop_metrics_all.group == \"A\"][\"cart_added_cnt_covariate\"].mean()}, \\\n",
    "        Ковариата B: {shop_metrics_all[shop_metrics_all.group == \"B\"][\"cart_added_cnt_covariate\"].mean()}')"
   ]
  },
  {
   "cell_type": "markdown",
   "metadata": {},
   "source": [
    "- десперсия изменилось -> рузультаты могут быть  хуже чем в других экспериментах\n",
    "- среднее изменилось. "
   ]
  },
  {
   "cell_type": "code",
   "execution_count": 48,
   "metadata": {},
   "outputs": [
    {
     "data": {
      "application/vnd.jupyter.widget-view+json": {
       "model_id": "aed6dea0d05248ecae36fe853d630925",
       "version_major": 2,
       "version_minor": 0
      },
      "text/plain": [
       "  0%|          | 0/1000 [00:00<?, ?it/s]"
      ]
     },
     "metadata": {},
     "output_type": "display_data"
    },
    {
     "name": "stdout",
     "output_type": "stream",
     "text": [
      " power: 100.0% , correctness: 94.39999999999999%\n"
     ]
    },
    {
     "data": {
      "image/png": "[encoded data removed]",
      "text/plain": [
       "<Figure size 470x427 with 1 Axes>"
      ]
     },
     "metadata": {},
     "output_type": "display_data"
    }
   ],
   "source": [
    "#  CUPED на ранжированной метрике\n",
    "def run_experiment():\n",
    "    new_group = groups_splitter(shop.copy(), user_salt=salt_generator())\n",
    "    new_df = pd.merge(shop, new_group, how=\"left\", on=['user_id']).drop_duplicates()\n",
    "    all_df = pd.merge(new_df, shop_metrics_old[['user_id', 'cart_added_cnt']], on=['user_id'], how='left')\n",
    "    all_df = all_df.rename(columns={'cart_added_cnt_x': 'cart_added_cnt', 'cart_added_cnt_y': 'cart_added_cnt_covariate'})\n",
    "    \n",
    "    cuped_df = cuped_transform(all_df, ['cart_added_cnt'])\n",
    "    \n",
    "    vec_a = cuped_df[cuped_df['group'] == 'A']['cart_added_cnt_cuped']\n",
    "    vec_b = cuped_df[cuped_df['group'] == 'B']['cart_added_cnt_cuped']\n",
    "    vec_b_effect = vec_b * 1.05\n",
    "    \n",
    "    p_cor = ttest_ind(vec_a, vec_b)[1]\n",
    "    p_power = ttest_ind(vec_a, vec_b_effect)[1]\n",
    "    \n",
    "    return p_cor, p_power\n",
    "\n",
    "results = Parallel(n_jobs=-1)(delayed(run_experiment)() for _ in tqdm(range(1000)))\n",
    "\n",
    "correctness, power = zip(*results)\n",
    "correctness = np.array(correctness)\n",
    "power = np.array(power)\n",
    "\n",
    "sns.set(rc={'figure.figsize':(4.7,4.27)})\n",
    "sns.histplot(data=correctness, bins=10, color='brown', kde=True)\n",
    "\n",
    "power_percent = (power < 0.05).mean() * 100\n",
    "correctness_percent = (1 - (correctness < 0.05).mean()) * 100\n",
    "\n",
    "print(f' power: {power_percent}% , correctness: {correctness_percent}%')"
   ]
  },
  {
   "cell_type": "markdown",
   "metadata": {},
   "source": [
    "### **3. Реализовать разбивку на бакеты любым (правильным) способом, оценить t-критерием и сравнить с результатом без бакетирования:**\n",
    "- на логнормальном распределении (сгенерированные данные) (5 баллов)\n",
    "- на метрике cart_added_cnt (5 баллов)"
   ]
  },
  {
   "cell_type": "markdown",
   "metadata": {},
   "source": [
    "#### Реализация на `логнормальном распределении` (сгенерированные данные)"
   ]
  },
  {
   "cell_type": "code",
   "execution_count": 63,
   "metadata": {},
   "outputs": [
    {
     "name": "stdout",
     "output_type": "stream",
     "text": [
      "Без бакетирования:\n",
      " t-статистика: -0.8526\n",
      " p-value: 0.3939\n"
     ]
    }
   ],
   "source": [
    "np.random.seed(77)  \n",
    "n_samples = 10000\n",
    "\n",
    "control_data = np.random.lognormal(mean=0, sigma=1, size=n_samples)\n",
    "\n",
    "effect = 0.03\n",
    "test_data = np.random.lognormal(mean=0, sigma=1, size=n_samples) * (1 + effect)\n",
    "\n",
    "t_stat_no_bucket, p_value_no_bucket = stats.ttest_ind(control_data, test_data)\n",
    "print(\"Без бакетирования:\")\n",
    "print(f\" t-статистика: {round(t_stat_no_bucket, 4)}\")\n",
    "print(f\" p-value: {round(p_value_no_bucket, 4)}\")"
   ]
  },
  {
   "cell_type": "code",
   "execution_count": 64,
   "metadata": {},
   "outputs": [
    {
     "name": "stdout",
     "output_type": "stream",
     "text": [
      "С бакетированием:\n",
      " Бакет 1: t-стат = -2.4336, p-value = 0.015\n",
      " Бакет 2: t-стат = -6.5383, p-value = 0.0\n",
      " Бакет 3: t-стат = -9.6983, p-value = 0.0\n",
      " Бакет 4: t-стат = -11.6563, p-value = 0.0\n",
      " Бакет 5: t-стат = -12.1897, p-value = 0.0\n",
      " Бакет 6: t-стат = -8.6872, p-value = 0.0\n",
      " Бакет 7: t-стат = -8.1095, p-value = 0.0\n",
      " Бакет 8: t-стат = -8.4091, p-value = 0.0\n",
      " Бакет 9: t-стат = -5.0875, p-value = 0.0\n",
      " Бакет 10: t-стат = 0.3401, p-value = 0.7338\n"
     ]
    }
   ],
   "source": [
    "def create_buckets(data, n_buckets=10):\n",
    "    bucket_edges = np.percentile(data, np.linspace(0, 100, n_buckets + 1))\n",
    "    return [data[(data >= bucket_edges[i]) & (data <= bucket_edges[i+1] if i == n_buckets-1 else data < bucket_edges[i+1])] \n",
    "            for i in range(n_buckets)]\n",
    "\n",
    "control_buckets = create_buckets(control_data)\n",
    "test_buckets = create_buckets(test_data)\n",
    "\n",
    "results = [stats.ttest_ind(c_bucket, t_bucket) for c_bucket, t_bucket in zip(control_buckets, test_buckets)]\n",
    "t_stats_buckets, p_values_buckets = zip(*results)\n",
    "\n",
    "print(\"С бакетированием:\")\n",
    "for i, (t_stat, p_val) in enumerate(zip(t_stats_buckets, p_values_buckets), start=1):\n",
    "    print(f\" Бакет {i}: t-стат = {round(t_stat, 4)}, p-value = {round(p_val, 4)}\")\n"
   ]
  },
  {
   "cell_type": "markdown",
   "metadata": {},
   "source": [
    "Без применения бакетирования существенной разницы между группами не обнаруживается (p-value =  0.39 > 0.05). \n",
    "\n",
    "Однако после разбиения на бакеты в большинстве сегментов наблюдается статистически значимая разница. Это объясняется сильной скошенностью логнормального распределения"
   ]
  },
  {
   "cell_type": "markdown",
   "metadata": {},
   "source": [
    "#### Реализация на метрике `cart_added_cnt`"
   ]
  },
  {
   "cell_type": "code",
   "execution_count": 70,
   "metadata": {},
   "outputs": [
    {
     "name": "stdout",
     "output_type": "stream",
     "text": [
      "Статистика до бакетирования:\n",
      "mean A: 0.1350, mean B: 0.1386\n",
      "var A: 0.3806, var B: 0.4247\n",
      "t-test: t=-1.3048, p=0.1920\n",
      "\n"
     ]
    }
   ],
   "source": [
    "df_a = shop_metrics_new[shop_metrics_new['group'] == 'A']['cart_added_cnt']\n",
    "df_b = shop_metrics_new[shop_metrics_new['group'] == 'B']['cart_added_cnt']\n",
    "\n",
    "def create_buckets(data, n_buckets=3):\n",
    "    edges = np.percentile(data, np.linspace(0, 100, n_buckets + 1))\n",
    "    return [data[(data >= edges[i]) & (data < edges[i + 1])] for i in range(n_buckets)]\n",
    "\n",
    "print(f\"Статистика до бакетирования:\")\n",
    "print(f\"mean A: {df_a.mean():.4f}, mean B: {df_b.mean():.4f}\")\n",
    "print(f\"var A: {df_a.var():.4f}, var B: {df_b.var():.4f}\")\n",
    "\n",
    "t_stat, p_val = stats.ttest_ind(df_a, df_b)\n",
    "print(f\"t-test: t={t_stat:.4f}, p={p_val:.4f}\\n\")"
   ]
  },
  {
   "cell_type": "code",
   "execution_count": 71,
   "metadata": {},
   "outputs": [
    {
     "name": "stdout",
     "output_type": "stream",
     "text": [
      "Результаты по бакетам:\n",
      "Бакет 1: недостаточно данных.\n",
      "Бакет 2: недостаточно данных.\n",
      "Бакет 3:\n",
      "mean A: 0.1345, mean B: 0.1379\n",
      "var A: 0.3473, var B: 0.3743\n",
      "t-test: t=-1.3287, p=0.1840\n"
     ]
    }
   ],
   "source": [
    "buckets_a = create_buckets(df_a)\n",
    "buckets_b = create_buckets(df_b)\n",
    "\n",
    "print(\"Результаты по бакетам:\")\n",
    "for i, (bucket_a, bucket_b) in enumerate(zip(buckets_a, buckets_b), start=1):\n",
    "    if len(bucket_a) == 0 or len(bucket_b) == 0:\n",
    "        print(f\"Бакет {i}: недостаточно данных.\")\n",
    "        continue\n",
    "\n",
    "    t_stat, p_val = stats.ttest_ind(bucket_a, bucket_b)\n",
    "    print(f\"Бакет {i}:\")\n",
    "    print(f\"mean A: {bucket_a.mean():.4f}, mean B: {bucket_b.mean():.4f}\")\n",
    "    print(f\"var A: {bucket_a.var():.4f}, var B: {bucket_b.var():.4f}\")\n",
    "    print(f\"t-test: t={t_stat:.4f}, p={p_val:.4f}\")"
   ]
  },
  {
   "cell_type": "markdown",
   "metadata": {},
   "source": [
    "### Анализ метрики cart_added_cnt\n",
    "\n",
    "**Без применения бакетирования:**\n",
    "- Среднее значение в группе A составило **0.1350**, в группе B — **0.1386**\n",
    "- Статистический анализ показал отсутствие значимых различий между группами (p-value = 0.1920 > 0.05)\n",
    "\n",
    "**После применения бакетирования:**\n",
    "- Обнаружена проблема с распределением данных — большинство бакетов оказались пустыми\n",
    "- Анализ единственного заполненного бакета (№3):\n",
    "  - Группа A: **0.1345**\n",
    "  - Группа B: **0.1379**\n",
    "  - Различия статистически незначимы (p-value = 0.1840 > 0.05)\n",
    "\n",
    "**Выводы:**\n",
    "- Эксперимент не выявил статистически значимого влияния изменений в группе B\n",
    "- Метод бакетирования оказался малоэффективным из-за недостаточного объема данных в большинстве сегментов"
   ]
  },
  {
   "cell_type": "markdown",
   "metadata": {},
   "source": [
    "### **4. Реализовать постстратификацию на данных shop_metrics_old для метрики cart_added_cnt:**\n",
    "- на сочетании пола и возраста (возраст разбить на подгруппы: 18-24, 25-45, 46-60, 61-75, 76+) (5 баллов)\n",
    "подсчитать результаты для случая без постстратификации и с постстратификацией. (дисперсию и среднее)\n",
    "- проверить мощность и корректность t-критерия для постстратифицированного случая (5 баллов)"
   ]
  },
  {
   "cell_type": "code",
   "execution_count": 76,
   "metadata": {},
   "outputs": [],
   "source": [
    "shop_w_features = pd.merge(shop_metrics_old, shop_users_info, on='user_id', how='left')\n",
    "labels = ['18-24', '25-45', '46-60', '61-75', '76+']\n",
    "shop_w_features['age_group'] = pd.cut(shop_w_features['user_age'], \n",
    "                                      bins=[18, 24, 45, 60, 75, np.inf], \n",
    "                                      labels=labels)"
   ]
  },
  {
   "cell_type": "code",
   "execution_count": 77,
   "metadata": {},
   "outputs": [
    {
     "name": "stdout",
     "output_type": "stream",
     "text": [
      "t: -0.7332, p: 0.4634\n",
      "effect: 1.12%\n",
      "var A: 0.5767, var B: 0.5988\n"
     ]
    }
   ],
   "source": [
    "# t-тест\n",
    "group_a = shop_w_features[shop_w_features.group == 'A']['cart_added_cnt']\n",
    "group_b = shop_w_features[shop_w_features.group == 'B']['cart_added_cnt']\n",
    "\n",
    "t_stat, p_value = stats.ttest_ind(group_a, group_b)\n",
    "print(f\"t: {t_stat:.4f}, p: {p_value:.4f}\")\n",
    "\n",
    "relative_change = (group_b.mean() - group_a.mean()) / group_a.mean() * 100\n",
    "print(f\"effect: {relative_change:.2f}%\")\n",
    "\n",
    "print(f\"var A: {group_a.std():.4f}, var B: {group_b.std():.4f}\")"
   ]
  },
  {
   "cell_type": "code",
   "execution_count": 78,
   "metadata": {},
   "outputs": [
    {
     "name": "stdout",
     "output_type": "stream",
     "text": [
      "Без постстратификации: effect: 1.12%, std_a: 0.58, std_b: 0.60\n",
      "p-value без постстратификации: 0.4634\n",
      "Эффект: 1.1242734540045785\n"
     ]
    }
   ],
   "source": [
    "N = shop_w_features['user_id'].nunique()\n",
    "strats_weights = {group: count/N for group, count in shop_w_features['age_group'].value_counts().items()}\n",
    "\n",
    "group_a = shop_w_features[shop_w_features.group == 'A']['cart_added_cnt']\n",
    "group_b = shop_w_features[shop_w_features.group == 'B']['cart_added_cnt']\n",
    "\n",
    "mean_a = group_a.mean()\n",
    "mean_b = group_b.mean()\n",
    "std_a = group_a.std()\n",
    "std_b = group_b.std()\n",
    "\n",
    "effect = (mean_b - mean_a) / mean_a * 100\n",
    "p_value_classic = stats.ttest_ind(group_a, group_b)[1]\n",
    "\n",
    "print(f'Без постстратификации: effect: {effect:.2f}%, std_a: {std_a:.2f}, std_b: {std_b:.2f}')\n",
    "print(f'p-value без постстратификации: {p_value_classic:.4f}')\n",
    "print('Эффект:', effect)"
   ]
  },
  {
   "cell_type": "code",
   "execution_count": 79,
   "metadata": {},
   "outputs": [
    {
     "name": "stdout",
     "output_type": "stream",
     "text": [
      "Среднее с постстратификацией (A): 0.1187, (B): 0.1197\n",
      "Стандартное отклонение с постстратификацией (A): 0.5744, (B): 0.5838\n",
      "t-статистика с постстратификацией: -0.5810, p-value: 0.5612\n",
      "t-статистика без постстратификации: -0.7332, p-value: 0.4634\n"
     ]
    }
   ],
   "source": [
    "mean_a = 0\n",
    "mean_b = 0\n",
    "var_a = 0\n",
    "var_b = 0\n",
    "\n",
    "for age_group in labels:\n",
    "    group_a_age = shop_w_features[(shop_w_features.group == 'A') & (shop_w_features['age_group'] == age_group)]['cart_added_cnt']\n",
    "    group_b_age = shop_w_features[(shop_w_features.group == 'B') & (shop_w_features['age_group'] == age_group)]['cart_added_cnt']\n",
    "    \n",
    "    weight = strats_weights[age_group]\n",
    "    mean_a += group_a_age.mean() * weight\n",
    "    mean_b += group_b_age.mean() * weight\n",
    "    var_a += group_a_age.var() * weight\n",
    "    var_b += group_b_age.var() * weight\n",
    "\n",
    "std_a = np.sqrt(var_a)\n",
    "std_b = np.sqrt(var_b)\n",
    "\n",
    "print(f\"Среднее с постстратификацией (A): {mean_a:.4f}, (B): {mean_b:.4f}\")\n",
    "print(f\"Стандартное отклонение с постстратификацией (A): {std_a:.4f}, (B): {std_b:.4f}\")\n",
    "\n",
    "n_a = len(shop_w_features[shop_w_features.group == 'A'])\n",
    "n_b = len(shop_w_features[shop_w_features.group == 'B'])\n",
    "\n",
    "t_stat, p_value = stats.ttest_ind_from_stats(mean_a, std_a, n_a, mean_b, std_b, n_b)\n",
    "print(f\"t-статистика с постстратификацией: {t_stat:.4f}, p-value: {p_value:.4f}\")\n",
    "\n",
    "t_stat_base, p_value_base = stats.ttest_ind(\n",
    "    shop_w_features[shop_w_features.group == 'A']['cart_added_cnt'],\n",
    "    shop_w_features[shop_w_features.group == 'B']['cart_added_cnt']\n",
    ")\n",
    "print(f\"t-статистика без постстратификации: {t_stat_base:.4f}, p-value: {p_value_base:.4f}\")"
   ]
  },
  {
   "cell_type": "markdown",
   "metadata": {},
   "source": [
    "##### Результаты:\n",
    "\n",
    "- **Без постстратификации**:  \n",
    "  - Эффект: 1.12%\n",
    "  - p-value: 0.4634\n",
    "\n",
    "- **С применением постстратификации**:  \n",
    "  - p-value: 0.5612\n",
    "\n",
    "Статистический анализ метрики **cart_added_cnt** не выявил значимых различий между группами (p-value > 0.05 в обоих случаях).\n",
    "\n",
    "##### Заключение:\n",
    "\n",
    "- Наблюдаемое небольшое увеличение среднего значения в группе B статистически незначимо\n",
    "- Использование постстратификации подтвердило вывод — между группами не выявлено статистически значимых различий."
   ]
  },
  {
   "cell_type": "markdown",
   "metadata": {},
   "source": [
    "## Выводы:\n",
    " 1. Анализ метрики **`cart_added_cnt`** выявил существенную асимметрию распределения, что создало определенные сложности при применении стандартных статистических методов.\n",
    " 2. В ходе исследования было установлено, что непараметрический критерий Манна-Уитни демонстрирует наилучшие характеристики для данного типа распределения:\n",
    " \n",
    " - **Мощность теста: 100.0%**  \n",
    "   Метод безошибочно идентифицирует статистически значимые эффекты при их наличии.  \n",
    " - **Точность: 95.5%**  \n",
    "   Вероятность ложноположительных результатов составляет всего 4.5%, что обеспечивает высокую надежность выводов.  \n",
    " - **Устойчивость к выбросам**  \n",
    "  Критерий сохраняет эффективность даже при наличии экстремальных значений в данных.\n"
   ]
  }
 ],
 "metadata": {
  "kernelspec": {
   "display_name": "Python 3 (ipykernel)",
   "language": "python",
   "name": "python3"
  },
  "language_info": {
   "codemirror_mode": {
    "name": "ipython",
    "version": 3
   },
   "file_extension": ".py",
   "mimetype": "text/x-python",
   "name": "python",
   "nbconvert_exporter": "python",
   "pygments_lexer": "ipython3",
   "version": "3.9.17"
  }
 },
 "nbformat": 4,
 "nbformat_minor": 4
}
